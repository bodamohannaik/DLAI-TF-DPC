{
  "nbformat": 4,
  "nbformat_minor": 0,
  "metadata": {
    "colab": {
      "name": "fashion_mnist_practice.ipynb",
      "provenance": [],
      "collapsed_sections": [],
      "toc_visible": true,
      "authorship_tag": "ABX9TyP7ul3fTxn5YKtWlJwP7Yh3",
      "include_colab_link": true
    },
    "kernelspec": {
      "name": "python3",
      "display_name": "Python 3"
    },
    "language_info": {
      "name": "python"
    }
  },
  "cells": [
    {
      "cell_type": "markdown",
      "metadata": {
        "id": "view-in-github",
        "colab_type": "text"
      },
      "source": [
        "<a href=\"https://colab.research.google.com/github/bodamohannaik/DLAI-TF-DPC/blob/master/C1/W2/fashion_mnist_practice.ipynb\" target=\"_parent\"><img src=\"https://colab.research.google.com/assets/colab-badge.svg\" alt=\"Open In Colab\"/></a>"
      ]
    },
    {
      "cell_type": "markdown",
      "source": [
        "# Import libraries"
      ],
      "metadata": {
        "id": "8z0ax7nFCKXo"
      }
    },
    {
      "cell_type": "code",
      "execution_count": 1,
      "metadata": {
        "id": "bCegKr2YCCJI"
      },
      "outputs": [],
      "source": [
        "import matplotlib.pyplot as plt\n",
        "import numpy as np\n",
        "import tensorflow as tf"
      ]
    },
    {
      "cell_type": "markdown",
      "source": [
        "# Load Dataset"
      ],
      "metadata": {
        "id": "19EO0e24CJNh"
      }
    },
    {
      "cell_type": "code",
      "source": [
        "(data_train, labels_train), (data_test, labels_test) = tf.keras.datasets.fashion_mnist.load_data()"
      ],
      "metadata": {
        "colab": {
          "base_uri": "https://localhost:8080/"
        },
        "id": "457GExHsCwJ_",
        "outputId": "b6c8a790-a618-45da-9c02-0db9d529e065"
      },
      "execution_count": 2,
      "outputs": [
        {
          "output_type": "stream",
          "name": "stdout",
          "text": [
            "Downloading data from https://storage.googleapis.com/tensorflow/tf-keras-datasets/train-labels-idx1-ubyte.gz\n",
            "32768/29515 [=================================] - 0s 0us/step\n",
            "40960/29515 [=========================================] - 0s 0us/step\n",
            "Downloading data from https://storage.googleapis.com/tensorflow/tf-keras-datasets/train-images-idx3-ubyte.gz\n",
            "26427392/26421880 [==============================] - 1s 0us/step\n",
            "26435584/26421880 [==============================] - 1s 0us/step\n",
            "Downloading data from https://storage.googleapis.com/tensorflow/tf-keras-datasets/t10k-labels-idx1-ubyte.gz\n",
            "16384/5148 [===============================================================================================] - 0s 0us/step\n",
            "Downloading data from https://storage.googleapis.com/tensorflow/tf-keras-datasets/t10k-images-idx3-ubyte.gz\n",
            "4423680/4422102 [==============================] - 0s 0us/step\n",
            "4431872/4422102 [==============================] - 0s 0us/step\n"
          ]
        }
      ]
    },
    {
      "cell_type": "code",
      "source": [
        "print(f\"data_train shape : {data_train.shape}, labels_train shape: {labels_train.shape}\")\n",
        "print(f\"data_test shape : {data_test.shape}, labels_test shape: {labels_test.shape}\")"
      ],
      "metadata": {
        "colab": {
          "base_uri": "https://localhost:8080/"
        },
        "id": "IdA0nlBeFqki",
        "outputId": "cf235540-1b59-46c1-8554-76acca005729"
      },
      "execution_count": 3,
      "outputs": [
        {
          "output_type": "stream",
          "name": "stdout",
          "text": [
            "data_train shape : (60000, 28, 28), labels_train shape: (60000,)\n",
            "data_test shape : (10000, 28, 28), labels_test shape: (10000,)\n"
          ]
        }
      ]
    },
    {
      "cell_type": "code",
      "source": [
        "data_train[0]"
      ],
      "metadata": {
        "colab": {
          "base_uri": "https://localhost:8080/"
        },
        "id": "hMrDAxsAGJs6",
        "outputId": "6743a1e8-eb6b-4d97-f2da-c56edc2eb596"
      },
      "execution_count": 4,
      "outputs": [
        {
          "output_type": "execute_result",
          "data": {
            "text/plain": [
              "array([[  0,   0,   0,   0,   0,   0,   0,   0,   0,   0,   0,   0,   0,\n",
              "          0,   0,   0,   0,   0,   0,   0,   0,   0,   0,   0,   0,   0,\n",
              "          0,   0],\n",
              "       [  0,   0,   0,   0,   0,   0,   0,   0,   0,   0,   0,   0,   0,\n",
              "          0,   0,   0,   0,   0,   0,   0,   0,   0,   0,   0,   0,   0,\n",
              "          0,   0],\n",
              "       [  0,   0,   0,   0,   0,   0,   0,   0,   0,   0,   0,   0,   0,\n",
              "          0,   0,   0,   0,   0,   0,   0,   0,   0,   0,   0,   0,   0,\n",
              "          0,   0],\n",
              "       [  0,   0,   0,   0,   0,   0,   0,   0,   0,   0,   0,   0,   1,\n",
              "          0,   0,  13,  73,   0,   0,   1,   4,   0,   0,   0,   0,   1,\n",
              "          1,   0],\n",
              "       [  0,   0,   0,   0,   0,   0,   0,   0,   0,   0,   0,   0,   3,\n",
              "          0,  36, 136, 127,  62,  54,   0,   0,   0,   1,   3,   4,   0,\n",
              "          0,   3],\n",
              "       [  0,   0,   0,   0,   0,   0,   0,   0,   0,   0,   0,   0,   6,\n",
              "          0, 102, 204, 176, 134, 144, 123,  23,   0,   0,   0,   0,  12,\n",
              "         10,   0],\n",
              "       [  0,   0,   0,   0,   0,   0,   0,   0,   0,   0,   0,   0,   0,\n",
              "          0, 155, 236, 207, 178, 107, 156, 161, 109,  64,  23,  77, 130,\n",
              "         72,  15],\n",
              "       [  0,   0,   0,   0,   0,   0,   0,   0,   0,   0,   0,   1,   0,\n",
              "         69, 207, 223, 218, 216, 216, 163, 127, 121, 122, 146, 141,  88,\n",
              "        172,  66],\n",
              "       [  0,   0,   0,   0,   0,   0,   0,   0,   0,   1,   1,   1,   0,\n",
              "        200, 232, 232, 233, 229, 223, 223, 215, 213, 164, 127, 123, 196,\n",
              "        229,   0],\n",
              "       [  0,   0,   0,   0,   0,   0,   0,   0,   0,   0,   0,   0,   0,\n",
              "        183, 225, 216, 223, 228, 235, 227, 224, 222, 224, 221, 223, 245,\n",
              "        173,   0],\n",
              "       [  0,   0,   0,   0,   0,   0,   0,   0,   0,   0,   0,   0,   0,\n",
              "        193, 228, 218, 213, 198, 180, 212, 210, 211, 213, 223, 220, 243,\n",
              "        202,   0],\n",
              "       [  0,   0,   0,   0,   0,   0,   0,   0,   0,   1,   3,   0,  12,\n",
              "        219, 220, 212, 218, 192, 169, 227, 208, 218, 224, 212, 226, 197,\n",
              "        209,  52],\n",
              "       [  0,   0,   0,   0,   0,   0,   0,   0,   0,   0,   6,   0,  99,\n",
              "        244, 222, 220, 218, 203, 198, 221, 215, 213, 222, 220, 245, 119,\n",
              "        167,  56],\n",
              "       [  0,   0,   0,   0,   0,   0,   0,   0,   0,   4,   0,   0,  55,\n",
              "        236, 228, 230, 228, 240, 232, 213, 218, 223, 234, 217, 217, 209,\n",
              "         92,   0],\n",
              "       [  0,   0,   1,   4,   6,   7,   2,   0,   0,   0,   0,   0, 237,\n",
              "        226, 217, 223, 222, 219, 222, 221, 216, 223, 229, 215, 218, 255,\n",
              "         77,   0],\n",
              "       [  0,   3,   0,   0,   0,   0,   0,   0,   0,  62, 145, 204, 228,\n",
              "        207, 213, 221, 218, 208, 211, 218, 224, 223, 219, 215, 224, 244,\n",
              "        159,   0],\n",
              "       [  0,   0,   0,   0,  18,  44,  82, 107, 189, 228, 220, 222, 217,\n",
              "        226, 200, 205, 211, 230, 224, 234, 176, 188, 250, 248, 233, 238,\n",
              "        215,   0],\n",
              "       [  0,  57, 187, 208, 224, 221, 224, 208, 204, 214, 208, 209, 200,\n",
              "        159, 245, 193, 206, 223, 255, 255, 221, 234, 221, 211, 220, 232,\n",
              "        246,   0],\n",
              "       [  3, 202, 228, 224, 221, 211, 211, 214, 205, 205, 205, 220, 240,\n",
              "         80, 150, 255, 229, 221, 188, 154, 191, 210, 204, 209, 222, 228,\n",
              "        225,   0],\n",
              "       [ 98, 233, 198, 210, 222, 229, 229, 234, 249, 220, 194, 215, 217,\n",
              "        241,  65,  73, 106, 117, 168, 219, 221, 215, 217, 223, 223, 224,\n",
              "        229,  29],\n",
              "       [ 75, 204, 212, 204, 193, 205, 211, 225, 216, 185, 197, 206, 198,\n",
              "        213, 240, 195, 227, 245, 239, 223, 218, 212, 209, 222, 220, 221,\n",
              "        230,  67],\n",
              "       [ 48, 203, 183, 194, 213, 197, 185, 190, 194, 192, 202, 214, 219,\n",
              "        221, 220, 236, 225, 216, 199, 206, 186, 181, 177, 172, 181, 205,\n",
              "        206, 115],\n",
              "       [  0, 122, 219, 193, 179, 171, 183, 196, 204, 210, 213, 207, 211,\n",
              "        210, 200, 196, 194, 191, 195, 191, 198, 192, 176, 156, 167, 177,\n",
              "        210,  92],\n",
              "       [  0,   0,  74, 189, 212, 191, 175, 172, 175, 181, 185, 188, 189,\n",
              "        188, 193, 198, 204, 209, 210, 210, 211, 188, 188, 194, 192, 216,\n",
              "        170,   0],\n",
              "       [  2,   0,   0,   0,  66, 200, 222, 237, 239, 242, 246, 243, 244,\n",
              "        221, 220, 193, 191, 179, 182, 182, 181, 176, 166, 168,  99,  58,\n",
              "          0,   0],\n",
              "       [  0,   0,   0,   0,   0,   0,   0,  40,  61,  44,  72,  41,  35,\n",
              "          0,   0,   0,   0,   0,   0,   0,   0,   0,   0,   0,   0,   0,\n",
              "          0,   0],\n",
              "       [  0,   0,   0,   0,   0,   0,   0,   0,   0,   0,   0,   0,   0,\n",
              "          0,   0,   0,   0,   0,   0,   0,   0,   0,   0,   0,   0,   0,\n",
              "          0,   0],\n",
              "       [  0,   0,   0,   0,   0,   0,   0,   0,   0,   0,   0,   0,   0,\n",
              "          0,   0,   0,   0,   0,   0,   0,   0,   0,   0,   0,   0,   0,\n",
              "          0,   0]], dtype=uint8)"
            ]
          },
          "metadata": {},
          "execution_count": 4
        }
      ]
    },
    {
      "cell_type": "code",
      "source": [
        "labels_train[:5]"
      ],
      "metadata": {
        "colab": {
          "base_uri": "https://localhost:8080/"
        },
        "id": "a-OcoqhVGR6R",
        "outputId": "4e85b3dc-ead2-44a5-d050-ec92957c1644"
      },
      "execution_count": 5,
      "outputs": [
        {
          "output_type": "execute_result",
          "data": {
            "text/plain": [
              "array([9, 0, 0, 3, 0], dtype=uint8)"
            ]
          },
          "metadata": {},
          "execution_count": 5
        }
      ]
    },
    {
      "cell_type": "markdown",
      "source": [
        "# Visualize the Data"
      ],
      "metadata": {
        "id": "oXyxIWPZGaBZ"
      }
    },
    {
      "cell_type": "code",
      "source": [
        "fig, axs = plt.subplots(4, 4, figsize = (6,10))\n",
        "for i in range(16):\n",
        "  ax = plt.subplot(4,4, i+1)\n",
        "  ax.imshow(data_train[i])\n",
        "  ax.set_title(f\"label: {labels_train[i]}\")"
      ],
      "metadata": {
        "colab": {
          "base_uri": "https://localhost:8080/",
          "height": 562
        },
        "id": "rkTbOrMMGVZE",
        "outputId": "9d2b71c1-070f-4471-da71-aad5d6e89111"
      },
      "execution_count": 6,
      "outputs": [
        {
          "output_type": "display_data",
          "data": {
            "text/plain": [
              "<Figure size 432x720 with 16 Axes>"
            ],
            "image/png": "[encoded data removed]"
          },
          "metadata": {
            "needs_background": "light"
          }
        }
      ]
    },
    {
      "cell_type": "code",
      "source": [
        "data_train.max()"
      ],
      "metadata": {
        "colab": {
          "base_uri": "https://localhost:8080/"
        },
        "id": "mZCfY65MdlLR",
        "outputId": "651ca573-66af-4b68-eb9e-46cc35cc0f51"
      },
      "execution_count": 7,
      "outputs": [
        {
          "output_type": "execute_result",
          "data": {
            "text/plain": [
              "255"
            ]
          },
          "metadata": {},
          "execution_count": 7
        }
      ]
    },
    {
      "cell_type": "markdown",
      "source": [
        "\n",
        "Label\tDescription\n",
        "0\tT-shirt/top\n",
        "\n",
        "1\tTrouser\n",
        "\n",
        "2\tPullover\n",
        "\n",
        "3\tDress\n",
        "\n",
        "4\tCoat\n",
        "\n",
        "5\tSandal\n",
        "\n",
        "6\tShirt\n",
        "\n",
        "7\tSneaker\n",
        "\n",
        "8\tBag\n",
        "\n",
        "9\tAnkle boot"
      ],
      "metadata": {
        "id": "iylrO258KE8y"
      }
    },
    {
      "cell_type": "markdown",
      "source": [
        "# Neural Network"
      ],
      "metadata": {
        "id": "kcLJFwIfczbe"
      }
    },
    {
      "cell_type": "markdown",
      "source": [
        ""
      ],
      "metadata": {
        "id": "_XmUe2ASKJZf"
      }
    },
    {
      "cell_type": "code",
      "source": [
        "model = tf.keras.Sequential(\n",
        "    layers = [\n",
        "              tf.keras.layers.Input(shape=data_train.shape[1:]),\n",
        "              tf.keras.layers.Rescaling(scale = 1/data_train.max()),\n",
        "              tf.keras.layers.Flatten(),\n",
        "              tf.keras.layers.Dense(units=32, activation='relu'),\n",
        "              tf.keras.layers.Dense(10, activation='softmax')\n",
        "    ]\n",
        ")\n",
        "model.summary()"
      ],
      "metadata": {
        "id": "3n2ZZRq-JV-K",
        "colab": {
          "base_uri": "https://localhost:8080/"
        },
        "outputId": "398ac80e-3263-46d8-80ef-0de7789c1751"
      },
      "execution_count": 8,
      "outputs": [
        {
          "output_type": "stream",
          "name": "stdout",
          "text": [
            "Model: \"sequential\"\n",
            "_________________________________________________________________\n",
            " Layer (type)                Output Shape              Param #   \n",
            "=================================================================\n",
            " rescaling (Rescaling)       (None, 28, 28)            0         \n",
            "                                                                 \n",
            " flatten (Flatten)           (None, 784)               0         \n",
            "                                                                 \n",
            " dense (Dense)               (None, 32)                25120     \n",
            "                                                                 \n",
            " dense_1 (Dense)             (None, 10)                330       \n",
            "                                                                 \n",
            "=================================================================\n",
            "Total params: 25,450\n",
            "Trainable params: 25,450\n",
            "Non-trainable params: 0\n",
            "_________________________________________________________________\n"
          ]
        }
      ]
    },
    {
      "cell_type": "code",
      "source": [
        "# compile\n",
        "model.compile(optimizer='adam', loss=\"sparse_categorical_crossentropy\", metrics = [\"accuracy\"])"
      ],
      "metadata": {
        "id": "S0TkP-4ge6nn"
      },
      "execution_count": 9,
      "outputs": []
    },
    {
      "cell_type": "code",
      "source": [
        "# fit the model\n",
        "model.fit(x = data_train, y=labels_train, epochs = 10, batch_size=32, validation_data = (data_test, labels_test))"
      ],
      "metadata": {
        "colab": {
          "base_uri": "https://localhost:8080/"
        },
        "id": "CXoCsU6uf5U2",
        "outputId": "603ab24a-2078-4b72-9353-352ca83960c8"
      },
      "execution_count": 10,
      "outputs": [
        {
          "output_type": "stream",
          "name": "stdout",
          "text": [
            "Epoch 1/10\n",
            "1875/1875 [==============================] - 4s 2ms/step - loss: 0.5462 - accuracy: 0.8122 - val_loss: 0.4792 - val_accuracy: 0.8286\n",
            "Epoch 2/10\n",
            "1875/1875 [==============================] - 3s 2ms/step - loss: 0.4185 - accuracy: 0.8512 - val_loss: 0.4186 - val_accuracy: 0.8499\n",
            "Epoch 3/10\n",
            "1875/1875 [==============================] - 5s 3ms/step - loss: 0.3827 - accuracy: 0.8628 - val_loss: 0.4103 - val_accuracy: 0.8560\n",
            "Epoch 4/10\n",
            "1875/1875 [==============================] - 6s 3ms/step - loss: 0.3575 - accuracy: 0.8714 - val_loss: 0.4048 - val_accuracy: 0.8545\n",
            "Epoch 5/10\n",
            "1875/1875 [==============================] - 6s 3ms/step - loss: 0.3396 - accuracy: 0.8767 - val_loss: 0.3857 - val_accuracy: 0.8589\n",
            "Epoch 6/10\n",
            "1875/1875 [==============================] - 3s 2ms/step - loss: 0.3262 - accuracy: 0.8819 - val_loss: 0.3618 - val_accuracy: 0.8666\n",
            "Epoch 7/10\n",
            "1875/1875 [==============================] - 3s 2ms/step - loss: 0.3142 - accuracy: 0.8847 - val_loss: 0.3780 - val_accuracy: 0.8643\n",
            "Epoch 8/10\n",
            "1875/1875 [==============================] - 3s 2ms/step - loss: 0.3046 - accuracy: 0.8894 - val_loss: 0.3882 - val_accuracy: 0.8583\n",
            "Epoch 9/10\n",
            "1875/1875 [==============================] - 3s 2ms/step - loss: 0.2974 - accuracy: 0.8921 - val_loss: 0.3746 - val_accuracy: 0.8626\n",
            "Epoch 10/10\n",
            "1875/1875 [==============================] - 3s 2ms/step - loss: 0.2910 - accuracy: 0.8938 - val_loss: 0.3801 - val_accuracy: 0.8662\n"
          ]
        },
        {
          "output_type": "execute_result",
          "data": {
            "text/plain": [
              "<keras.callbacks.History at 0x7f8d1e612450>"
            ]
          },
          "metadata": {},
          "execution_count": 10
        }
      ]
    },
    {
      "cell_type": "markdown",
      "source": [
        "# Exercises "
      ],
      "metadata": {
        "id": "Bvt24zHtjj1M"
      }
    },
    {
      "cell_type": "code",
      "source": [
        "# softmax\n",
        "data = np.array([[2.0,1.0,4.0,3.0]])\n",
        "tensor = tf.convert_to_tensor(data)\n",
        "print(tensor)\n",
        "data_softmax = tf.keras.activations.softmax(tensor)\n",
        "print(data_softmax)\n",
        "print(f\"sum: {tf.reduce_sum(data_softmax)}\")\n",
        "print(f\"max index:{tf.argmax(data_softmax, axis = -1)} \")"
      ],
      "metadata": {
        "colab": {
          "base_uri": "https://localhost:8080/"
        },
        "id": "o7RsHRrdjeVT",
        "outputId": "2af75e77-b170-430d-a474-b8069961b37d"
      },
      "execution_count": 11,
      "outputs": [
        {
          "output_type": "stream",
          "name": "stdout",
          "text": [
            "tf.Tensor([[2. 1. 4. 3.]], shape=(1, 4), dtype=float64)\n",
            "tf.Tensor([[0.08714432 0.0320586  0.64391426 0.23688282]], shape=(1, 4), dtype=float64)\n",
            "sum: 1.0\n",
            "max index:[2] \n"
          ]
        }
      ]
    },
    {
      "cell_type": "code",
      "source": [
        "# exercise 2, we get probabilites \n",
        "labels_test_pred = model.predict(data_test)\n",
        "labels_test[0], labels_test_pred[0]"
      ],
      "metadata": {
        "colab": {
          "base_uri": "https://localhost:8080/"
        },
        "id": "DpRT4T7AmKa3",
        "outputId": "2585c6e7-b449-495a-ff02-306334f32b26"
      },
      "execution_count": 12,
      "outputs": [
        {
          "output_type": "execute_result",
          "data": {
            "text/plain": [
              "(9, array([9.3037052e-08, 8.3609191e-09, 1.4629246e-07, 6.5248554e-07,\n",
              "        9.2422617e-08, 5.8258023e-02, 5.4199529e-07, 5.6381587e-02,\n",
              "        6.7150977e-04, 8.8468742e-01], dtype=float32))"
            ]
          },
          "metadata": {},
          "execution_count": 12
        }
      ]
    },
    {
      "cell_type": "code",
      "source": [
        "# excercise 3, more units sometimes can give better accuracy and overfit\n",
        "model = tf.keras.Sequential(\n",
        "    layers = [\n",
        "              tf.keras.layers.Input(shape=data_train.shape[1:]),\n",
        "              tf.keras.layers.Rescaling(scale = 1/data_train.max()),\n",
        "              tf.keras.layers.Flatten(),\n",
        "              tf.keras.layers.Dense(units=1024, activation='relu'),\n",
        "              tf.keras.layers.Dense(10, activation='softmax')\n",
        "    ]\n",
        ")\n",
        "model.summary()\n",
        "# compile\n",
        "model.compile(optimizer='adam', loss=\"sparse_categorical_crossentropy\", metrics = [\"accuracy\"])\n",
        "# fit the model\n",
        "model.fit(x = data_train, y=labels_train, epochs = 10, batch_size=32, validation_data = (data_test, labels_test))\n",
        "labels_test_pred = model.predict(data_test)\n",
        "labels_test[0], labels_test_pred[0]"
      ],
      "metadata": {
        "colab": {
          "base_uri": "https://localhost:8080/"
        },
        "id": "BV-4vwM4oNC9",
        "outputId": "ec1e9b4c-5a08-44d4-f408-561ec3a552b9"
      },
      "execution_count": 13,
      "outputs": [
        {
          "output_type": "stream",
          "name": "stdout",
          "text": [
            "Model: \"sequential_1\"\n",
            "_________________________________________________________________\n",
            " Layer (type)                Output Shape              Param #   \n",
            "=================================================================\n",
            " rescaling_1 (Rescaling)     (None, 28, 28)            0         \n",
            "                                                                 \n",
            " flatten_1 (Flatten)         (None, 784)               0         \n",
            "                                                                 \n",
            " dense_2 (Dense)             (None, 1024)              803840    \n",
            "                                                                 \n",
            " dense_3 (Dense)             (None, 10)                10250     \n",
            "                                                                 \n",
            "=================================================================\n",
            "Total params: 814,090\n",
            "Trainable params: 814,090\n",
            "Non-trainable params: 0\n",
            "_________________________________________________________________\n",
            "Epoch 1/10\n",
            "1875/1875 [==============================] - 11s 6ms/step - loss: 0.4699 - accuracy: 0.8323 - val_loss: 0.4536 - val_accuracy: 0.8285\n",
            "Epoch 2/10\n",
            "1875/1875 [==============================] - 11s 6ms/step - loss: 0.3588 - accuracy: 0.8676 - val_loss: 0.3616 - val_accuracy: 0.8687\n",
            "Epoch 3/10\n",
            "1875/1875 [==============================] - 11s 6ms/step - loss: 0.3206 - accuracy: 0.8824 - val_loss: 0.3505 - val_accuracy: 0.8745\n",
            "Epoch 4/10\n",
            "1875/1875 [==============================] - 11s 6ms/step - loss: 0.2967 - accuracy: 0.8909 - val_loss: 0.3532 - val_accuracy: 0.8729\n",
            "Epoch 5/10\n",
            "1875/1875 [==============================] - 10s 6ms/step - loss: 0.2769 - accuracy: 0.8976 - val_loss: 0.3510 - val_accuracy: 0.8726\n",
            "Epoch 6/10\n",
            "1875/1875 [==============================] - 11s 6ms/step - loss: 0.2643 - accuracy: 0.9018 - val_loss: 0.3228 - val_accuracy: 0.8843\n",
            "Epoch 7/10\n",
            "1875/1875 [==============================] - 11s 6ms/step - loss: 0.2513 - accuracy: 0.9063 - val_loss: 0.3586 - val_accuracy: 0.8713\n",
            "Epoch 8/10\n",
            "1875/1875 [==============================] - 11s 6ms/step - loss: 0.2383 - accuracy: 0.9104 - val_loss: 0.3362 - val_accuracy: 0.8835\n",
            "Epoch 9/10\n",
            "1875/1875 [==============================] - 11s 6ms/step - loss: 0.2292 - accuracy: 0.9140 - val_loss: 0.3428 - val_accuracy: 0.8848\n",
            "Epoch 10/10\n",
            "1875/1875 [==============================] - 11s 6ms/step - loss: 0.2202 - accuracy: 0.9172 - val_loss: 0.3288 - val_accuracy: 0.8894\n"
          ]
        },
        {
          "output_type": "execute_result",
          "data": {
            "text/plain": [
              "(9, array([1.8047797e-07, 1.2397913e-10, 3.7876982e-10, 5.7945337e-12,\n",
              "        1.2218510e-10, 7.4490457e-04, 1.7076183e-09, 1.7263212e-03,\n",
              "        1.1745598e-08, 9.9752861e-01], dtype=float32))"
            ]
          },
          "metadata": {},
          "execution_count": 13
        }
      ]
    },
    {
      "cell_type": "code",
      "source": [
        "# excercise 4 - remove Flatten layer\n",
        "model = tf.keras.Sequential(\n",
        "    layers = [\n",
        "              tf.keras.layers.Input(shape=data_train.shape[1:]),\n",
        "              tf.keras.layers.Rescaling(scale = 1/data_train.max()),\n",
        "              # tf.keras.layers.Flatten(),\n",
        "              tf.keras.layers.Dense(units=1024, activation='relu'),\n",
        "              tf.keras.layers.Dense(10, activation='softmax')\n",
        "    ]\n",
        ")\n",
        "model.summary()\n",
        "# compile\n",
        "model.compile(optimizer='adam', loss=\"sparse_categorical_crossentropy\", metrics = [\"accuracy\"])\n",
        "# fit the model\n",
        "model.fit(x = data_train, y=labels_train, epochs = 10, batch_size=32, validation_data = (data_test, labels_test))\n",
        "labels_test_pred = model.predict(data_test)\n",
        "labels_test[0], labels_test_pred[0]"
      ],
      "metadata": {
        "colab": {
          "base_uri": "https://localhost:8080/",
          "height": 1000
        },
        "id": "TJCYQPFZpCjN",
        "outputId": "e11dd068-cf50-46c0-e7bb-f7d849ea900f"
      },
      "execution_count": 14,
      "outputs": [
        {
          "output_type": "stream",
          "name": "stdout",
          "text": [
            "Model: \"sequential_2\"\n",
            "_________________________________________________________________\n",
            " Layer (type)                Output Shape              Param #   \n",
            "=================================================================\n",
            " rescaling_2 (Rescaling)     (None, 28, 28)            0         \n",
            "                                                                 \n",
            " dense_4 (Dense)             (None, 28, 1024)          29696     \n",
            "                                                                 \n",
            " dense_5 (Dense)             (None, 28, 10)            10250     \n",
            "                                                                 \n",
            "=================================================================\n",
            "Total params: 39,946\n",
            "Trainable params: 39,946\n",
            "Non-trainable params: 0\n",
            "_________________________________________________________________\n",
            "Epoch 1/10\n"
          ]
        },
        {
          "output_type": "error",
          "ename": "ValueError",
          "evalue": "ignored",
          "traceback": [
            "\u001b[0;31m---------------------------------------------------------------------------\u001b[0m",
            "\u001b[0;31mValueError\u001b[0m                                Traceback (most recent call last)",
            "\u001b[0;32m<ipython-input-14-0f641880549a>\u001b[0m in \u001b[0;36m<module>\u001b[0;34m()\u001b[0m\n\u001b[1;32m     13\u001b[0m \u001b[0mmodel\u001b[0m\u001b[0;34m.\u001b[0m\u001b[0mcompile\u001b[0m\u001b[0;34m(\u001b[0m\u001b[0moptimizer\u001b[0m\u001b[0;34m=\u001b[0m\u001b[0;34m'adam'\u001b[0m\u001b[0;34m,\u001b[0m \u001b[0mloss\u001b[0m\u001b[0;34m=\u001b[0m\u001b[0;34m\"sparse_categorical_crossentropy\"\u001b[0m\u001b[0;34m,\u001b[0m \u001b[0mmetrics\u001b[0m \u001b[0;34m=\u001b[0m \u001b[0;34m[\u001b[0m\u001b[0;34m\"accuracy\"\u001b[0m\u001b[0;34m]\u001b[0m\u001b[0;34m)\u001b[0m\u001b[0;34m\u001b[0m\u001b[0;34m\u001b[0m\u001b[0m\n\u001b[1;32m     14\u001b[0m \u001b[0;31m# fit the model\u001b[0m\u001b[0;34m\u001b[0m\u001b[0;34m\u001b[0m\u001b[0;34m\u001b[0m\u001b[0m\n\u001b[0;32m---> 15\u001b[0;31m \u001b[0mmodel\u001b[0m\u001b[0;34m.\u001b[0m\u001b[0mfit\u001b[0m\u001b[0;34m(\u001b[0m\u001b[0mx\u001b[0m \u001b[0;34m=\u001b[0m \u001b[0mdata_train\u001b[0m\u001b[0;34m,\u001b[0m \u001b[0my\u001b[0m\u001b[0;34m=\u001b[0m\u001b[0mlabels_train\u001b[0m\u001b[0;34m,\u001b[0m \u001b[0mepochs\u001b[0m \u001b[0;34m=\u001b[0m \u001b[0;36m10\u001b[0m\u001b[0;34m,\u001b[0m \u001b[0mbatch_size\u001b[0m\u001b[0;34m=\u001b[0m\u001b[0;36m32\u001b[0m\u001b[0;34m,\u001b[0m \u001b[0mvalidation_data\u001b[0m \u001b[0;34m=\u001b[0m \u001b[0;34m(\u001b[0m\u001b[0mdata_test\u001b[0m\u001b[0;34m,\u001b[0m \u001b[0mlabels_test\u001b[0m\u001b[0;34m)\u001b[0m\u001b[0;34m)\u001b[0m\u001b[0;34m\u001b[0m\u001b[0;34m\u001b[0m\u001b[0m\n\u001b[0m\u001b[1;32m     16\u001b[0m \u001b[0mlabels_test_pred\u001b[0m \u001b[0;34m=\u001b[0m \u001b[0mmodel\u001b[0m\u001b[0;34m.\u001b[0m\u001b[0mpredict\u001b[0m\u001b[0;34m(\u001b[0m\u001b[0mdata_test\u001b[0m\u001b[0;34m)\u001b[0m\u001b[0;34m\u001b[0m\u001b[0;34m\u001b[0m\u001b[0m\n\u001b[1;32m     17\u001b[0m \u001b[0mlabels_test\u001b[0m\u001b[0;34m[\u001b[0m\u001b[0;36m0\u001b[0m\u001b[0;34m]\u001b[0m\u001b[0;34m,\u001b[0m \u001b[0mlabels_test_pred\u001b[0m\u001b[0;34m[\u001b[0m\u001b[0;36m0\u001b[0m\u001b[0;34m]\u001b[0m\u001b[0;34m\u001b[0m\u001b[0;34m\u001b[0m\u001b[0m\n",
            "\u001b[0;32m/usr/local/lib/python3.7/dist-packages/keras/utils/traceback_utils.py\u001b[0m in \u001b[0;36merror_handler\u001b[0;34m(*args, **kwargs)\u001b[0m\n\u001b[1;32m     65\u001b[0m     \u001b[0;32mexcept\u001b[0m \u001b[0mException\u001b[0m \u001b[0;32mas\u001b[0m \u001b[0me\u001b[0m\u001b[0;34m:\u001b[0m  \u001b[0;31m# pylint: disable=broad-except\u001b[0m\u001b[0;34m\u001b[0m\u001b[0;34m\u001b[0m\u001b[0m\n\u001b[1;32m     66\u001b[0m       \u001b[0mfiltered_tb\u001b[0m \u001b[0;34m=\u001b[0m \u001b[0m_process_traceback_frames\u001b[0m\u001b[0;34m(\u001b[0m\u001b[0me\u001b[0m\u001b[0;34m.\u001b[0m\u001b[0m__traceback__\u001b[0m\u001b[0;34m)\u001b[0m\u001b[0;34m\u001b[0m\u001b[0;34m\u001b[0m\u001b[0m\n\u001b[0;32m---> 67\u001b[0;31m       \u001b[0;32mraise\u001b[0m \u001b[0me\u001b[0m\u001b[0;34m.\u001b[0m\u001b[0mwith_traceback\u001b[0m\u001b[0;34m(\u001b[0m\u001b[0mfiltered_tb\u001b[0m\u001b[0;34m)\u001b[0m \u001b[0;32mfrom\u001b[0m \u001b[0;32mNone\u001b[0m\u001b[0;34m\u001b[0m\u001b[0;34m\u001b[0m\u001b[0m\n\u001b[0m\u001b[1;32m     68\u001b[0m     \u001b[0;32mfinally\u001b[0m\u001b[0;34m:\u001b[0m\u001b[0;34m\u001b[0m\u001b[0;34m\u001b[0m\u001b[0m\n\u001b[1;32m     69\u001b[0m       \u001b[0;32mdel\u001b[0m \u001b[0mfiltered_tb\u001b[0m\u001b[0;34m\u001b[0m\u001b[0;34m\u001b[0m\u001b[0m\n",
            "\u001b[0;32m/usr/local/lib/python3.7/dist-packages/tensorflow/python/framework/func_graph.py\u001b[0m in \u001b[0;36mautograph_handler\u001b[0;34m(*args, **kwargs)\u001b[0m\n\u001b[1;32m   1145\u001b[0m           \u001b[0;32mexcept\u001b[0m \u001b[0mException\u001b[0m \u001b[0;32mas\u001b[0m \u001b[0me\u001b[0m\u001b[0;34m:\u001b[0m  \u001b[0;31m# pylint:disable=broad-except\u001b[0m\u001b[0;34m\u001b[0m\u001b[0;34m\u001b[0m\u001b[0m\n\u001b[1;32m   1146\u001b[0m             \u001b[0;32mif\u001b[0m \u001b[0mhasattr\u001b[0m\u001b[0;34m(\u001b[0m\u001b[0me\u001b[0m\u001b[0;34m,\u001b[0m \u001b[0;34m\"ag_error_metadata\"\u001b[0m\u001b[0;34m)\u001b[0m\u001b[0;34m:\u001b[0m\u001b[0;34m\u001b[0m\u001b[0;34m\u001b[0m\u001b[0m\n\u001b[0;32m-> 1147\u001b[0;31m               \u001b[0;32mraise\u001b[0m \u001b[0me\u001b[0m\u001b[0;34m.\u001b[0m\u001b[0mag_error_metadata\u001b[0m\u001b[0;34m.\u001b[0m\u001b[0mto_exception\u001b[0m\u001b[0;34m(\u001b[0m\u001b[0me\u001b[0m\u001b[0;34m)\u001b[0m\u001b[0;34m\u001b[0m\u001b[0;34m\u001b[0m\u001b[0m\n\u001b[0m\u001b[1;32m   1148\u001b[0m             \u001b[0;32melse\u001b[0m\u001b[0;34m:\u001b[0m\u001b[0;34m\u001b[0m\u001b[0;34m\u001b[0m\u001b[0m\n\u001b[1;32m   1149\u001b[0m               \u001b[0;32mraise\u001b[0m\u001b[0;34m\u001b[0m\u001b[0;34m\u001b[0m\u001b[0m\n",
            "\u001b[0;31mValueError\u001b[0m: in user code:\n\n    File \"/usr/local/lib/python3.7/dist-packages/keras/engine/training.py\", line 1021, in train_function  *\n        return step_function(self, iterator)\n    File \"/usr/local/lib/python3.7/dist-packages/keras/engine/training.py\", line 1010, in step_function  **\n        outputs = model.distribute_strategy.run(run_step, args=(data,))\n    File \"/usr/local/lib/python3.7/dist-packages/keras/engine/training.py\", line 1000, in run_step  **\n        outputs = model.train_step(data)\n    File \"/usr/local/lib/python3.7/dist-packages/keras/engine/training.py\", line 860, in train_step\n        loss = self.compute_loss(x, y, y_pred, sample_weight)\n    File \"/usr/local/lib/python3.7/dist-packages/keras/engine/training.py\", line 919, in compute_loss\n        y, y_pred, sample_weight, regularization_losses=self.losses)\n    File \"/usr/local/lib/python3.7/dist-packages/keras/engine/compile_utils.py\", line 201, in __call__\n        loss_value = loss_obj(y_t, y_p, sample_weight=sw)\n    File \"/usr/local/lib/python3.7/dist-packages/keras/losses.py\", line 141, in __call__\n        losses = call_fn(y_true, y_pred)\n    File \"/usr/local/lib/python3.7/dist-packages/keras/losses.py\", line 245, in call  **\n        return ag_fn(y_true, y_pred, **self._fn_kwargs)\n    File \"/usr/local/lib/python3.7/dist-packages/keras/losses.py\", line 1863, in sparse_categorical_crossentropy\n        y_true, y_pred, from_logits=from_logits, axis=axis)\n    File \"/usr/local/lib/python3.7/dist-packages/keras/backend.py\", line 5203, in sparse_categorical_crossentropy\n        labels=target, logits=output)\n\n    ValueError: `labels.shape` must equal `logits.shape` except for the last dimension. Received: labels.shape=(32,) and logits.shape=(896, 10)\n"
          ]
        }
      ]
    },
    {
      "cell_type": "code",
      "source": [
        "# excercise 5 - more hidden layers, overfits , simple tasks does not require hidden layers\n",
        "model = tf.keras.Sequential(\n",
        "    layers = [\n",
        "              tf.keras.layers.Input(shape=data_train.shape[1:]),\n",
        "              tf.keras.layers.Rescaling(scale = 1/data_train.max()),\n",
        "              tf.keras.layers.Flatten(),\n",
        "              tf.keras.layers.Dense(units=512, activation='relu'),\n",
        "              tf.keras.layers.Dense(units=256, activation='relu'),\n",
        "              tf.keras.layers.Dense(10, activation='softmax')\n",
        "    ]\n",
        ")\n",
        "model.summary()\n",
        "# compile\n",
        "model.compile(optimizer='adam', loss=\"sparse_categorical_crossentropy\", metrics = [\"accuracy\"])\n",
        "# fit the model\n",
        "model.fit(x = data_train, y=labels_train, epochs = 10, batch_size=32, validation_data = (data_test, labels_test))\n",
        "labels_test_pred = model.predict(data_test)\n",
        "labels_test[0], labels_test_pred[0]"
      ],
      "metadata": {
        "colab": {
          "base_uri": "https://localhost:8080/"
        },
        "id": "NwWl51fMs3nW",
        "outputId": "cf37fe45-cbb0-49cb-a5a5-07e3c595d5ff"
      },
      "execution_count": 15,
      "outputs": [
        {
          "output_type": "stream",
          "name": "stdout",
          "text": [
            "Model: \"sequential_3\"\n",
            "_________________________________________________________________\n",
            " Layer (type)                Output Shape              Param #   \n",
            "=================================================================\n",
            " rescaling_3 (Rescaling)     (None, 28, 28)            0         \n",
            "                                                                 \n",
            " flatten_2 (Flatten)         (None, 784)               0         \n",
            "                                                                 \n",
            " dense_6 (Dense)             (None, 512)               401920    \n",
            "                                                                 \n",
            " dense_7 (Dense)             (None, 256)               131328    \n",
            "                                                                 \n",
            " dense_8 (Dense)             (None, 10)                2570      \n",
            "                                                                 \n",
            "=================================================================\n",
            "Total params: 535,818\n",
            "Trainable params: 535,818\n",
            "Non-trainable params: 0\n",
            "_________________________________________________________________\n",
            "Epoch 1/10\n",
            "1875/1875 [==============================] - 9s 5ms/step - loss: 0.4702 - accuracy: 0.8299 - val_loss: 0.4067 - val_accuracy: 0.8522\n",
            "Epoch 2/10\n",
            "1875/1875 [==============================] - 9s 5ms/step - loss: 0.3546 - accuracy: 0.8684 - val_loss: 0.3773 - val_accuracy: 0.8614\n",
            "Epoch 3/10\n",
            "1875/1875 [==============================] - 9s 5ms/step - loss: 0.3201 - accuracy: 0.8821 - val_loss: 0.3447 - val_accuracy: 0.8728\n",
            "Epoch 4/10\n",
            "1875/1875 [==============================] - 13s 7ms/step - loss: 0.2974 - accuracy: 0.8892 - val_loss: 0.3405 - val_accuracy: 0.8802\n",
            "Epoch 5/10\n",
            "1875/1875 [==============================] - 10s 5ms/step - loss: 0.2788 - accuracy: 0.8953 - val_loss: 0.3303 - val_accuracy: 0.8768\n",
            "Epoch 6/10\n",
            "1875/1875 [==============================] - 9s 5ms/step - loss: 0.2653 - accuracy: 0.9004 - val_loss: 0.3293 - val_accuracy: 0.8852\n",
            "Epoch 7/10\n",
            "1875/1875 [==============================] - 9s 5ms/step - loss: 0.2515 - accuracy: 0.9048 - val_loss: 0.3485 - val_accuracy: 0.8851\n",
            "Epoch 8/10\n",
            "1875/1875 [==============================] - 9s 5ms/step - loss: 0.2401 - accuracy: 0.9093 - val_loss: 0.3292 - val_accuracy: 0.8851\n",
            "Epoch 9/10\n",
            "1875/1875 [==============================] - 10s 5ms/step - loss: 0.2281 - accuracy: 0.9146 - val_loss: 0.3670 - val_accuracy: 0.8740\n",
            "Epoch 10/10\n",
            "1875/1875 [==============================] - 9s 5ms/step - loss: 0.2213 - accuracy: 0.9155 - val_loss: 0.3412 - val_accuracy: 0.8831\n"
          ]
        },
        {
          "output_type": "execute_result",
          "data": {
            "text/plain": [
              "(9, array([4.3124219e-11, 4.4814625e-12, 5.3836692e-11, 2.4831262e-08,\n",
              "        2.2792229e-08, 2.0178024e-05, 2.6230218e-10, 1.7865754e-04,\n",
              "        2.2158229e-10, 9.9980110e-01], dtype=float32))"
            ]
          },
          "metadata": {},
          "execution_count": 15
        }
      ]
    },
    {
      "cell_type": "code",
      "source": [
        "# excercise 6 - more epochs , not needed if it converges quickly \n",
        "model = tf.keras.Sequential(\n",
        "    layers = [\n",
        "              tf.keras.layers.Input(shape=data_train.shape[1:]),\n",
        "              tf.keras.layers.Rescaling(scale = 1/data_train.max()),\n",
        "              tf.keras.layers.Flatten(),\n",
        "              tf.keras.layers.Dense(units=32, activation='relu'),\n",
        "              tf.keras.layers.Dense(10, activation='softmax')\n",
        "    ]\n",
        ")\n",
        "model.summary()\n",
        "# compile\n",
        "model.compile(optimizer='adam', loss=\"sparse_categorical_crossentropy\", metrics = [\"accuracy\"])\n",
        "# fit the model\n",
        "model.fit(x = data_train, y=labels_train, epochs = 30, batch_size=32, validation_data = (data_test, labels_test))\n",
        "labels_test_pred = model.predict(data_test)\n",
        "labels_test[0], labels_test_pred[0]"
      ],
      "metadata": {
        "colab": {
          "base_uri": "https://localhost:8080/"
        },
        "id": "m6-2wgtautKP",
        "outputId": "d369b47d-9253-4656-e6e2-30267117c653"
      },
      "execution_count": 16,
      "outputs": [
        {
          "output_type": "stream",
          "name": "stdout",
          "text": [
            "Model: \"sequential_4\"\n",
            "_________________________________________________________________\n",
            " Layer (type)                Output Shape              Param #   \n",
            "=================================================================\n",
            " rescaling_4 (Rescaling)     (None, 28, 28)            0         \n",
            "                                                                 \n",
            " flatten_3 (Flatten)         (None, 784)               0         \n",
            "                                                                 \n",
            " dense_9 (Dense)             (None, 32)                25120     \n",
            "                                                                 \n",
            " dense_10 (Dense)            (None, 10)                330       \n",
            "                                                                 \n",
            "=================================================================\n",
            "Total params: 25,450\n",
            "Trainable params: 25,450\n",
            "Non-trainable params: 0\n",
            "_________________________________________________________________\n",
            "Epoch 1/30\n",
            "1875/1875 [==============================] - 4s 2ms/step - loss: 0.5482 - accuracy: 0.8123 - val_loss: 0.4611 - val_accuracy: 0.8384\n",
            "Epoch 2/30\n",
            "1875/1875 [==============================] - 3s 2ms/step - loss: 0.4152 - accuracy: 0.8559 - val_loss: 0.4314 - val_accuracy: 0.8489\n",
            "Epoch 3/30\n",
            "1875/1875 [==============================] - 3s 2ms/step - loss: 0.3823 - accuracy: 0.8656 - val_loss: 0.4163 - val_accuracy: 0.8543\n",
            "Epoch 4/30\n",
            "1875/1875 [==============================] - 4s 2ms/step - loss: 0.3606 - accuracy: 0.8716 - val_loss: 0.3853 - val_accuracy: 0.8630\n",
            "Epoch 5/30\n",
            "1875/1875 [==============================] - 3s 2ms/step - loss: 0.3456 - accuracy: 0.8762 - val_loss: 0.3985 - val_accuracy: 0.8586\n",
            "Epoch 6/30\n",
            "1875/1875 [==============================] - 3s 2ms/step - loss: 0.3338 - accuracy: 0.8796 - val_loss: 0.3844 - val_accuracy: 0.8643\n",
            "Epoch 7/30\n",
            "1875/1875 [==============================] - 3s 2ms/step - loss: 0.3225 - accuracy: 0.8837 - val_loss: 0.3867 - val_accuracy: 0.8628\n",
            "Epoch 8/30\n",
            "1875/1875 [==============================] - 4s 2ms/step - loss: 0.3134 - accuracy: 0.8870 - val_loss: 0.3681 - val_accuracy: 0.8707\n",
            "Epoch 9/30\n",
            "1875/1875 [==============================] - 4s 2ms/step - loss: 0.3047 - accuracy: 0.8890 - val_loss: 0.3597 - val_accuracy: 0.8735\n",
            "Epoch 10/30\n",
            "1875/1875 [==============================] - 4s 2ms/step - loss: 0.2966 - accuracy: 0.8922 - val_loss: 0.3841 - val_accuracy: 0.8661\n",
            "Epoch 11/30\n",
            "1875/1875 [==============================] - 4s 2ms/step - loss: 0.2921 - accuracy: 0.8938 - val_loss: 0.4037 - val_accuracy: 0.8624\n",
            "Epoch 12/30\n",
            "1875/1875 [==============================] - 3s 2ms/step - loss: 0.2885 - accuracy: 0.8953 - val_loss: 0.3665 - val_accuracy: 0.8708\n",
            "Epoch 13/30\n",
            "1875/1875 [==============================] - 3s 2ms/step - loss: 0.2830 - accuracy: 0.8971 - val_loss: 0.3786 - val_accuracy: 0.8631\n",
            "Epoch 14/30\n",
            "1875/1875 [==============================] - 3s 2ms/step - loss: 0.2785 - accuracy: 0.8987 - val_loss: 0.3698 - val_accuracy: 0.8695\n",
            "Epoch 15/30\n",
            "1875/1875 [==============================] - 3s 2ms/step - loss: 0.2733 - accuracy: 0.8994 - val_loss: 0.3650 - val_accuracy: 0.8714\n",
            "Epoch 16/30\n",
            "1875/1875 [==============================] - 3s 2ms/step - loss: 0.2718 - accuracy: 0.9004 - val_loss: 0.3847 - val_accuracy: 0.8628\n",
            "Epoch 17/30\n",
            "1875/1875 [==============================] - 3s 2ms/step - loss: 0.2655 - accuracy: 0.9036 - val_loss: 0.3582 - val_accuracy: 0.8734\n",
            "Epoch 18/30\n",
            "1875/1875 [==============================] - 3s 2ms/step - loss: 0.2636 - accuracy: 0.9038 - val_loss: 0.3556 - val_accuracy: 0.8747\n",
            "Epoch 19/30\n",
            "1875/1875 [==============================] - 3s 2ms/step - loss: 0.2589 - accuracy: 0.9050 - val_loss: 0.3731 - val_accuracy: 0.8726\n",
            "Epoch 20/30\n",
            "1875/1875 [==============================] - 3s 2ms/step - loss: 0.2589 - accuracy: 0.9056 - val_loss: 0.3885 - val_accuracy: 0.8705\n",
            "Epoch 21/30\n",
            "1875/1875 [==============================] - 3s 2ms/step - loss: 0.2548 - accuracy: 0.9066 - val_loss: 0.4074 - val_accuracy: 0.8631\n",
            "Epoch 22/30\n",
            "1875/1875 [==============================] - 3s 2ms/step - loss: 0.2536 - accuracy: 0.9057 - val_loss: 0.3691 - val_accuracy: 0.8766\n",
            "Epoch 23/30\n",
            "1875/1875 [==============================] - 3s 2ms/step - loss: 0.2492 - accuracy: 0.9076 - val_loss: 0.3737 - val_accuracy: 0.8706\n",
            "Epoch 24/30\n",
            "1875/1875 [==============================] - 3s 2ms/step - loss: 0.2460 - accuracy: 0.9107 - val_loss: 0.3579 - val_accuracy: 0.8761\n",
            "Epoch 25/30\n",
            "1875/1875 [==============================] - 3s 2ms/step - loss: 0.2440 - accuracy: 0.9115 - val_loss: 0.3711 - val_accuracy: 0.8677\n",
            "Epoch 26/30\n",
            "1875/1875 [==============================] - 3s 2ms/step - loss: 0.2421 - accuracy: 0.9117 - val_loss: 0.3670 - val_accuracy: 0.8739\n",
            "Epoch 27/30\n",
            "1875/1875 [==============================] - 3s 2ms/step - loss: 0.2392 - accuracy: 0.9125 - val_loss: 0.3693 - val_accuracy: 0.8732\n",
            "Epoch 28/30\n",
            "1875/1875 [==============================] - 3s 2ms/step - loss: 0.2362 - accuracy: 0.9133 - val_loss: 0.3814 - val_accuracy: 0.8658\n",
            "Epoch 29/30\n",
            "1875/1875 [==============================] - 3s 2ms/step - loss: 0.2355 - accuracy: 0.9135 - val_loss: 0.3756 - val_accuracy: 0.8762\n",
            "Epoch 30/30\n",
            "1875/1875 [==============================] - 4s 2ms/step - loss: 0.2336 - accuracy: 0.9140 - val_loss: 0.3852 - val_accuracy: 0.8689\n"
          ]
        },
        {
          "output_type": "execute_result",
          "data": {
            "text/plain": [
              "(9, array([6.2469629e-09, 2.6497112e-16, 3.6347627e-09, 4.3214634e-16,\n",
              "        5.5229575e-12, 5.7720864e-04, 4.5549921e-08, 2.5576842e-04,\n",
              "        1.6375700e-12, 9.9916697e-01], dtype=float32))"
            ]
          },
          "metadata": {},
          "execution_count": 16
        }
      ]
    },
    {
      "cell_type": "code",
      "source": [
        "# excercise 7 - without feature scaling\n",
        "model = tf.keras.Sequential(\n",
        "    layers = [\n",
        "              tf.keras.layers.Input(shape=data_train.shape[1:]),\n",
        "              # tf.keras.layers.Rescaling(scale = 1/data_train.max()),\n",
        "              tf.keras.layers.Flatten(),\n",
        "              tf.keras.layers.Dense(units=32, activation='relu'),\n",
        "              tf.keras.layers.Dense(10, activation='softmax')\n",
        "    ]\n",
        ")\n",
        "model.summary()\n",
        "# compile\n",
        "model.compile(optimizer='adam', loss=\"sparse_categorical_crossentropy\", metrics = [\"accuracy\"])\n",
        "# fit the model\n",
        "model.fit(x = data_train, y=labels_train, epochs = 10, batch_size=32, validation_data = (data_test, labels_test))\n",
        "labels_test_pred = model.predict(data_test)\n",
        "labels_test[0], labels_test_pred[0]"
      ],
      "metadata": {
        "colab": {
          "base_uri": "https://localhost:8080/"
        },
        "id": "2ZuqDJTzwJSo",
        "outputId": "f117d6a9-9515-4485-d0b7-b4d57a42fc95"
      },
      "execution_count": 17,
      "outputs": [
        {
          "output_type": "stream",
          "name": "stdout",
          "text": [
            "Model: \"sequential_5\"\n",
            "_________________________________________________________________\n",
            " Layer (type)                Output Shape              Param #   \n",
            "=================================================================\n",
            " flatten_4 (Flatten)         (None, 784)               0         \n",
            "                                                                 \n",
            " dense_11 (Dense)            (None, 32)                25120     \n",
            "                                                                 \n",
            " dense_12 (Dense)            (None, 10)                330       \n",
            "                                                                 \n",
            "=================================================================\n",
            "Total params: 25,450\n",
            "Trainable params: 25,450\n",
            "Non-trainable params: 0\n",
            "_________________________________________________________________\n",
            "Epoch 1/10\n",
            "1875/1875 [==============================] - 4s 2ms/step - loss: 2.7187 - accuracy: 0.4030 - val_loss: 1.5275 - val_accuracy: 0.4082\n",
            "Epoch 2/10\n",
            "1875/1875 [==============================] - 3s 2ms/step - loss: 1.3446 - accuracy: 0.5004 - val_loss: 1.2013 - val_accuracy: 0.5731\n",
            "Epoch 3/10\n",
            "1875/1875 [==============================] - 3s 2ms/step - loss: 1.0051 - accuracy: 0.6140 - val_loss: 0.9187 - val_accuracy: 0.6621\n",
            "Epoch 4/10\n",
            "1875/1875 [==============================] - 3s 2ms/step - loss: 0.7922 - accuracy: 0.6959 - val_loss: 0.8330 - val_accuracy: 0.6881\n",
            "Epoch 5/10\n",
            "1875/1875 [==============================] - 4s 2ms/step - loss: 0.7183 - accuracy: 0.7201 - val_loss: 0.7092 - val_accuracy: 0.7328\n",
            "Epoch 6/10\n",
            "1875/1875 [==============================] - 3s 2ms/step - loss: 0.7022 - accuracy: 0.7261 - val_loss: 0.7343 - val_accuracy: 0.7161\n",
            "Epoch 7/10\n",
            "1875/1875 [==============================] - 3s 2ms/step - loss: 0.6646 - accuracy: 0.7359 - val_loss: 0.7075 - val_accuracy: 0.7303\n",
            "Epoch 8/10\n",
            "1875/1875 [==============================] - 3s 2ms/step - loss: 0.6646 - accuracy: 0.7363 - val_loss: 0.6864 - val_accuracy: 0.7319\n",
            "Epoch 9/10\n",
            "1875/1875 [==============================] - 3s 2ms/step - loss: 0.6504 - accuracy: 0.7399 - val_loss: 0.7696 - val_accuracy: 0.7174\n",
            "Epoch 10/10\n",
            "1875/1875 [==============================] - 3s 2ms/step - loss: 0.6470 - accuracy: 0.7415 - val_loss: 0.6887 - val_accuracy: 0.7318\n"
          ]
        },
        {
          "output_type": "execute_result",
          "data": {
            "text/plain": [
              "(9, array([9.7443606e-26, 5.0721155e-10, 0.0000000e+00, 7.0384955e-14,\n",
              "        0.0000000e+00, 8.3372556e-02, 9.7868425e-23, 8.0290206e-02,\n",
              "        3.7204224e-09, 8.3633721e-01], dtype=float32))"
            ]
          },
          "metadata": {},
          "execution_count": 17
        }
      ]
    },
    {
      "cell_type": "markdown",
      "source": [
        "# Callbacks"
      ],
      "metadata": {
        "id": "a88dnep0lkMf"
      }
    },
    {
      "cell_type": "code",
      "source": [
        "class MyCallback(tf.keras.callbacks.Callback):\n",
        "\n",
        "  def on_epoch_end(self, epoch, logs = {}):\n",
        "    print(f\"\\n{'*'*80}\\nepoch: {epoch}, logs: {logs}\\n{'*'*80}\\n\")\n",
        "    if logs['accuracy'] > .90:\n",
        "      print(f\"\\n{'#'*20} stop{'#'*20}\")\n",
        "      self.model.stop_training = True\n",
        "mycallback = MyCallback()"
      ],
      "metadata": {
        "id": "VN-aVOUJll-k"
      },
      "execution_count": 23,
      "outputs": []
    },
    {
      "cell_type": "code",
      "source": [
        "# using callbacks\n",
        "model = tf.keras.Sequential(\n",
        "    layers = [\n",
        "              tf.keras.layers.Input(shape=data_train.shape[1:]),\n",
        "              tf.keras.layers.Rescaling(scale = 1/data_train.max()),\n",
        "              tf.keras.layers.Flatten(),\n",
        "              tf.keras.layers.Dense(units=512, activation='relu'),\n",
        "              tf.keras.layers.Dense(10, activation='softmax')\n",
        "    ]\n",
        ")\n",
        "model.summary()\n",
        "# compile\n",
        "model.compile(optimizer='adam', loss=\"sparse_categorical_crossentropy\", metrics = [\"accuracy\"])\n",
        "# fit the model\n",
        "model.fit(x = data_train, y=labels_train, epochs = 10, batch_size=32, validation_data = (data_test, labels_test),\n",
        "          callbacks = [mycallback])\n",
        "labels_test_pred = model.predict(data_test)\n",
        "labels_test[0], labels_test_pred[0]"
      ],
      "metadata": {
        "colab": {
          "base_uri": "https://localhost:8080/"
        },
        "id": "vqcr7OeMp6t5",
        "outputId": "dd5b9a2c-76f4-4ade-cc72-cd805d6742d4"
      },
      "execution_count": 24,
      "outputs": [
        {
          "output_type": "stream",
          "name": "stdout",
          "text": [
            "Model: \"sequential_8\"\n",
            "_________________________________________________________________\n",
            " Layer (type)                Output Shape              Param #   \n",
            "=================================================================\n",
            " rescaling_7 (Rescaling)     (None, 28, 28)            0         \n",
            "                                                                 \n",
            " flatten_7 (Flatten)         (None, 784)               0         \n",
            "                                                                 \n",
            " dense_17 (Dense)            (None, 512)               401920    \n",
            "                                                                 \n",
            " dense_18 (Dense)            (None, 10)                5130      \n",
            "                                                                 \n",
            "=================================================================\n",
            "Total params: 407,050\n",
            "Trainable params: 407,050\n",
            "Non-trainable params: 0\n",
            "_________________________________________________________________\n",
            "Epoch 1/10\n",
            "1869/1875 [============================>.] - ETA: 0s - loss: 0.4790 - accuracy: 0.8291\n",
            "********************************************************************************\n",
            "epoch: 0, logs: {'loss': 0.478883296251297, 'accuracy': 0.8292333483695984, 'val_loss': 0.44691845774650574, 'val_accuracy': 0.8396999835968018}\n",
            "********************************************************************************\n",
            "\n",
            "1875/1875 [==============================] - 8s 4ms/step - loss: 0.4789 - accuracy: 0.8292 - val_loss: 0.4469 - val_accuracy: 0.8397\n",
            "Epoch 2/10\n",
            "1872/1875 [============================>.] - ETA: 0s - loss: 0.3574 - accuracy: 0.8689\n",
            "********************************************************************************\n",
            "epoch: 1, logs: {'loss': 0.3574596643447876, 'accuracy': 0.8689500093460083, 'val_loss': 0.38908103108406067, 'val_accuracy': 0.8629000186920166}\n",
            "********************************************************************************\n",
            "\n",
            "1875/1875 [==============================] - 7s 4ms/step - loss: 0.3575 - accuracy: 0.8690 - val_loss: 0.3891 - val_accuracy: 0.8629\n",
            "Epoch 3/10\n",
            "1873/1875 [============================>.] - ETA: 0s - loss: 0.3240 - accuracy: 0.8810\n",
            "********************************************************************************\n",
            "epoch: 2, logs: {'loss': 0.32403764128685, 'accuracy': 0.8810499906539917, 'val_loss': 0.3471416234970093, 'val_accuracy': 0.8722000122070312}\n",
            "********************************************************************************\n",
            "\n",
            "1875/1875 [==============================] - 7s 4ms/step - loss: 0.3240 - accuracy: 0.8810 - val_loss: 0.3471 - val_accuracy: 0.8722\n",
            "Epoch 4/10\n",
            "1864/1875 [============================>.] - ETA: 0s - loss: 0.2978 - accuracy: 0.8892\n",
            "********************************************************************************\n",
            "epoch: 3, logs: {'loss': 0.2975517511367798, 'accuracy': 0.8892666697502136, 'val_loss': 0.35258927941322327, 'val_accuracy': 0.8704000115394592}\n",
            "********************************************************************************\n",
            "\n",
            "1875/1875 [==============================] - 7s 4ms/step - loss: 0.2976 - accuracy: 0.8893 - val_loss: 0.3526 - val_accuracy: 0.8704\n",
            "Epoch 5/10\n",
            "1872/1875 [============================>.] - ETA: 0s - loss: 0.2805 - accuracy: 0.8959\n",
            "********************************************************************************\n",
            "epoch: 4, logs: {'loss': 0.280413419008255, 'accuracy': 0.8959500193595886, 'val_loss': 0.3557441532611847, 'val_accuracy': 0.871399998664856}\n",
            "********************************************************************************\n",
            "\n",
            "1875/1875 [==============================] - 7s 4ms/step - loss: 0.2804 - accuracy: 0.8960 - val_loss: 0.3557 - val_accuracy: 0.8714\n",
            "Epoch 6/10\n",
            "1865/1875 [============================>.] - ETA: 0s - loss: 0.2653 - accuracy: 0.9015\n",
            "********************************************************************************\n",
            "epoch: 5, logs: {'loss': 0.26507383584976196, 'accuracy': 0.9016166925430298, 'val_loss': 0.3424988389015198, 'val_accuracy': 0.8784000277519226}\n",
            "********************************************************************************\n",
            "\n",
            "\n",
            "#################### stop####################\n",
            "1875/1875 [==============================] - 7s 4ms/step - loss: 0.2651 - accuracy: 0.9016 - val_loss: 0.3425 - val_accuracy: 0.8784\n"
          ]
        },
        {
          "output_type": "execute_result",
          "data": {
            "text/plain": [
              "(9, array([3.1514197e-08, 1.2911952e-09, 2.0745012e-11, 2.4376356e-12,\n",
              "        4.9990667e-10, 2.5773433e-03, 3.9341859e-09, 1.0632793e-03,\n",
              "        2.9701649e-10, 9.9635929e-01], dtype=float32))"
            ]
          },
          "metadata": {},
          "execution_count": 24
        }
      ]
    }
  ]
}