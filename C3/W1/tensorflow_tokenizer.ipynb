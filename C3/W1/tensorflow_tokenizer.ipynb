{
  "nbformat": 4,
  "nbformat_minor": 0,
  "metadata": {
    "colab": {
      "name": "tensorflow_tokenizer.ipynb",
      "provenance": [],
      "authorship_tag": "ABX9TyN508Hxbp2fEXzXdaia7x/9",
      "include_colab_link": true
    },
    "kernelspec": {
      "name": "python3",
      "display_name": "Python 3"
    },
    "language_info": {
      "name": "python"
    }
  },
  "cells": [
    {
      "cell_type": "markdown",
      "metadata": {
        "id": "view-in-github",
        "colab_type": "text"
      },
      "source": [
        "<a href=\"https://colab.research.google.com/github/bodamohannaik/DLAI-TF-DPC/blob/master/C3/W1/tensorflow_tokenizer.ipynb\" target=\"_parent\"><img src=\"https://colab.research.google.com/assets/colab-badge.svg\" alt=\"Open In Colab\"/></a>"
      ]
    },
    {
      "cell_type": "markdown",
      "source": [
        "# Import Libraries"
      ],
      "metadata": {
        "id": "kKVXmRGOCZzs"
      }
    },
    {
      "cell_type": "code",
      "execution_count": 1,
      "metadata": {
        "id": "B2ojixnACMew"
      },
      "outputs": [],
      "source": [
        "import tensorflow as tf"
      ]
    },
    {
      "cell_type": "markdown",
      "source": [
        "# Tokenizer"
      ],
      "metadata": {
        "id": "7amNxEYfCYv5"
      }
    },
    {
      "cell_type": "code",
      "source": [
        "sentences = [\n",
        "             'I eat mango',\n",
        "             'I eat banana',\n",
        "             'I don\"t eat grapes'\n",
        "]"
      ],
      "metadata": {
        "id": "QodIkC8tCfqK"
      },
      "execution_count": 2,
      "outputs": []
    },
    {
      "cell_type": "code",
      "source": [
        "tokenizer = tf.keras.preprocessing.text.Tokenizer(num_words=50, lower=True, oov_token=\"<OOV>\")"
      ],
      "metadata": {
        "id": "Joo3ePtfCzWR"
      },
      "execution_count": 3,
      "outputs": []
    },
    {
      "cell_type": "code",
      "source": [
        "tokenizer.fit_on_texts(sentences)"
      ],
      "metadata": {
        "id": "HWN6sZ_uDkhk"
      },
      "execution_count": 4,
      "outputs": []
    },
    {
      "cell_type": "code",
      "source": [
        "tokenizer.num_words"
      ],
      "metadata": {
        "colab": {
          "base_uri": "https://localhost:8080/"
        },
        "id": "T2ZnNcKJDunB",
        "outputId": "50577a47-5253-4c4d-875b-5fda45821b82"
      },
      "execution_count": 5,
      "outputs": [
        {
          "output_type": "execute_result",
          "data": {
            "text/plain": [
              "50"
            ]
          },
          "metadata": {},
          "execution_count": 5
        }
      ]
    },
    {
      "cell_type": "code",
      "source": [
        "tokenizer.document_count"
      ],
      "metadata": {
        "colab": {
          "base_uri": "https://localhost:8080/"
        },
        "id": "6tkBgypuDyY5",
        "outputId": "18e74923-363d-4d54-fa26-60ca7e496897"
      },
      "execution_count": 6,
      "outputs": [
        {
          "output_type": "execute_result",
          "data": {
            "text/plain": [
              "3"
            ]
          },
          "metadata": {},
          "execution_count": 6
        }
      ]
    },
    {
      "cell_type": "code",
      "source": [
        "tokenizer.oov_token"
      ],
      "metadata": {
        "colab": {
          "base_uri": "https://localhost:8080/",
          "height": 36
        },
        "id": "xozkBFbpD07q",
        "outputId": "95fd178c-6cb7-4de3-f4e2-843f5eb3066f"
      },
      "execution_count": 7,
      "outputs": [
        {
          "output_type": "execute_result",
          "data": {
            "text/plain": [
              "'<OOV>'"
            ],
            "application/vnd.google.colaboratory.intrinsic+json": {
              "type": "string"
            }
          },
          "metadata": {},
          "execution_count": 7
        }
      ]
    },
    {
      "cell_type": "code",
      "source": [
        "tokenizer.word_counts"
      ],
      "metadata": {
        "colab": {
          "base_uri": "https://localhost:8080/"
        },
        "id": "GU3SMMWlD7AC",
        "outputId": "f3d95d62-3b50-40f5-ffb3-603719accad6"
      },
      "execution_count": 8,
      "outputs": [
        {
          "output_type": "execute_result",
          "data": {
            "text/plain": [
              "OrderedDict([('i', 3),\n",
              "             ('eat', 3),\n",
              "             ('mango', 1),\n",
              "             ('banana', 1),\n",
              "             ('don', 1),\n",
              "             ('t', 1),\n",
              "             ('grapes', 1)])"
            ]
          },
          "metadata": {},
          "execution_count": 8
        }
      ]
    },
    {
      "cell_type": "code",
      "source": [
        "tokenizer.index_word"
      ],
      "metadata": {
        "colab": {
          "base_uri": "https://localhost:8080/"
        },
        "id": "EEWyvdJEEEWS",
        "outputId": "15a47b16-9753-4ccb-9299-0bc3776a0c12"
      },
      "execution_count": 9,
      "outputs": [
        {
          "output_type": "execute_result",
          "data": {
            "text/plain": [
              "{1: '<OOV>',\n",
              " 2: 'i',\n",
              " 3: 'eat',\n",
              " 4: 'mango',\n",
              " 5: 'banana',\n",
              " 6: 'don',\n",
              " 7: 't',\n",
              " 8: 'grapes'}"
            ]
          },
          "metadata": {},
          "execution_count": 9
        }
      ]
    },
    {
      "cell_type": "code",
      "source": [
        "tokenizer.word_index"
      ],
      "metadata": {
        "colab": {
          "base_uri": "https://localhost:8080/"
        },
        "id": "27XsSGJPEHxZ",
        "outputId": "82131b3d-286e-4f5d-bf30-a1d34c9adf6d"
      },
      "execution_count": 10,
      "outputs": [
        {
          "output_type": "execute_result",
          "data": {
            "text/plain": [
              "{'<OOV>': 1,\n",
              " 'banana': 5,\n",
              " 'don': 6,\n",
              " 'eat': 3,\n",
              " 'grapes': 8,\n",
              " 'i': 2,\n",
              " 'mango': 4,\n",
              " 't': 7}"
            ]
          },
          "metadata": {},
          "execution_count": 10
        }
      ]
    },
    {
      "cell_type": "code",
      "source": [
        "tokenizer.texts_to_sequences(sentences)"
      ],
      "metadata": {
        "colab": {
          "base_uri": "https://localhost:8080/"
        },
        "id": "k4kKSl7cEWhy",
        "outputId": "d3926e7b-0677-4b2b-8439-a84e9254b0d4"
      },
      "execution_count": 11,
      "outputs": [
        {
          "output_type": "execute_result",
          "data": {
            "text/plain": [
              "[[2, 3, 4], [2, 3, 5], [2, 6, 7, 3, 8]]"
            ]
          },
          "metadata": {},
          "execution_count": 11
        }
      ]
    },
    {
      "cell_type": "code",
      "source": [
        "tokenizer.texts_to_sequences(['you eat rice'])"
      ],
      "metadata": {
        "colab": {
          "base_uri": "https://localhost:8080/"
        },
        "id": "DFfGh4t-INHE",
        "outputId": "a35b819c-969b-45a1-ab5e-d6d0fc1915c4"
      },
      "execution_count": 12,
      "outputs": [
        {
          "output_type": "execute_result",
          "data": {
            "text/plain": [
              "[[1, 3, 1]]"
            ]
          },
          "metadata": {},
          "execution_count": 12
        }
      ]
    },
    {
      "cell_type": "markdown",
      "source": [
        "# Padding sequences"
      ],
      "metadata": {
        "id": "UzOS-CEMt_-p"
      }
    },
    {
      "cell_type": "code",
      "source": [
        "sentences = [\n",
        "             'I eat mango',\n",
        "             'I eat banana',\n",
        "             'I don\"t eat grapes',\n",
        "             'I eat rice and bread'\n",
        "]"
      ],
      "metadata": {
        "id": "ud4YGpl3uCS-"
      },
      "execution_count": 13,
      "outputs": []
    },
    {
      "cell_type": "code",
      "source": [
        "tokenizer.texts_to_sequences(sentences)"
      ],
      "metadata": {
        "colab": {
          "base_uri": "https://localhost:8080/"
        },
        "id": "tIXOf63PuJ09",
        "outputId": "9cd6f3f2-82df-4408-b0c4-6293ee142bc6"
      },
      "execution_count": 14,
      "outputs": [
        {
          "output_type": "execute_result",
          "data": {
            "text/plain": [
              "[[2, 3, 4], [2, 3, 5], [2, 6, 7, 3, 8], [2, 3, 1, 1, 1]]"
            ]
          },
          "metadata": {},
          "execution_count": 14
        }
      ]
    },
    {
      "cell_type": "code",
      "source": [
        "\n",
        "tf.keras.preprocessing.sequence.pad_sequences(\n",
        "    sequences = tokenizer.texts_to_sequences(texts = sentences),\n",
        "    maxlen=10, padding='post', truncating='post', value = 0\n",
        ")"
      ],
      "metadata": {
        "colab": {
          "base_uri": "https://localhost:8080/"
        },
        "id": "AJ3Eye67uOnN",
        "outputId": "ede913fe-7cc7-46e6-8353-0a1981652c15"
      },
      "execution_count": 15,
      "outputs": [
        {
          "output_type": "execute_result",
          "data": {
            "text/plain": [
              "array([[2, 3, 4, 0, 0, 0, 0, 0, 0, 0],\n",
              "       [2, 3, 5, 0, 0, 0, 0, 0, 0, 0],\n",
              "       [2, 6, 7, 3, 8, 0, 0, 0, 0, 0],\n",
              "       [2, 3, 1, 1, 1, 0, 0, 0, 0, 0]], dtype=int32)"
            ]
          },
          "metadata": {},
          "execution_count": 15
        }
      ]
    },
    {
      "cell_type": "markdown",
      "source": [
        "# Sarcasm"
      ],
      "metadata": {
        "id": "XVYeaCF9DI3F"
      }
    },
    {
      "cell_type": "code",
      "source": [
        "!wget https://storage.googleapis.com/tensorflow-1-public/course3/sarcasm.json"
      ],
      "metadata": {
        "id": "zRUD36JTv0ox",
        "colab": {
          "base_uri": "https://localhost:8080/"
        },
        "outputId": "2402ff94-92fe-4d21-c244-2f2044245df9"
      },
      "execution_count": 16,
      "outputs": [
        {
          "output_type": "stream",
          "name": "stdout",
          "text": [
            "--2022-05-14 05:51:39--  https://storage.googleapis.com/tensorflow-1-public/course3/sarcasm.json\n",
            "Resolving storage.googleapis.com (storage.googleapis.com)... 108.177.125.128, 142.250.157.128, 142.251.8.128, ...\n",
            "Connecting to storage.googleapis.com (storage.googleapis.com)|108.177.125.128|:443... connected.\n",
            "HTTP request sent, awaiting response... 200 OK\n",
            "Length: 5643545 (5.4M) [application/json]\n",
            "Saving to: ‘sarcasm.json’\n",
            "\n",
            "\rsarcasm.json          0%[                    ]       0  --.-KB/s               \rsarcasm.json        100%[===================>]   5.38M  --.-KB/s    in 0.03s   \n",
            "\n",
            "2022-05-14 05:51:39 (158 MB/s) - ‘sarcasm.json’ saved [5643545/5643545]\n",
            "\n"
          ]
        }
      ]
    },
    {
      "cell_type": "code",
      "source": [
        "import json\n",
        "with open('sarcasm.json', 'r') as fp:\n",
        "  sarcasm = json.load(fp)"
      ],
      "metadata": {
        "id": "yptP6Jc8H3cx"
      },
      "execution_count": 17,
      "outputs": []
    },
    {
      "cell_type": "code",
      "source": [
        "type(sarcasm)"
      ],
      "metadata": {
        "colab": {
          "base_uri": "https://localhost:8080/"
        },
        "id": "-fQcKNH3IBkR",
        "outputId": "17cd7746-ea13-4f16-8c27-e4c13a35cc70"
      },
      "execution_count": 18,
      "outputs": [
        {
          "output_type": "execute_result",
          "data": {
            "text/plain": [
              "list"
            ]
          },
          "metadata": {},
          "execution_count": 18
        }
      ]
    },
    {
      "cell_type": "code",
      "source": [
        "type(sarcasm[0])"
      ],
      "metadata": {
        "colab": {
          "base_uri": "https://localhost:8080/"
        },
        "id": "ns4VsKybIE4o",
        "outputId": "9c6069c3-b2b4-4451-e786-5233a826d22b"
      },
      "execution_count": 19,
      "outputs": [
        {
          "output_type": "execute_result",
          "data": {
            "text/plain": [
              "dict"
            ]
          },
          "metadata": {},
          "execution_count": 19
        }
      ]
    },
    {
      "cell_type": "code",
      "source": [
        "sarcasm[0]"
      ],
      "metadata": {
        "colab": {
          "base_uri": "https://localhost:8080/"
        },
        "id": "7FgXFY3BIHTo",
        "outputId": "2b37a734-76cf-4c35-ebac-7c6ce7e1591e"
      },
      "execution_count": 20,
      "outputs": [
        {
          "output_type": "execute_result",
          "data": {
            "text/plain": [
              "{'article_link': 'https://www.huffingtonpost.com/entry/versace-black-code_us_5861fbefe4b0de3a08f600d5',\n",
              " 'headline': \"former versace store clerk sues over secret 'black code' for minority shoppers\",\n",
              " 'is_sarcastic': 0}"
            ]
          },
          "metadata": {},
          "execution_count": 20
        }
      ]
    },
    {
      "cell_type": "code",
      "source": [
        "links = [x['article_link'] for x in sarcasm]\n",
        "headlines = [x['headline'] for x in sarcasm]\n",
        "labels = [x['is_sarcastic'] for x in sarcasm]"
      ],
      "metadata": {
        "id": "ZbXdIUAeIKx4"
      },
      "execution_count": 21,
      "outputs": []
    },
    {
      "cell_type": "code",
      "source": [
        "len(headlines)"
      ],
      "metadata": {
        "colab": {
          "base_uri": "https://localhost:8080/"
        },
        "id": "ZIeDLl6tIfCL",
        "outputId": "72b7185c-07d9-4a7c-8ad7-259399e1720e"
      },
      "execution_count": 23,
      "outputs": [
        {
          "output_type": "execute_result",
          "data": {
            "text/plain": [
              "26709"
            ]
          },
          "metadata": {},
          "execution_count": 23
        }
      ]
    },
    {
      "cell_type": "code",
      "source": [
        "sarcasm_tokenizer = tf.keras.preprocessing.text.Tokenizer(num_words=500, lower=True, split=' ', oov_token = '<OOV>')\n",
        "sarcasm_tokenizer.fit_on_texts(headlines)\n",
        "len(sarcasm_tokenizer.index_word)"
      ],
      "metadata": {
        "colab": {
          "base_uri": "https://localhost:8080/"
        },
        "id": "fB368YerIhJZ",
        "outputId": "73e742ed-4ae4-4ec1-bb5f-5dc266f147cf"
      },
      "execution_count": 33,
      "outputs": [
        {
          "output_type": "execute_result",
          "data": {
            "text/plain": [
              "29657"
            ]
          },
          "metadata": {},
          "execution_count": 33
        }
      ]
    },
    {
      "cell_type": "code",
      "source": [
        "sequence_headlines = sarcasm_tokenizer.texts_to_sequences(headlines)"
      ],
      "metadata": {
        "id": "Enj09w4_JYPr"
      },
      "execution_count": 34,
      "outputs": []
    },
    {
      "cell_type": "code",
      "source": [
        "sequence_headlines[0]"
      ],
      "metadata": {
        "colab": {
          "base_uri": "https://localhost:8080/"
        },
        "id": "Fj6i0_wzJoV5",
        "outputId": "f34ab910-664f-4712-98c4-0053b3684e7b"
      },
      "execution_count": 35,
      "outputs": [
        {
          "output_type": "execute_result",
          "data": {
            "text/plain": [
              "[308, 1, 1, 1, 1, 48, 382, 1, 1, 6, 1, 1]"
            ]
          },
          "metadata": {},
          "execution_count": 35
        }
      ]
    },
    {
      "cell_type": "code",
      "source": [
        "sequence_headlines[0]"
      ],
      "metadata": {
        "colab": {
          "base_uri": "https://localhost:8080/"
        },
        "id": "jx8aj13RJvXw",
        "outputId": "df06b282-bccd-4983-d2fb-b7444cd4620b"
      },
      "execution_count": 36,
      "outputs": [
        {
          "output_type": "execute_result",
          "data": {
            "text/plain": [
              "[308, 1, 1, 1, 1, 48, 382, 1, 1, 6, 1, 1]"
            ]
          },
          "metadata": {},
          "execution_count": 36
        }
      ]
    },
    {
      "cell_type": "code",
      "source": [
        "tf.keras.preprocessing.sequence.pad_sequences(sequence_headlines[:10], padding=\"post\", truncating=\"post\", value = 0, maxlen=None)"
      ],
      "metadata": {
        "colab": {
          "base_uri": "https://localhost:8080/"
        },
        "id": "bLGogfMAJwqo",
        "outputId": "da230099-5ced-4ac0-99e7-8ccdfc580260"
      },
      "execution_count": 37,
      "outputs": [
        {
          "output_type": "execute_result",
          "data": {
            "text/plain": [
              "array([[308,   1,   1,   1,   1,  48, 382,   1,   1,   6,   1,   1,   0,\n",
              "          0],\n",
              "       [  4,   1,   1,   1,  22,   2, 166,   1, 416,   1,   6, 258,   9,\n",
              "          1],\n",
              "       [145,   1,   2,   1,   1,   1,   1,   1, 221, 143,  39,  46,   2,\n",
              "          1],\n",
              "       [  1,  36, 224, 400,   2,   1,  29, 319,  22,  10,   1,   1,   1,\n",
              "          1],\n",
              "       [  1,   1,   1,   1,   1,   1,   1,   5,   4,  95,   1,  92,   0,\n",
              "          0],\n",
              "       [  1,   4, 365,  73,   0,   0,   0,   0,   0,   0,   0,   0,   0,\n",
              "          0],\n",
              "       [  4,   1, 351,   6, 461,   1,   1,   1,   0,   0,   0,   0,   0,\n",
              "          0],\n",
              "       [ 19, 479,  39,   1,  31, 155,   2,  99,  83,  18, 158,   6,  32,\n",
              "        352],\n",
              "       [249,   1,   1,   1,   1,   1, 141,   0,   0,   0,   0,   0,   0,\n",
              "          0],\n",
              "       [  1, 326, 347, 401,  60,   1,   6,   4,   1,   0,   0,   0,   0,\n",
              "          0]], dtype=int32)"
            ]
          },
          "metadata": {},
          "execution_count": 37
        }
      ]
    }
  ]
}