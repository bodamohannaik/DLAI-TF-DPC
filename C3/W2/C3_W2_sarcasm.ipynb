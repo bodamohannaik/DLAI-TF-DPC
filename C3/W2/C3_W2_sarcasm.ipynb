{
  "nbformat": 4,
  "nbformat_minor": 0,
  "metadata": {
    "colab": {
      "name": "C3_W2_sarcasm.ipynb",
      "provenance": [],
      "collapsed_sections": [],
      "authorship_tag": "ABX9TyM4nELA7vpb3oZ9HGV6psaG",
      "include_colab_link": true
    },
    "kernelspec": {
      "name": "python3",
      "display_name": "Python 3"
    },
    "language_info": {
      "name": "python"
    },
    "accelerator": "GPU"
  },
  "cells": [
    {
      "cell_type": "markdown",
      "metadata": {
        "id": "view-in-github",
        "colab_type": "text"
      },
      "source": [
        "<a href=\"https://colab.research.google.com/github/bodamohannaik/DLAI-TF-DPC/blob/master/C3/W2/C3_W2_sarcasm.ipynb\" target=\"_parent\"><img src=\"https://colab.research.google.com/assets/colab-badge.svg\" alt=\"Open In Colab\"/></a>"
      ]
    },
    {
      "cell_type": "markdown",
      "source": [
        "# import libraries"
      ],
      "metadata": {
        "id": "y2ldgly1nRAD"
      }
    },
    {
      "cell_type": "code",
      "execution_count": 1,
      "metadata": {
        "id": "mLMy5AsVmSYl"
      },
      "outputs": [],
      "source": [
        "import json\n",
        "import matplotlib.pyplot as plt\n",
        "import numpy as np\n",
        "import os\n",
        "import tensorflow as tf"
      ]
    },
    {
      "cell_type": "markdown",
      "source": [
        "# Download Dataset"
      ],
      "metadata": {
        "id": "Vad3r3d8nfmN"
      }
    },
    {
      "cell_type": "code",
      "source": [
        "!wget https://storage.googleapis.com/tensorflow-1-public/course3/sarcasm.json"
      ],
      "metadata": {
        "colab": {
          "base_uri": "https://localhost:8080/"
        },
        "id": "YnzIYMx3nkKz",
        "outputId": "1ac78eb9-eca3-4e49-e8ac-bca7649b0ecf"
      },
      "execution_count": 2,
      "outputs": [
        {
          "output_type": "stream",
          "name": "stdout",
          "text": [
            "--2022-05-15 03:53:52--  https://storage.googleapis.com/tensorflow-1-public/course3/sarcasm.json\n",
            "Resolving storage.googleapis.com (storage.googleapis.com)... 74.125.197.128, 74.125.135.128, 74.125.142.128, ...\n",
            "Connecting to storage.googleapis.com (storage.googleapis.com)|74.125.197.128|:443... connected.\n",
            "HTTP request sent, awaiting response... 200 OK\n",
            "Length: 5643545 (5.4M) [application/json]\n",
            "Saving to: ‘sarcasm.json’\n",
            "\n",
            "sarcasm.json        100%[===================>]   5.38M  33.7MB/s    in 0.2s    \n",
            "\n",
            "2022-05-15 03:53:52 (33.7 MB/s) - ‘sarcasm.json’ saved [5643545/5643545]\n",
            "\n"
          ]
        }
      ]
    },
    {
      "cell_type": "markdown",
      "source": [
        "# Preprocess Data"
      ],
      "metadata": {
        "id": "E7crs2f2nnXL"
      }
    },
    {
      "cell_type": "code",
      "source": [
        "with open('sarcasm.json', 'r') as fp:\n",
        "  sarcasm = json.load(fp)\n",
        "len(sarcasm)"
      ],
      "metadata": {
        "colab": {
          "base_uri": "https://localhost:8080/"
        },
        "id": "ThZ8O2YXnl47",
        "outputId": "79ace4ad-bdd4-4d87-8f1b-89866f4f3018"
      },
      "execution_count": 3,
      "outputs": [
        {
          "output_type": "execute_result",
          "data": {
            "text/plain": [
              "26709"
            ]
          },
          "metadata": {},
          "execution_count": 3
        }
      ]
    },
    {
      "cell_type": "code",
      "source": [
        "sarcasm[0]"
      ],
      "metadata": {
        "colab": {
          "base_uri": "https://localhost:8080/"
        },
        "id": "_7qtnP-OpEc3",
        "outputId": "43eaf060-a579-466a-d07e-7dd79bc628e5"
      },
      "execution_count": 4,
      "outputs": [
        {
          "output_type": "execute_result",
          "data": {
            "text/plain": [
              "{'article_link': 'https://www.huffingtonpost.com/entry/versace-black-code_us_5861fbefe4b0de3a08f600d5',\n",
              " 'headline': \"former versace store clerk sues over secret 'black code' for minority shoppers\",\n",
              " 'is_sarcastic': 0}"
            ]
          },
          "metadata": {},
          "execution_count": 4
        }
      ]
    },
    {
      "cell_type": "code",
      "source": [
        "links = []\n",
        "sentences = []\n",
        "labels = []\n",
        "for item in sarcasm:\n",
        "  links.append(item['article_link'])\n",
        "  sentences.append(item['headline'])\n",
        "  labels.append(item['is_sarcastic'])\n",
        "labels = np.array(labels)"
      ],
      "metadata": {
        "id": "TLCj4sDEpHUe"
      },
      "execution_count": 5,
      "outputs": []
    },
    {
      "cell_type": "code",
      "source": [
        "list(zip(sentences[:5], labels))"
      ],
      "metadata": {
        "colab": {
          "base_uri": "https://localhost:8080/"
        },
        "id": "UclAzkKepens",
        "outputId": "df7027e8-f080-42a0-fffb-ca26521a1e95"
      },
      "execution_count": 6,
      "outputs": [
        {
          "output_type": "execute_result",
          "data": {
            "text/plain": [
              "[(\"former versace store clerk sues over secret 'black code' for minority shoppers\",\n",
              "  0),\n",
              " (\"the 'roseanne' revival catches up to our thorny political mood, for better and worse\",\n",
              "  0),\n",
              " (\"mom starting to fear son's web series closest thing she will have to grandchild\",\n",
              "  1),\n",
              " ('boehner just wants wife to listen, not come up with alternative debt-reduction ideas',\n",
              "  1),\n",
              " ('j.k. rowling wishes snape happy birthday in the most magical way', 0)]"
            ]
          },
          "metadata": {},
          "execution_count": 6
        }
      ]
    },
    {
      "cell_type": "markdown",
      "source": [
        "## Train Test Split"
      ],
      "metadata": {
        "id": "sM3RMBWEqM20"
      }
    },
    {
      "cell_type": "code",
      "source": [
        "from sklearn.model_selection import train_test_split\n",
        "train_sentences, test_sentences, train_labels, test_labels = train_test_split(sentences, labels, test_size=.2)\n",
        "len(train_sentences), len(test_sentences)"
      ],
      "metadata": {
        "colab": {
          "base_uri": "https://localhost:8080/"
        },
        "id": "Q_MIk0k4qMLD",
        "outputId": "dcf2a218-bb08-42f7-acae-d89030234ab1"
      },
      "execution_count": 7,
      "outputs": [
        {
          "output_type": "execute_result",
          "data": {
            "text/plain": [
              "(21367, 5342)"
            ]
          },
          "metadata": {},
          "execution_count": 7
        }
      ]
    },
    {
      "cell_type": "markdown",
      "source": [
        "## Tokenizer"
      ],
      "metadata": {
        "id": "kSO95rpwtmIz"
      }
    },
    {
      "cell_type": "code",
      "source": [
        "num_words = 10000\n",
        "oov_token = \"<OOV>\"\n",
        "tokenizer = tf.keras.preprocessing.text.Tokenizer(num_words=num_words, lower=True, split=' ', oov_token=oov_token)\n",
        "tokenizer.fit_on_texts(texts=train_sentences)"
      ],
      "metadata": {
        "id": "NqNk1VgFtkuT"
      },
      "execution_count": 8,
      "outputs": []
    },
    {
      "cell_type": "code",
      "source": [
        "len(tokenizer.word_counts)"
      ],
      "metadata": {
        "colab": {
          "base_uri": "https://localhost:8080/"
        },
        "id": "0smYsBBY131r",
        "outputId": "a8b84ea1-481d-4b6a-df99-833541813c4e"
      },
      "execution_count": 9,
      "outputs": [
        {
          "output_type": "execute_result",
          "data": {
            "text/plain": [
              "26591"
            ]
          },
          "metadata": {},
          "execution_count": 9
        }
      ]
    },
    {
      "cell_type": "code",
      "source": [
        "train_sequences = tokenizer.texts_to_sequences(texts = train_sentences)\n",
        "test_sequences = tokenizer.texts_to_sequences(texts = test_sentences)"
      ],
      "metadata": {
        "id": "Jo_uGHR2vwKT"
      },
      "execution_count": 10,
      "outputs": []
    },
    {
      "cell_type": "code",
      "source": [
        "maxlen = 32\n",
        "padding = \"post\"\n",
        "truncating = \"post\"\n",
        "train_sequences = tf.keras.preprocessing.sequence.pad_sequences(sequences=train_sequences, maxlen=maxlen, padding=padding, truncating=truncating)\n",
        "test_sequences = tf.keras.preprocessing.sequence.pad_sequences(sequences=test_sequences, maxlen=maxlen, padding=padding, truncating=truncating)"
      ],
      "metadata": {
        "id": "-KmD2g2vwFG7"
      },
      "execution_count": 11,
      "outputs": []
    },
    {
      "cell_type": "code",
      "source": [
        "train_sequences.shape"
      ],
      "metadata": {
        "colab": {
          "base_uri": "https://localhost:8080/"
        },
        "id": "vbTXeLz_we2k",
        "outputId": "2ac6b53f-025c-42cf-b259-156c12c21030"
      },
      "execution_count": 12,
      "outputs": [
        {
          "output_type": "execute_result",
          "data": {
            "text/plain": [
              "(21367, 32)"
            ]
          },
          "metadata": {},
          "execution_count": 12
        }
      ]
    },
    {
      "cell_type": "code",
      "source": [
        "test_sequences.shape"
      ],
      "metadata": {
        "colab": {
          "base_uri": "https://localhost:8080/"
        },
        "id": "24NR_11jwhiR",
        "outputId": "625517a5-604c-48f1-c667-54e907adad6f"
      },
      "execution_count": 13,
      "outputs": [
        {
          "output_type": "execute_result",
          "data": {
            "text/plain": [
              "(5342, 32)"
            ]
          },
          "metadata": {},
          "execution_count": 13
        }
      ]
    },
    {
      "cell_type": "markdown",
      "source": [
        "# Neural Network"
      ],
      "metadata": {
        "id": "-DZf-cuxwl2z"
      }
    },
    {
      "cell_type": "code",
      "source": [
        "model = tf.keras.Sequential(layers=[\n",
        "                                    tf.keras.layers.Input(shape=(maxlen,)),\n",
        "                                    tf.keras.layers.Embedding(input_dim = num_words, output_dim=8),\n",
        "                                    tf.keras.layers.GlobalAveragePooling1D(),\n",
        "                                    # tf.keras.layers.Dense(units=8, activation='relu'),\n",
        "                                    tf.keras.layers.Dropout(rate = .2),\n",
        "                                    tf.keras.layers.Dense(units=1, activation='sigmoid')\n",
        "])\n",
        "model.summary()"
      ],
      "metadata": {
        "colab": {
          "base_uri": "https://localhost:8080/"
        },
        "id": "YkxosXcowuEh",
        "outputId": "e473b7b8-998d-4f4f-cc6e-30f648c39f1f"
      },
      "execution_count": 21,
      "outputs": [
        {
          "output_type": "stream",
          "name": "stdout",
          "text": [
            "Model: \"sequential_4\"\n",
            "_________________________________________________________________\n",
            " Layer (type)                Output Shape              Param #   \n",
            "=================================================================\n",
            " embedding_4 (Embedding)     (None, 32, 8)             80000     \n",
            "                                                                 \n",
            " global_average_pooling1d_4   (None, 8)                0         \n",
            " (GlobalAveragePooling1D)                                        \n",
            "                                                                 \n",
            " dropout_4 (Dropout)         (None, 8)                 0         \n",
            "                                                                 \n",
            " dense_6 (Dense)             (None, 1)                 9         \n",
            "                                                                 \n",
            "=================================================================\n",
            "Total params: 80,009\n",
            "Trainable params: 80,009\n",
            "Non-trainable params: 0\n",
            "_________________________________________________________________\n"
          ]
        }
      ]
    },
    {
      "cell_type": "code",
      "source": [
        "# compile\n",
        "model.compile(optimizer=\"adam\", loss=\"binary_crossentropy\", metrics=[\"accuracy\"])\n",
        "# train\n",
        "history = model.fit(x=train_sequences, y=train_labels, batch_size=16, epochs=10, validation_data = (test_sequences, test_labels))"
      ],
      "metadata": {
        "colab": {
          "base_uri": "https://localhost:8080/"
        },
        "id": "WW0-VrscyQmx",
        "outputId": "d93a0977-53fe-4d84-c3c5-ee1469cca2ae"
      },
      "execution_count": 22,
      "outputs": [
        {
          "output_type": "stream",
          "name": "stdout",
          "text": [
            "Epoch 1/10\n",
            "1336/1336 [==============================] - 6s 4ms/step - loss: 0.6493 - accuracy: 0.6069 - val_loss: 0.5839 - val_accuracy: 0.7630\n",
            "Epoch 2/10\n",
            "1336/1336 [==============================] - 5s 4ms/step - loss: 0.5026 - accuracy: 0.8172 - val_loss: 0.4525 - val_accuracy: 0.8205\n",
            "Epoch 3/10\n",
            "1336/1336 [==============================] - 5s 4ms/step - loss: 0.3984 - accuracy: 0.8560 - val_loss: 0.3953 - val_accuracy: 0.8355\n",
            "Epoch 4/10\n",
            "1336/1336 [==============================] - 5s 4ms/step - loss: 0.3410 - accuracy: 0.8749 - val_loss: 0.3652 - val_accuracy: 0.8433\n",
            "Epoch 5/10\n",
            "1336/1336 [==============================] - 5s 4ms/step - loss: 0.3019 - accuracy: 0.8887 - val_loss: 0.3474 - val_accuracy: 0.8504\n",
            "Epoch 6/10\n",
            "1336/1336 [==============================] - 5s 4ms/step - loss: 0.2726 - accuracy: 0.9008 - val_loss: 0.3371 - val_accuracy: 0.8519\n",
            "Epoch 7/10\n",
            "1336/1336 [==============================] - 5s 4ms/step - loss: 0.2492 - accuracy: 0.9098 - val_loss: 0.3312 - val_accuracy: 0.8547\n",
            "Epoch 8/10\n",
            "1336/1336 [==============================] - 5s 4ms/step - loss: 0.2286 - accuracy: 0.9166 - val_loss: 0.3291 - val_accuracy: 0.8559\n",
            "Epoch 9/10\n",
            "1336/1336 [==============================] - 5s 4ms/step - loss: 0.2117 - accuracy: 0.9239 - val_loss: 0.3294 - val_accuracy: 0.8559\n",
            "Epoch 10/10\n",
            "1336/1336 [==============================] - 5s 4ms/step - loss: 0.1961 - accuracy: 0.9299 - val_loss: 0.3382 - val_accuracy: 0.8519\n"
          ]
        }
      ]
    }
  ]
}