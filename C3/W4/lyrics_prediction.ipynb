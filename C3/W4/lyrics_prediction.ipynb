{
  "nbformat": 4,
  "nbformat_minor": 0,
  "metadata": {
    "colab": {
      "name": "lyrics_prediction.ipynb",
      "provenance": [],
      "collapsed_sections": [],
      "authorship_tag": "ABX9TyMXEKPK/5LSCdTXg+BIfmt3",
      "include_colab_link": true
    },
    "kernelspec": {
      "name": "python3",
      "display_name": "Python 3"
    },
    "language_info": {
      "name": "python"
    }
  },
  "cells": [
    {
      "cell_type": "markdown",
      "metadata": {
        "id": "view-in-github",
        "colab_type": "text"
      },
      "source": [
        "<a href=\"https://colab.research.google.com/github/bodamohannaik/DLAI-TF-DPC/blob/master/C3/W4/lyrics_prediction.ipynb\" target=\"_parent\"><img src=\"https://colab.research.google.com/assets/colab-badge.svg\" alt=\"Open In Colab\"/></a>"
      ]
    },
    {
      "cell_type": "markdown",
      "source": [
        "# import libraries"
      ],
      "metadata": {
        "id": "2lgywNofDToz"
      }
    },
    {
      "cell_type": "code",
      "execution_count": null,
      "metadata": {
        "id": "S5qqLS4rDOt8"
      },
      "outputs": [],
      "source": [
        "import numpy as np\n",
        "import matplotlib.pyplot as plt\n",
        "import os\n",
        "import pandas as pd\n",
        "import tensorflow as tf"
      ]
    },
    {
      "cell_type": "markdown",
      "source": [
        "# Data Preparation"
      ],
      "metadata": {
        "id": "iFw_VkQQDSCl"
      }
    },
    {
      "cell_type": "code",
      "source": [
        "data=\"In the town of Athy one Jeremy Lanigan \\n Battered away til he hadnt a pound. \\nHis father died and made him a man again \\n Left him a farm and ten acres of ground. \\nHe gave a grand party for friends and relations \\nWho didnt forget him when come to the wall, \\nAnd if youll but listen Ill make your eyes glisten \\nOf the rows and the ructions of Lanigans Ball. \\nMyself to be sure got free invitation, \\nFor all the nice girls and boys I might ask, \\nAnd just in a minute both friends and relations \\nWere dancing round merry as bees round a cask. \\nJudy ODaly, that nice little milliner, \\nShe tipped me a wink for to give her a call, \\nAnd I soon arrived with Peggy McGilligan \\nJust in time for Lanigans Ball. \\nThere were lashings of punch and wine for the ladies, \\nPotatoes and cakes; there was bacon and tea, \\nThere were the Nolans, Dolans, OGradys \\nCourting the girls and dancing away. \\nSongs they went round as plenty as water, \\nThe harp that once sounded in Taras old hall,\\nSweet Nelly Gray and The Rat Catchers Daughter,\\nAll singing together at Lanigans Ball. \\nThey were doing all kinds of nonsensical polkas \\nAll round the room in a whirligig. \\nJulia and I, we banished their nonsense \\nAnd tipped them the twist of a reel and a jig. \\nAch mavrone, how the girls got all mad at me \\nDanced til youd think the ceiling would fall. \\nFor I spent three weeks at Brooks Academy \\nLearning new steps for Lanigans Ball. \\nThree long weeks I spent up in Dublin, \\nThree long weeks to learn nothing at all,\\n Three long weeks I spent up in Dublin, \\nLearning new steps for Lanigans Ball. \\nShe stepped out and I stepped in again, \\nI stepped out and she stepped in again, \\nShe stepped out and I stepped in again, \\nLearning new steps for Lanigans Ball. \\nBoys were all merry and the girls they were hearty \\nAnd danced all around in couples and groups, \\nTil an accident happened, young Terrance McCarthy \\nPut his right leg through miss Finnertys hoops. \\nPoor creature fainted and cried Meelia murther, \\nCalled for her brothers and gathered them all. \\nCarmody swore that hed go no further \\nTil he had satisfaction at Lanigans Ball. \\nIn the midst of the row miss Kerrigan fainted, \\nHer cheeks at the same time as red as a rose. \\nSome of the lads declared she was painted, \\nShe took a small drop too much, I suppose. \\nHer sweetheart, Ned Morgan, so powerful and able, \\nWhen he saw his fair colleen stretched out by the wall, \\nTore the left leg from under the table \\nAnd smashed all the Chaneys at Lanigans Ball. \\nBoys, oh boys, twas then there were runctions. \\nMyself got a lick from big Phelim McHugh. \\nI soon replied to his introduction \\nAnd kicked up a terrible hullabaloo. \\nOld Casey, the piper, was near being strangled. \\nThey squeezed up his pipes, bellows, chanters and all. \\nThe girls, in their ribbons, they got all entangled \\nAnd that put an end to Lanigans Ball.\"\n",
        "print(data)"
      ],
      "metadata": {
        "colab": {
          "base_uri": "https://localhost:8080/"
        },
        "id": "ThBC0byTDmYM",
        "outputId": "7ab6a26d-efff-48ad-aeac-1b6b6e1fce23"
      },
      "execution_count": null,
      "outputs": [
        {
          "output_type": "stream",
          "name": "stdout",
          "text": [
            "In the town of Athy one Jeremy Lanigan \n",
            " Battered away til he hadnt a pound. \n",
            "His father died and made him a man again \n",
            " Left him a farm and ten acres of ground. \n",
            "He gave a grand party for friends and relations \n",
            "Who didnt forget him when come to the wall, \n",
            "And if youll but listen Ill make your eyes glisten \n",
            "Of the rows and the ructions of Lanigans Ball. \n",
            "Myself to be sure got free invitation, \n",
            "For all the nice girls and boys I might ask, \n",
            "And just in a minute both friends and relations \n",
            "Were dancing round merry as bees round a cask. \n",
            "Judy ODaly, that nice little milliner, \n",
            "She tipped me a wink for to give her a call, \n",
            "And I soon arrived with Peggy McGilligan \n",
            "Just in time for Lanigans Ball. \n",
            "There were lashings of punch and wine for the ladies, \n",
            "Potatoes and cakes; there was bacon and tea, \n",
            "There were the Nolans, Dolans, OGradys \n",
            "Courting the girls and dancing away. \n",
            "Songs they went round as plenty as water, \n",
            "The harp that once sounded in Taras old hall,\n",
            "Sweet Nelly Gray and The Rat Catchers Daughter,\n",
            "All singing together at Lanigans Ball. \n",
            "They were doing all kinds of nonsensical polkas \n",
            "All round the room in a whirligig. \n",
            "Julia and I, we banished their nonsense \n",
            "And tipped them the twist of a reel and a jig. \n",
            "Ach mavrone, how the girls got all mad at me \n",
            "Danced til youd think the ceiling would fall. \n",
            "For I spent three weeks at Brooks Academy \n",
            "Learning new steps for Lanigans Ball. \n",
            "Three long weeks I spent up in Dublin, \n",
            "Three long weeks to learn nothing at all,\n",
            " Three long weeks I spent up in Dublin, \n",
            "Learning new steps for Lanigans Ball. \n",
            "She stepped out and I stepped in again, \n",
            "I stepped out and she stepped in again, \n",
            "She stepped out and I stepped in again, \n",
            "Learning new steps for Lanigans Ball. \n",
            "Boys were all merry and the girls they were hearty \n",
            "And danced all around in couples and groups, \n",
            "Til an accident happened, young Terrance McCarthy \n",
            "Put his right leg through miss Finnertys hoops. \n",
            "Poor creature fainted and cried Meelia murther, \n",
            "Called for her brothers and gathered them all. \n",
            "Carmody swore that hed go no further \n",
            "Til he had satisfaction at Lanigans Ball. \n",
            "In the midst of the row miss Kerrigan fainted, \n",
            "Her cheeks at the same time as red as a rose. \n",
            "Some of the lads declared she was painted, \n",
            "She took a small drop too much, I suppose. \n",
            "Her sweetheart, Ned Morgan, so powerful and able, \n",
            "When he saw his fair colleen stretched out by the wall, \n",
            "Tore the left leg from under the table \n",
            "And smashed all the Chaneys at Lanigans Ball. \n",
            "Boys, oh boys, twas then there were runctions. \n",
            "Myself got a lick from big Phelim McHugh. \n",
            "I soon replied to his introduction \n",
            "And kicked up a terrible hullabaloo. \n",
            "Old Casey, the piper, was near being strangled. \n",
            "They squeezed up his pipes, bellows, chanters and all. \n",
            "The girls, in their ribbons, they got all entangled \n",
            "And that put an end to Lanigans Ball.\n"
          ]
        }
      ]
    },
    {
      "cell_type": "code",
      "source": [
        "sentences = data.split(\"\\n\")\n",
        "sentences[:5]"
      ],
      "metadata": {
        "colab": {
          "base_uri": "https://localhost:8080/"
        },
        "id": "fwOhLxERD38d",
        "outputId": "8b42f70d-2c5d-4478-b265-030508fe0692"
      },
      "execution_count": null,
      "outputs": [
        {
          "output_type": "execute_result",
          "data": {
            "text/plain": [
              "['In the town of Athy one Jeremy Lanigan ',\n",
              " ' Battered away til he hadnt a pound. ',\n",
              " 'His father died and made him a man again ',\n",
              " ' Left him a farm and ten acres of ground. ',\n",
              " 'He gave a grand party for friends and relations ']"
            ]
          },
          "metadata": {},
          "execution_count": 5
        }
      ]
    },
    {
      "cell_type": "code",
      "source": [
        "tokenizer = tf.keras.preprocessing.text.Tokenizer(num_words=None, lower=True, split=' ', oov_token=\"<OOV>\")\n",
        "# feed\n",
        "tokenizer.fit_on_texts(texts=sentences)"
      ],
      "metadata": {
        "id": "RAqDFlzzEWxM"
      },
      "execution_count": null,
      "outputs": []
    },
    {
      "cell_type": "code",
      "source": [
        "# encode to word index\n",
        "sequences =  tokenizer.texts_to_sequences(texts=sentences)"
      ],
      "metadata": {
        "id": "f8De9hlVGCA6"
      },
      "execution_count": null,
      "outputs": []
    },
    {
      "cell_type": "code",
      "source": [
        "type(sequences), type(sequences[0])"
      ],
      "metadata": {
        "colab": {
          "base_uri": "https://localhost:8080/"
        },
        "id": "cZWUpR2MIVJe",
        "outputId": "62fc8547-862b-4866-b591-846beac80096"
      },
      "execution_count": null,
      "outputs": [
        {
          "output_type": "execute_result",
          "data": {
            "text/plain": [
              "(list, list)"
            ]
          },
          "metadata": {},
          "execution_count": 12
        }
      ]
    },
    {
      "cell_type": "code",
      "source": [
        "# prepare n length sequence to predict n+1 word\n",
        "sliced_sequences = []\n",
        "minimum_words = 1\n",
        "for sequence in sequences:\n",
        "  for i in range(minimum_words, len(sequence)):\n",
        "    sliced_sequences.append(sequence[:i+1])\n",
        "print(f\"sequences len: {len(sequences)}\")\n",
        "print(f\"sliced_sequences len: {len(sliced_sequences)}\")"
      ],
      "metadata": {
        "colab": {
          "base_uri": "https://localhost:8080/"
        },
        "id": "maRUuYhCITEg",
        "outputId": "8d26e26a-8721-4b69-af65-b3a95ccfada8"
      },
      "execution_count": null,
      "outputs": [
        {
          "output_type": "stream",
          "name": "stdout",
          "text": [
            "sequences len: 64\n",
            "sliced_sequences len: 453\n"
          ]
        }
      ]
    },
    {
      "cell_type": "code",
      "source": [
        "print((tokenizer.sequences_to_texts(sliced_sequences[0:5])))"
      ],
      "metadata": {
        "colab": {
          "base_uri": "https://localhost:8080/"
        },
        "id": "9zo7AYGiR5SW",
        "outputId": "ea471207-eab4-4dba-d70d-8b3992c49871"
      },
      "execution_count": null,
      "outputs": [
        {
          "output_type": "stream",
          "name": "stdout",
          "text": [
            "['in the', 'in the town', 'in the town of', 'in the town of athy', 'in the town of athy one']\n"
          ]
        }
      ]
    },
    {
      "cell_type": "code",
      "source": [
        "# pre pad the sequences\n",
        "p_sequences = tf.keras.preprocessing.sequence.pad_sequences(sequences=sliced_sequences, maxlen=None, padding='pre')"
      ],
      "metadata": {
        "id": "I8--kIJqRNwo"
      },
      "execution_count": null,
      "outputs": []
    },
    {
      "cell_type": "code",
      "source": [
        "p_sequences.shape"
      ],
      "metadata": {
        "colab": {
          "base_uri": "https://localhost:8080/"
        },
        "id": "-dxoCersSv_c",
        "outputId": "30724e2d-6290-474b-fd6c-2d6afaadb2a6"
      },
      "execution_count": null,
      "outputs": [
        {
          "output_type": "execute_result",
          "data": {
            "text/plain": [
              "(453, 11)"
            ]
          },
          "metadata": {},
          "execution_count": 22
        }
      ]
    },
    {
      "cell_type": "code",
      "source": [
        "# split  into input and output\n",
        "X = p_sequences[:, :-1]\n",
        "y = p_sequences[:, -1]\n",
        "X.shape, y.shape"
      ],
      "metadata": {
        "colab": {
          "base_uri": "https://localhost:8080/"
        },
        "id": "LRndjkR8S79s",
        "outputId": "83539ecb-ca53-487c-892b-6b078caaead7"
      },
      "execution_count": null,
      "outputs": [
        {
          "output_type": "execute_result",
          "data": {
            "text/plain": [
              "((453, 10), (453,))"
            ]
          },
          "metadata": {},
          "execution_count": 23
        }
      ]
    },
    {
      "cell_type": "code",
      "source": [
        "y = tf.keras.utils.to_categorical(y)"
      ],
      "metadata": {
        "id": "EQTVTEApU7VE"
      },
      "execution_count": null,
      "outputs": []
    },
    {
      "cell_type": "code",
      "source": [
        "vocab_size = len(tokenizer.word_index)+1"
      ],
      "metadata": {
        "id": "RdGF0OuCVLOj"
      },
      "execution_count": null,
      "outputs": []
    },
    {
      "cell_type": "code",
      "source": [
        "vocab_size"
      ],
      "metadata": {
        "colab": {
          "base_uri": "https://localhost:8080/"
        },
        "id": "G_Fi3W51VUer",
        "outputId": "c2cc6957-c95c-4983-c23e-2624aa5b6411"
      },
      "execution_count": null,
      "outputs": [
        {
          "output_type": "execute_result",
          "data": {
            "text/plain": [
              "264"
            ]
          },
          "metadata": {},
          "execution_count": 27
        }
      ]
    },
    {
      "cell_type": "code",
      "source": [
        "len(y[0])"
      ],
      "metadata": {
        "colab": {
          "base_uri": "https://localhost:8080/"
        },
        "id": "XJFca2EzVXPa",
        "outputId": "84433d77-bcc2-4104-a074-ad6ae584719c"
      },
      "execution_count": null,
      "outputs": [
        {
          "output_type": "execute_result",
          "data": {
            "text/plain": [
              "264"
            ]
          },
          "metadata": {},
          "execution_count": 29
        }
      ]
    },
    {
      "cell_type": "code",
      "source": [
        "y.shape"
      ],
      "metadata": {
        "colab": {
          "base_uri": "https://localhost:8080/"
        },
        "id": "80gB7_29Va-r",
        "outputId": "1724e94d-9f66-44f0-ad6a-caaa64fff0f9"
      },
      "execution_count": null,
      "outputs": [
        {
          "output_type": "execute_result",
          "data": {
            "text/plain": [
              "(453, 264)"
            ]
          },
          "metadata": {},
          "execution_count": 30
        }
      ]
    },
    {
      "cell_type": "markdown",
      "source": [
        "# Model"
      ],
      "metadata": {
        "id": "6oMuJefFVfAq"
      }
    },
    {
      "cell_type": "code",
      "source": [
        "model = tf.keras.Sequential(\n",
        "    layers = [\n",
        "              tf.keras.layers.Input(shape=X.shape[1:]),\n",
        "              tf.keras.layers.Embedding(input_dim=vocab_size, output_dim=32),\n",
        "              tf.keras.layers.Bidirectional(tf.keras.layers.LSTM(units=64)),\n",
        "              tf.keras.layers.Dense(units=vocab_size, activation='softmax')\n",
        "    ]\n",
        ")\n",
        "model.summary()"
      ],
      "metadata": {
        "colab": {
          "base_uri": "https://localhost:8080/"
        },
        "id": "P1tHI04ZVcdL",
        "outputId": "618c8c64-25d0-4748-e312-cda30b12ad67"
      },
      "execution_count": null,
      "outputs": [
        {
          "output_type": "stream",
          "name": "stdout",
          "text": [
            "Model: \"sequential\"\n",
            "_________________________________________________________________\n",
            " Layer (type)                Output Shape              Param #   \n",
            "=================================================================\n",
            " embedding (Embedding)       (None, 10, 32)            8448      \n",
            "                                                                 \n",
            " bidirectional (Bidirectiona  (None, 128)              49664     \n",
            " l)                                                              \n",
            "                                                                 \n",
            " dense (Dense)               (None, 264)               34056     \n",
            "                                                                 \n",
            "=================================================================\n",
            "Total params: 92,168\n",
            "Trainable params: 92,168\n",
            "Non-trainable params: 0\n",
            "_________________________________________________________________\n"
          ]
        }
      ]
    },
    {
      "cell_type": "code",
      "source": [
        "model.compile(optimizer='adam', loss='categorical_crossentropy', metrics=['accuracy'])\n",
        "model.fit(X, y, epochs=300)"
      ],
      "metadata": {
        "colab": {
          "base_uri": "https://localhost:8080/"
        },
        "id": "1-ZwjZsHWlZy",
        "outputId": "51e71837-3685-4f71-bddd-379b718c6f6c"
      },
      "execution_count": null,
      "outputs": [
        {
          "output_type": "stream",
          "name": "stdout",
          "text": [
            "Epoch 1/300\n",
            "15/15 [==============================] - 4s 13ms/step - loss: 1.0379 - accuracy: 0.8057\n",
            "Epoch 2/300\n",
            "15/15 [==============================] - 0s 12ms/step - loss: 0.9954 - accuracy: 0.8035\n",
            "Epoch 3/300\n",
            "15/15 [==============================] - 0s 14ms/step - loss: 0.9838 - accuracy: 0.8234\n",
            "Epoch 4/300\n",
            "15/15 [==============================] - 0s 15ms/step - loss: 0.9252 - accuracy: 0.8366\n",
            "Epoch 5/300\n",
            "15/15 [==============================] - 0s 15ms/step - loss: 0.9130 - accuracy: 0.8521\n",
            "Epoch 6/300\n",
            "15/15 [==============================] - 0s 14ms/step - loss: 0.9070 - accuracy: 0.8411\n",
            "Epoch 7/300\n",
            "15/15 [==============================] - 0s 13ms/step - loss: 0.8623 - accuracy: 0.8543\n",
            "Epoch 8/300\n",
            "15/15 [==============================] - 0s 12ms/step - loss: 0.8351 - accuracy: 0.8389\n",
            "Epoch 9/300\n",
            "15/15 [==============================] - 0s 11ms/step - loss: 0.8072 - accuracy: 0.8631\n",
            "Epoch 10/300\n",
            "15/15 [==============================] - 0s 13ms/step - loss: 0.7841 - accuracy: 0.8587\n",
            "Epoch 11/300\n",
            "15/15 [==============================] - 0s 12ms/step - loss: 0.7662 - accuracy: 0.8808\n",
            "Epoch 12/300\n",
            "15/15 [==============================] - 0s 12ms/step - loss: 0.7528 - accuracy: 0.8698\n",
            "Epoch 13/300\n",
            "15/15 [==============================] - 0s 12ms/step - loss: 0.7413 - accuracy: 0.8742\n",
            "Epoch 14/300\n",
            "15/15 [==============================] - 0s 11ms/step - loss: 0.7234 - accuracy: 0.8874\n",
            "Epoch 15/300\n",
            "15/15 [==============================] - 0s 12ms/step - loss: 0.7210 - accuracy: 0.8786\n",
            "Epoch 16/300\n",
            "15/15 [==============================] - 0s 13ms/step - loss: 0.7284 - accuracy: 0.8808\n",
            "Epoch 17/300\n",
            "15/15 [==============================] - 0s 13ms/step - loss: 0.7179 - accuracy: 0.8764\n",
            "Epoch 18/300\n",
            "15/15 [==============================] - 0s 12ms/step - loss: 0.7207 - accuracy: 0.8786\n",
            "Epoch 19/300\n",
            "15/15 [==============================] - 0s 12ms/step - loss: 0.7153 - accuracy: 0.8609\n",
            "Epoch 20/300\n",
            "15/15 [==============================] - 0s 13ms/step - loss: 0.7413 - accuracy: 0.8565\n",
            "Epoch 21/300\n",
            "15/15 [==============================] - 0s 12ms/step - loss: 0.7254 - accuracy: 0.8587\n",
            "Epoch 22/300\n",
            "15/15 [==============================] - 0s 13ms/step - loss: 0.6820 - accuracy: 0.8609\n",
            "Epoch 23/300\n",
            "15/15 [==============================] - 0s 13ms/step - loss: 0.6655 - accuracy: 0.8631\n",
            "Epoch 24/300\n",
            "15/15 [==============================] - 0s 13ms/step - loss: 0.6470 - accuracy: 0.8720\n",
            "Epoch 25/300\n",
            "15/15 [==============================] - 0s 14ms/step - loss: 0.6265 - accuracy: 0.8830\n",
            "Epoch 26/300\n",
            "15/15 [==============================] - 0s 14ms/step - loss: 0.5991 - accuracy: 0.8918\n",
            "Epoch 27/300\n",
            "15/15 [==============================] - 0s 14ms/step - loss: 0.5982 - accuracy: 0.8852\n",
            "Epoch 28/300\n",
            "15/15 [==============================] - 0s 14ms/step - loss: 0.5845 - accuracy: 0.8874\n",
            "Epoch 29/300\n",
            "15/15 [==============================] - 0s 14ms/step - loss: 0.5696 - accuracy: 0.9007\n",
            "Epoch 30/300\n",
            "15/15 [==============================] - 0s 14ms/step - loss: 0.5600 - accuracy: 0.8940\n",
            "Epoch 31/300\n",
            "15/15 [==============================] - 0s 15ms/step - loss: 0.5718 - accuracy: 0.9007\n",
            "Epoch 32/300\n",
            "15/15 [==============================] - 0s 14ms/step - loss: 0.5572 - accuracy: 0.9007\n",
            "Epoch 33/300\n",
            "15/15 [==============================] - 0s 14ms/step - loss: 0.5422 - accuracy: 0.8962\n",
            "Epoch 34/300\n",
            "15/15 [==============================] - 0s 14ms/step - loss: 0.5346 - accuracy: 0.9007\n",
            "Epoch 35/300\n",
            "15/15 [==============================] - 0s 14ms/step - loss: 0.5391 - accuracy: 0.8940\n",
            "Epoch 36/300\n",
            "15/15 [==============================] - 0s 15ms/step - loss: 0.5396 - accuracy: 0.8962\n",
            "Epoch 37/300\n",
            "15/15 [==============================] - 0s 14ms/step - loss: 0.5076 - accuracy: 0.9073\n",
            "Epoch 38/300\n",
            "15/15 [==============================] - 0s 14ms/step - loss: 0.5045 - accuracy: 0.9029\n",
            "Epoch 39/300\n",
            "15/15 [==============================] - 0s 13ms/step - loss: 0.4832 - accuracy: 0.9161\n",
            "Epoch 40/300\n",
            "15/15 [==============================] - 0s 15ms/step - loss: 0.4748 - accuracy: 0.9117\n",
            "Epoch 41/300\n",
            "15/15 [==============================] - 0s 14ms/step - loss: 0.4611 - accuracy: 0.9183\n",
            "Epoch 42/300\n",
            "15/15 [==============================] - 0s 14ms/step - loss: 0.4777 - accuracy: 0.9007\n",
            "Epoch 43/300\n",
            "15/15 [==============================] - 0s 14ms/step - loss: 0.4594 - accuracy: 0.9051\n",
            "Epoch 44/300\n",
            "15/15 [==============================] - 0s 15ms/step - loss: 0.4447 - accuracy: 0.9161\n",
            "Epoch 45/300\n",
            "15/15 [==============================] - 0s 14ms/step - loss: 0.4397 - accuracy: 0.9095\n",
            "Epoch 46/300\n",
            "15/15 [==============================] - 0s 15ms/step - loss: 0.4163 - accuracy: 0.9227\n",
            "Epoch 47/300\n",
            "15/15 [==============================] - 0s 12ms/step - loss: 0.4077 - accuracy: 0.9294\n",
            "Epoch 48/300\n",
            "15/15 [==============================] - 0s 11ms/step - loss: 0.4094 - accuracy: 0.9294\n",
            "Epoch 49/300\n",
            "15/15 [==============================] - 0s 13ms/step - loss: 0.4021 - accuracy: 0.9205\n",
            "Epoch 50/300\n",
            "15/15 [==============================] - 0s 12ms/step - loss: 0.3969 - accuracy: 0.9272\n",
            "Epoch 51/300\n",
            "15/15 [==============================] - 0s 11ms/step - loss: 0.3954 - accuracy: 0.9294\n",
            "Epoch 52/300\n",
            "15/15 [==============================] - 0s 12ms/step - loss: 0.4112 - accuracy: 0.9205\n",
            "Epoch 53/300\n",
            "15/15 [==============================] - 0s 12ms/step - loss: 0.4191 - accuracy: 0.9249\n",
            "Epoch 54/300\n",
            "15/15 [==============================] - 0s 12ms/step - loss: 0.3875 - accuracy: 0.9294\n",
            "Epoch 55/300\n",
            "15/15 [==============================] - 0s 14ms/step - loss: 0.3668 - accuracy: 0.9294\n",
            "Epoch 56/300\n",
            "15/15 [==============================] - 0s 12ms/step - loss: 0.3697 - accuracy: 0.9249\n",
            "Epoch 57/300\n",
            "15/15 [==============================] - 0s 14ms/step - loss: 0.3582 - accuracy: 0.9249\n",
            "Epoch 58/300\n",
            "15/15 [==============================] - 0s 15ms/step - loss: 0.3467 - accuracy: 0.9338\n",
            "Epoch 59/300\n",
            "15/15 [==============================] - 0s 15ms/step - loss: 0.3360 - accuracy: 0.9404\n",
            "Epoch 60/300\n",
            "15/15 [==============================] - 0s 15ms/step - loss: 0.3314 - accuracy: 0.9338\n",
            "Epoch 61/300\n",
            "15/15 [==============================] - 0s 14ms/step - loss: 0.3300 - accuracy: 0.9426\n",
            "Epoch 62/300\n",
            "15/15 [==============================] - 0s 11ms/step - loss: 0.3189 - accuracy: 0.9404\n",
            "Epoch 63/300\n",
            "15/15 [==============================] - 0s 12ms/step - loss: 0.3162 - accuracy: 0.9382\n",
            "Epoch 64/300\n",
            "15/15 [==============================] - 0s 12ms/step - loss: 0.3118 - accuracy: 0.9338\n",
            "Epoch 65/300\n",
            "15/15 [==============================] - 0s 13ms/step - loss: 0.3048 - accuracy: 0.9426\n",
            "Epoch 66/300\n",
            "15/15 [==============================] - 0s 12ms/step - loss: 0.3108 - accuracy: 0.9360\n",
            "Epoch 67/300\n",
            "15/15 [==============================] - 0s 14ms/step - loss: 0.3197 - accuracy: 0.9360\n",
            "Epoch 68/300\n",
            "15/15 [==============================] - 0s 14ms/step - loss: 0.3233 - accuracy: 0.9338\n",
            "Epoch 69/300\n",
            "15/15 [==============================] - 0s 14ms/step - loss: 0.3224 - accuracy: 0.9316\n",
            "Epoch 70/300\n",
            "15/15 [==============================] - 0s 15ms/step - loss: 0.3361 - accuracy: 0.9205\n",
            "Epoch 71/300\n",
            "15/15 [==============================] - 0s 14ms/step - loss: 0.3384 - accuracy: 0.9316\n",
            "Epoch 72/300\n",
            "15/15 [==============================] - 0s 14ms/step - loss: 0.3978 - accuracy: 0.8962\n",
            "Epoch 73/300\n",
            "15/15 [==============================] - 0s 15ms/step - loss: 0.4128 - accuracy: 0.8962\n",
            "Epoch 74/300\n",
            "15/15 [==============================] - 0s 15ms/step - loss: 0.3699 - accuracy: 0.9183\n",
            "Epoch 75/300\n",
            "15/15 [==============================] - 0s 14ms/step - loss: 0.3476 - accuracy: 0.9117\n",
            "Epoch 76/300\n",
            "15/15 [==============================] - 0s 14ms/step - loss: 0.3129 - accuracy: 0.9316\n",
            "Epoch 77/300\n",
            "15/15 [==============================] - 0s 14ms/step - loss: 0.3214 - accuracy: 0.9272\n",
            "Epoch 78/300\n",
            "15/15 [==============================] - 0s 14ms/step - loss: 0.3266 - accuracy: 0.9205\n",
            "Epoch 79/300\n",
            "15/15 [==============================] - 0s 15ms/step - loss: 0.3069 - accuracy: 0.9183\n",
            "Epoch 80/300\n",
            "15/15 [==============================] - 0s 13ms/step - loss: 0.2807 - accuracy: 0.9316\n",
            "Epoch 81/300\n",
            "15/15 [==============================] - 0s 12ms/step - loss: 0.2706 - accuracy: 0.9360\n",
            "Epoch 82/300\n",
            "15/15 [==============================] - 0s 12ms/step - loss: 0.2590 - accuracy: 0.9404\n",
            "Epoch 83/300\n",
            "15/15 [==============================] - 0s 13ms/step - loss: 0.2491 - accuracy: 0.9426\n",
            "Epoch 84/300\n",
            "15/15 [==============================] - 0s 13ms/step - loss: 0.2493 - accuracy: 0.9448\n",
            "Epoch 85/300\n",
            "15/15 [==============================] - 0s 12ms/step - loss: 0.2460 - accuracy: 0.9426\n",
            "Epoch 86/300\n",
            "15/15 [==============================] - 0s 12ms/step - loss: 0.2394 - accuracy: 0.9448\n",
            "Epoch 87/300\n",
            "15/15 [==============================] - 0s 12ms/step - loss: 0.2384 - accuracy: 0.9404\n",
            "Epoch 88/300\n",
            "15/15 [==============================] - 0s 12ms/step - loss: 0.2415 - accuracy: 0.9382\n",
            "Epoch 89/300\n",
            "15/15 [==============================] - 0s 15ms/step - loss: 0.2309 - accuracy: 0.9426\n",
            "Epoch 90/300\n",
            "15/15 [==============================] - 0s 13ms/step - loss: 0.2262 - accuracy: 0.9448\n",
            "Epoch 91/300\n",
            "15/15 [==============================] - 0s 14ms/step - loss: 0.2250 - accuracy: 0.9448\n",
            "Epoch 92/300\n",
            "15/15 [==============================] - 0s 14ms/step - loss: 0.2208 - accuracy: 0.9448\n",
            "Epoch 93/300\n",
            "15/15 [==============================] - 0s 14ms/step - loss: 0.2182 - accuracy: 0.9470\n",
            "Epoch 94/300\n",
            "15/15 [==============================] - 0s 16ms/step - loss: 0.2175 - accuracy: 0.9470\n",
            "Epoch 95/300\n",
            "15/15 [==============================] - 0s 14ms/step - loss: 0.2125 - accuracy: 0.9470\n",
            "Epoch 96/300\n",
            "15/15 [==============================] - 0s 14ms/step - loss: 0.2127 - accuracy: 0.9426\n",
            "Epoch 97/300\n",
            "15/15 [==============================] - 0s 14ms/step - loss: 0.2096 - accuracy: 0.9404\n",
            "Epoch 98/300\n",
            "15/15 [==============================] - 0s 15ms/step - loss: 0.2072 - accuracy: 0.9448\n",
            "Epoch 99/300\n",
            "15/15 [==============================] - 0s 14ms/step - loss: 0.2062 - accuracy: 0.9470\n",
            "Epoch 100/300\n",
            "15/15 [==============================] - 0s 12ms/step - loss: 0.2014 - accuracy: 0.9448\n",
            "Epoch 101/300\n",
            "15/15 [==============================] - 0s 11ms/step - loss: 0.1995 - accuracy: 0.9470\n",
            "Epoch 102/300\n",
            "15/15 [==============================] - 0s 13ms/step - loss: 0.1972 - accuracy: 0.9448\n",
            "Epoch 103/300\n",
            "15/15 [==============================] - 0s 13ms/step - loss: 0.1936 - accuracy: 0.9404\n",
            "Epoch 104/300\n",
            "15/15 [==============================] - 0s 12ms/step - loss: 0.1910 - accuracy: 0.9382\n",
            "Epoch 105/300\n",
            "15/15 [==============================] - 0s 13ms/step - loss: 0.1910 - accuracy: 0.9426\n",
            "Epoch 106/300\n",
            "15/15 [==============================] - 0s 14ms/step - loss: 0.1891 - accuracy: 0.9404\n",
            "Epoch 107/300\n",
            "15/15 [==============================] - 0s 15ms/step - loss: 0.1859 - accuracy: 0.9426\n",
            "Epoch 108/300\n",
            "15/15 [==============================] - 0s 15ms/step - loss: 0.1851 - accuracy: 0.9382\n",
            "Epoch 109/300\n",
            "15/15 [==============================] - 0s 14ms/step - loss: 0.1862 - accuracy: 0.9426\n",
            "Epoch 110/300\n",
            "15/15 [==============================] - 0s 12ms/step - loss: 0.1830 - accuracy: 0.9470\n",
            "Epoch 111/300\n",
            "15/15 [==============================] - 0s 13ms/step - loss: 0.1822 - accuracy: 0.9426\n",
            "Epoch 112/300\n",
            "15/15 [==============================] - 0s 12ms/step - loss: 0.1822 - accuracy: 0.9404\n",
            "Epoch 113/300\n",
            "15/15 [==============================] - 0s 15ms/step - loss: 0.1794 - accuracy: 0.9404\n",
            "Epoch 114/300\n",
            "15/15 [==============================] - 0s 13ms/step - loss: 0.1751 - accuracy: 0.9426\n",
            "Epoch 115/300\n",
            "15/15 [==============================] - 0s 12ms/step - loss: 0.1760 - accuracy: 0.9470\n",
            "Epoch 116/300\n",
            "15/15 [==============================] - 0s 13ms/step - loss: 0.1777 - accuracy: 0.9470\n",
            "Epoch 117/300\n",
            "15/15 [==============================] - 0s 12ms/step - loss: 0.1729 - accuracy: 0.9404\n",
            "Epoch 118/300\n",
            "15/15 [==============================] - 0s 13ms/step - loss: 0.1739 - accuracy: 0.9382\n",
            "Epoch 119/300\n",
            "15/15 [==============================] - 0s 13ms/step - loss: 0.1696 - accuracy: 0.9448\n",
            "Epoch 120/300\n",
            "15/15 [==============================] - 0s 12ms/step - loss: 0.1693 - accuracy: 0.9448\n",
            "Epoch 121/300\n",
            "15/15 [==============================] - 0s 13ms/step - loss: 0.1709 - accuracy: 0.9448\n",
            "Epoch 122/300\n",
            "15/15 [==============================] - 0s 13ms/step - loss: 0.1744 - accuracy: 0.9360\n",
            "Epoch 123/300\n",
            "15/15 [==============================] - 0s 13ms/step - loss: 0.1896 - accuracy: 0.9448\n",
            "Epoch 124/300\n",
            "15/15 [==============================] - 0s 12ms/step - loss: 0.1937 - accuracy: 0.9338\n",
            "Epoch 125/300\n",
            "15/15 [==============================] - 0s 12ms/step - loss: 0.1927 - accuracy: 0.9382\n",
            "Epoch 126/300\n",
            "15/15 [==============================] - 0s 12ms/step - loss: 0.4448 - accuracy: 0.8720\n",
            "Epoch 127/300\n",
            "15/15 [==============================] - 0s 11ms/step - loss: 0.4619 - accuracy: 0.8742\n",
            "Epoch 128/300\n",
            "15/15 [==============================] - 0s 12ms/step - loss: 0.4723 - accuracy: 0.8653\n",
            "Epoch 129/300\n",
            "15/15 [==============================] - 0s 11ms/step - loss: 0.3782 - accuracy: 0.8940\n",
            "Epoch 130/300\n",
            "15/15 [==============================] - 0s 13ms/step - loss: 0.2973 - accuracy: 0.9095\n",
            "Epoch 131/300\n",
            "15/15 [==============================] - 0s 14ms/step - loss: 0.2790 - accuracy: 0.9205\n",
            "Epoch 132/300\n",
            "15/15 [==============================] - 0s 15ms/step - loss: 0.2419 - accuracy: 0.9360\n",
            "Epoch 133/300\n",
            "15/15 [==============================] - 0s 15ms/step - loss: 0.2240 - accuracy: 0.9338\n",
            "Epoch 134/300\n",
            "15/15 [==============================] - 0s 15ms/step - loss: 0.2025 - accuracy: 0.9382\n",
            "Epoch 135/300\n",
            "15/15 [==============================] - 0s 14ms/step - loss: 0.1902 - accuracy: 0.9426\n",
            "Epoch 136/300\n",
            "15/15 [==============================] - 0s 14ms/step - loss: 0.1829 - accuracy: 0.9492\n",
            "Epoch 137/300\n",
            "15/15 [==============================] - 0s 14ms/step - loss: 0.1852 - accuracy: 0.9448\n",
            "Epoch 138/300\n",
            "15/15 [==============================] - 0s 15ms/step - loss: 0.1812 - accuracy: 0.9360\n",
            "Epoch 139/300\n",
            "15/15 [==============================] - 0s 15ms/step - loss: 0.1692 - accuracy: 0.9448\n",
            "Epoch 140/300\n",
            "15/15 [==============================] - 0s 13ms/step - loss: 0.1801 - accuracy: 0.9426\n",
            "Epoch 141/300\n",
            "15/15 [==============================] - 0s 12ms/step - loss: 0.1659 - accuracy: 0.9404\n",
            "Epoch 142/300\n",
            "15/15 [==============================] - 0s 13ms/step - loss: 0.1622 - accuracy: 0.9426\n",
            "Epoch 143/300\n",
            "15/15 [==============================] - 0s 14ms/step - loss: 0.1590 - accuracy: 0.9536\n",
            "Epoch 144/300\n",
            "15/15 [==============================] - 0s 13ms/step - loss: 0.1573 - accuracy: 0.9514\n",
            "Epoch 145/300\n",
            "15/15 [==============================] - 0s 14ms/step - loss: 0.1541 - accuracy: 0.9470\n",
            "Epoch 146/300\n",
            "15/15 [==============================] - 0s 15ms/step - loss: 0.1530 - accuracy: 0.9426\n",
            "Epoch 147/300\n",
            "15/15 [==============================] - 0s 14ms/step - loss: 0.1505 - accuracy: 0.9492\n",
            "Epoch 148/300\n",
            "15/15 [==============================] - 0s 14ms/step - loss: 0.1482 - accuracy: 0.9448\n",
            "Epoch 149/300\n",
            "15/15 [==============================] - 0s 13ms/step - loss: 0.1466 - accuracy: 0.9492\n",
            "Epoch 150/300\n",
            "15/15 [==============================] - 0s 13ms/step - loss: 0.1468 - accuracy: 0.9514\n",
            "Epoch 151/300\n",
            "15/15 [==============================] - 0s 13ms/step - loss: 0.1462 - accuracy: 0.9426\n",
            "Epoch 152/300\n",
            "15/15 [==============================] - 0s 14ms/step - loss: 0.1454 - accuracy: 0.9514\n",
            "Epoch 153/300\n",
            "15/15 [==============================] - 0s 12ms/step - loss: 0.1445 - accuracy: 0.9448\n",
            "Epoch 154/300\n",
            "15/15 [==============================] - 0s 13ms/step - loss: 0.1485 - accuracy: 0.9492\n",
            "Epoch 155/300\n",
            "15/15 [==============================] - 0s 13ms/step - loss: 0.1454 - accuracy: 0.9470\n",
            "Epoch 156/300\n",
            "15/15 [==============================] - 0s 12ms/step - loss: 0.1435 - accuracy: 0.9492\n",
            "Epoch 157/300\n",
            "15/15 [==============================] - 0s 13ms/step - loss: 0.1409 - accuracy: 0.9470\n",
            "Epoch 158/300\n",
            "15/15 [==============================] - 0s 12ms/step - loss: 0.1411 - accuracy: 0.9514\n",
            "Epoch 159/300\n",
            "15/15 [==============================] - 0s 12ms/step - loss: 0.1376 - accuracy: 0.9448\n",
            "Epoch 160/300\n",
            "15/15 [==============================] - 0s 12ms/step - loss: 0.1354 - accuracy: 0.9448\n",
            "Epoch 161/300\n",
            "15/15 [==============================] - 0s 12ms/step - loss: 0.1375 - accuracy: 0.9448\n",
            "Epoch 162/300\n",
            "15/15 [==============================] - 0s 12ms/step - loss: 0.1374 - accuracy: 0.9448\n",
            "Epoch 163/300\n",
            "15/15 [==============================] - 0s 12ms/step - loss: 0.1359 - accuracy: 0.9426\n",
            "Epoch 164/300\n",
            "15/15 [==============================] - 0s 13ms/step - loss: 0.1369 - accuracy: 0.9448\n",
            "Epoch 165/300\n",
            "15/15 [==============================] - 0s 13ms/step - loss: 0.1352 - accuracy: 0.9470\n",
            "Epoch 166/300\n",
            "15/15 [==============================] - 0s 12ms/step - loss: 0.1322 - accuracy: 0.9448\n",
            "Epoch 167/300\n",
            "15/15 [==============================] - 0s 12ms/step - loss: 0.1351 - accuracy: 0.9492\n",
            "Epoch 168/300\n",
            "15/15 [==============================] - 0s 13ms/step - loss: 0.1333 - accuracy: 0.9448\n",
            "Epoch 169/300\n",
            "15/15 [==============================] - 0s 13ms/step - loss: 0.1331 - accuracy: 0.9448\n",
            "Epoch 170/300\n",
            "15/15 [==============================] - 0s 12ms/step - loss: 0.1344 - accuracy: 0.9426\n",
            "Epoch 171/300\n",
            "15/15 [==============================] - 0s 13ms/step - loss: 0.1329 - accuracy: 0.9360\n",
            "Epoch 172/300\n",
            "15/15 [==============================] - 0s 12ms/step - loss: 0.1305 - accuracy: 0.9448\n",
            "Epoch 173/300\n",
            "15/15 [==============================] - 0s 14ms/step - loss: 0.1302 - accuracy: 0.9426\n",
            "Epoch 174/300\n",
            "15/15 [==============================] - 0s 12ms/step - loss: 0.1284 - accuracy: 0.9404\n",
            "Epoch 175/300\n",
            "15/15 [==============================] - 0s 13ms/step - loss: 0.1289 - accuracy: 0.9426\n",
            "Epoch 176/300\n",
            "15/15 [==============================] - 0s 12ms/step - loss: 0.1291 - accuracy: 0.9426\n",
            "Epoch 177/300\n",
            "15/15 [==============================] - 0s 13ms/step - loss: 0.1300 - accuracy: 0.9470\n",
            "Epoch 178/300\n",
            "15/15 [==============================] - 0s 14ms/step - loss: 0.1281 - accuracy: 0.9404\n",
            "Epoch 179/300\n",
            "15/15 [==============================] - 0s 13ms/step - loss: 0.1257 - accuracy: 0.9426\n",
            "Epoch 180/300\n",
            "15/15 [==============================] - 0s 14ms/step - loss: 0.1267 - accuracy: 0.9426\n",
            "Epoch 181/300\n",
            "15/15 [==============================] - 0s 13ms/step - loss: 0.1286 - accuracy: 0.9470\n",
            "Epoch 182/300\n",
            "15/15 [==============================] - 0s 13ms/step - loss: 0.1247 - accuracy: 0.9448\n",
            "Epoch 183/300\n",
            "15/15 [==============================] - 0s 14ms/step - loss: 0.1238 - accuracy: 0.9448\n",
            "Epoch 184/300\n",
            "15/15 [==============================] - 0s 14ms/step - loss: 0.1217 - accuracy: 0.9404\n",
            "Epoch 185/300\n",
            "15/15 [==============================] - 0s 15ms/step - loss: 0.1204 - accuracy: 0.9426\n",
            "Epoch 186/300\n",
            "15/15 [==============================] - 0s 14ms/step - loss: 0.1210 - accuracy: 0.9470\n",
            "Epoch 187/300\n",
            "15/15 [==============================] - 0s 15ms/step - loss: 0.1205 - accuracy: 0.9448\n",
            "Epoch 188/300\n",
            "15/15 [==============================] - 0s 15ms/step - loss: 0.1228 - accuracy: 0.9426\n",
            "Epoch 189/300\n",
            "15/15 [==============================] - 0s 12ms/step - loss: 0.1222 - accuracy: 0.9448\n",
            "Epoch 190/300\n",
            "15/15 [==============================] - 0s 13ms/step - loss: 0.1222 - accuracy: 0.9470\n",
            "Epoch 191/300\n",
            "15/15 [==============================] - 0s 13ms/step - loss: 0.1209 - accuracy: 0.9426\n",
            "Epoch 192/300\n",
            "15/15 [==============================] - 0s 13ms/step - loss: 0.1200 - accuracy: 0.9492\n",
            "Epoch 193/300\n",
            "15/15 [==============================] - 0s 13ms/step - loss: 0.1214 - accuracy: 0.9492\n",
            "Epoch 194/300\n",
            "15/15 [==============================] - 0s 13ms/step - loss: 0.1179 - accuracy: 0.9470\n",
            "Epoch 195/300\n",
            "15/15 [==============================] - 0s 12ms/step - loss: 0.1178 - accuracy: 0.9536\n",
            "Epoch 196/300\n",
            "15/15 [==============================] - 0s 11ms/step - loss: 0.1204 - accuracy: 0.9404\n",
            "Epoch 197/300\n",
            "15/15 [==============================] - 0s 13ms/step - loss: 0.1186 - accuracy: 0.9470\n",
            "Epoch 198/300\n",
            "15/15 [==============================] - 0s 13ms/step - loss: 0.1161 - accuracy: 0.9448\n",
            "Epoch 199/300\n",
            "15/15 [==============================] - 0s 12ms/step - loss: 0.1155 - accuracy: 0.9404\n",
            "Epoch 200/300\n",
            "15/15 [==============================] - 0s 13ms/step - loss: 0.1152 - accuracy: 0.9426\n",
            "Epoch 201/300\n",
            "15/15 [==============================] - 0s 12ms/step - loss: 0.1152 - accuracy: 0.9470\n",
            "Epoch 202/300\n",
            "15/15 [==============================] - 0s 12ms/step - loss: 0.1150 - accuracy: 0.9514\n",
            "Epoch 203/300\n",
            "15/15 [==============================] - 0s 11ms/step - loss: 0.1173 - accuracy: 0.9470\n",
            "Epoch 204/300\n",
            "15/15 [==============================] - 0s 13ms/step - loss: 0.1156 - accuracy: 0.9470\n",
            "Epoch 205/300\n",
            "15/15 [==============================] - 0s 12ms/step - loss: 0.1141 - accuracy: 0.9426\n",
            "Epoch 206/300\n",
            "15/15 [==============================] - 0s 12ms/step - loss: 0.1136 - accuracy: 0.9470\n",
            "Epoch 207/300\n",
            "15/15 [==============================] - 0s 13ms/step - loss: 0.1128 - accuracy: 0.9382\n",
            "Epoch 208/300\n",
            "15/15 [==============================] - 0s 14ms/step - loss: 0.1132 - accuracy: 0.9448\n",
            "Epoch 209/300\n",
            "15/15 [==============================] - 0s 13ms/step - loss: 0.1133 - accuracy: 0.9426\n",
            "Epoch 210/300\n",
            "15/15 [==============================] - 0s 12ms/step - loss: 0.1110 - accuracy: 0.9404\n",
            "Epoch 211/300\n",
            "15/15 [==============================] - 0s 12ms/step - loss: 0.1119 - accuracy: 0.9492\n",
            "Epoch 212/300\n",
            "15/15 [==============================] - 0s 14ms/step - loss: 0.1121 - accuracy: 0.9470\n",
            "Epoch 213/300\n",
            "15/15 [==============================] - 0s 14ms/step - loss: 0.1113 - accuracy: 0.9470\n",
            "Epoch 214/300\n",
            "15/15 [==============================] - 0s 15ms/step - loss: 0.1203 - accuracy: 0.9404\n",
            "Epoch 215/300\n",
            "15/15 [==============================] - 0s 15ms/step - loss: 0.1924 - accuracy: 0.9227\n",
            "Epoch 216/300\n",
            "15/15 [==============================] - 0s 14ms/step - loss: 0.3236 - accuracy: 0.9073\n",
            "Epoch 217/300\n",
            "15/15 [==============================] - 0s 16ms/step - loss: 0.3088 - accuracy: 0.9029\n",
            "Epoch 218/300\n",
            "15/15 [==============================] - 0s 15ms/step - loss: 0.2840 - accuracy: 0.9029\n",
            "Epoch 219/300\n",
            "15/15 [==============================] - 0s 15ms/step - loss: 0.3533 - accuracy: 0.8985\n",
            "Epoch 220/300\n",
            "15/15 [==============================] - 0s 15ms/step - loss: 0.3447 - accuracy: 0.8808\n",
            "Epoch 221/300\n",
            "15/15 [==============================] - 0s 16ms/step - loss: 0.2697 - accuracy: 0.9117\n",
            "Epoch 222/300\n",
            "15/15 [==============================] - 0s 14ms/step - loss: 0.2165 - accuracy: 0.9294\n",
            "Epoch 223/300\n",
            "15/15 [==============================] - 0s 15ms/step - loss: 0.1787 - accuracy: 0.9404\n",
            "Epoch 224/300\n",
            "15/15 [==============================] - 0s 12ms/step - loss: 0.1509 - accuracy: 0.9470\n",
            "Epoch 225/300\n",
            "15/15 [==============================] - 0s 12ms/step - loss: 0.1424 - accuracy: 0.9492\n",
            "Epoch 226/300\n",
            "15/15 [==============================] - 0s 13ms/step - loss: 0.1361 - accuracy: 0.9492\n",
            "Epoch 227/300\n",
            "15/15 [==============================] - 0s 13ms/step - loss: 0.1302 - accuracy: 0.9470\n",
            "Epoch 228/300\n",
            "15/15 [==============================] - 0s 14ms/step - loss: 0.1277 - accuracy: 0.9448\n",
            "Epoch 229/300\n",
            "15/15 [==============================] - 0s 14ms/step - loss: 0.1291 - accuracy: 0.9470\n",
            "Epoch 230/300\n",
            "15/15 [==============================] - 0s 14ms/step - loss: 0.1272 - accuracy: 0.9448\n",
            "Epoch 231/300\n",
            "15/15 [==============================] - 0s 15ms/step - loss: 0.1215 - accuracy: 0.9470\n",
            "Epoch 232/300\n",
            "15/15 [==============================] - 0s 14ms/step - loss: 0.1195 - accuracy: 0.9426\n",
            "Epoch 233/300\n",
            "15/15 [==============================] - 0s 12ms/step - loss: 0.1192 - accuracy: 0.9426\n",
            "Epoch 234/300\n",
            "15/15 [==============================] - 0s 12ms/step - loss: 0.1172 - accuracy: 0.9470\n",
            "Epoch 235/300\n",
            "15/15 [==============================] - 0s 14ms/step - loss: 0.1150 - accuracy: 0.9492\n",
            "Epoch 236/300\n",
            "15/15 [==============================] - 0s 13ms/step - loss: 0.1167 - accuracy: 0.9492\n",
            "Epoch 237/300\n",
            "15/15 [==============================] - 0s 15ms/step - loss: 0.1187 - accuracy: 0.9470\n",
            "Epoch 238/300\n",
            "15/15 [==============================] - 0s 14ms/step - loss: 0.1167 - accuracy: 0.9426\n",
            "Epoch 239/300\n",
            "15/15 [==============================] - 0s 15ms/step - loss: 0.1188 - accuracy: 0.9448\n",
            "Epoch 240/300\n",
            "15/15 [==============================] - 0s 15ms/step - loss: 0.1153 - accuracy: 0.9470\n",
            "Epoch 241/300\n",
            "15/15 [==============================] - 0s 15ms/step - loss: 0.1148 - accuracy: 0.9426\n",
            "Epoch 242/300\n",
            "15/15 [==============================] - 0s 14ms/step - loss: 0.1128 - accuracy: 0.9470\n",
            "Epoch 243/300\n",
            "15/15 [==============================] - 0s 15ms/step - loss: 0.1114 - accuracy: 0.9470\n",
            "Epoch 244/300\n",
            "15/15 [==============================] - 0s 16ms/step - loss: 0.1100 - accuracy: 0.9492\n",
            "Epoch 245/300\n",
            "15/15 [==============================] - 0s 15ms/step - loss: 0.1105 - accuracy: 0.9426\n",
            "Epoch 246/300\n",
            "15/15 [==============================] - 0s 13ms/step - loss: 0.1113 - accuracy: 0.9404\n",
            "Epoch 247/300\n",
            "15/15 [==============================] - 0s 12ms/step - loss: 0.1116 - accuracy: 0.9448\n",
            "Epoch 248/300\n",
            "15/15 [==============================] - 0s 14ms/step - loss: 0.1095 - accuracy: 0.9448\n",
            "Epoch 249/300\n",
            "15/15 [==============================] - 0s 14ms/step - loss: 0.1111 - accuracy: 0.9426\n",
            "Epoch 250/300\n",
            "15/15 [==============================] - 0s 13ms/step - loss: 0.1082 - accuracy: 0.9448\n",
            "Epoch 251/300\n",
            "15/15 [==============================] - 0s 13ms/step - loss: 0.1084 - accuracy: 0.9470\n",
            "Epoch 252/300\n",
            "15/15 [==============================] - 0s 13ms/step - loss: 0.1093 - accuracy: 0.9470\n",
            "Epoch 253/300\n",
            "15/15 [==============================] - 0s 13ms/step - loss: 0.1087 - accuracy: 0.9448\n",
            "Epoch 254/300\n",
            "15/15 [==============================] - 0s 14ms/step - loss: 0.1119 - accuracy: 0.9470\n",
            "Epoch 255/300\n",
            "15/15 [==============================] - 0s 12ms/step - loss: 0.1079 - accuracy: 0.9448\n",
            "Epoch 256/300\n",
            "15/15 [==============================] - 0s 12ms/step - loss: 0.1118 - accuracy: 0.9426\n",
            "Epoch 257/300\n",
            "15/15 [==============================] - 0s 13ms/step - loss: 0.1094 - accuracy: 0.9404\n",
            "Epoch 258/300\n",
            "15/15 [==============================] - 0s 12ms/step - loss: 0.1067 - accuracy: 0.9448\n",
            "Epoch 259/300\n",
            "15/15 [==============================] - 0s 14ms/step - loss: 0.1111 - accuracy: 0.9404\n",
            "Epoch 260/300\n",
            "15/15 [==============================] - 0s 13ms/step - loss: 0.1102 - accuracy: 0.9448\n",
            "Epoch 261/300\n",
            "15/15 [==============================] - 0s 12ms/step - loss: 0.1289 - accuracy: 0.9404\n",
            "Epoch 262/300\n",
            "15/15 [==============================] - 0s 13ms/step - loss: 0.1846 - accuracy: 0.9272\n",
            "Epoch 263/300\n",
            "15/15 [==============================] - 0s 12ms/step - loss: 0.1904 - accuracy: 0.9272\n",
            "Epoch 264/300\n",
            "15/15 [==============================] - 0s 14ms/step - loss: 0.1551 - accuracy: 0.9426\n",
            "Epoch 265/300\n",
            "15/15 [==============================] - 0s 13ms/step - loss: 0.1401 - accuracy: 0.9426\n",
            "Epoch 266/300\n",
            "15/15 [==============================] - 0s 13ms/step - loss: 0.1294 - accuracy: 0.9404\n",
            "Epoch 267/300\n",
            "15/15 [==============================] - 0s 13ms/step - loss: 0.1229 - accuracy: 0.9448\n",
            "Epoch 268/300\n",
            "15/15 [==============================] - 0s 13ms/step - loss: 0.1204 - accuracy: 0.9382\n",
            "Epoch 269/300\n",
            "15/15 [==============================] - 0s 15ms/step - loss: 0.1176 - accuracy: 0.9492\n",
            "Epoch 270/300\n",
            "15/15 [==============================] - 0s 14ms/step - loss: 0.1156 - accuracy: 0.9514\n",
            "Epoch 271/300\n",
            "15/15 [==============================] - 0s 14ms/step - loss: 0.1232 - accuracy: 0.9448\n",
            "Epoch 272/300\n",
            "15/15 [==============================] - 0s 15ms/step - loss: 0.1244 - accuracy: 0.9470\n",
            "Epoch 273/300\n",
            "15/15 [==============================] - 0s 15ms/step - loss: 0.1133 - accuracy: 0.9470\n",
            "Epoch 274/300\n",
            "15/15 [==============================] - 0s 15ms/step - loss: 0.1087 - accuracy: 0.9514\n",
            "Epoch 275/300\n",
            "15/15 [==============================] - 0s 15ms/step - loss: 0.1063 - accuracy: 0.9426\n",
            "Epoch 276/300\n",
            "15/15 [==============================] - 0s 15ms/step - loss: 0.1062 - accuracy: 0.9448\n",
            "Epoch 277/300\n",
            "15/15 [==============================] - 0s 15ms/step - loss: 0.1124 - accuracy: 0.9492\n",
            "Epoch 278/300\n",
            "15/15 [==============================] - 0s 15ms/step - loss: 0.1085 - accuracy: 0.9404\n",
            "Epoch 279/300\n",
            "15/15 [==============================] - 0s 14ms/step - loss: 0.1071 - accuracy: 0.9426\n",
            "Epoch 280/300\n",
            "15/15 [==============================] - 0s 14ms/step - loss: 0.1041 - accuracy: 0.9514\n",
            "Epoch 281/300\n",
            "15/15 [==============================] - 0s 15ms/step - loss: 0.1045 - accuracy: 0.9404\n",
            "Epoch 282/300\n",
            "15/15 [==============================] - 0s 16ms/step - loss: 0.1034 - accuracy: 0.9492\n",
            "Epoch 283/300\n",
            "15/15 [==============================] - 0s 14ms/step - loss: 0.1096 - accuracy: 0.9426\n",
            "Epoch 284/300\n",
            "15/15 [==============================] - 0s 15ms/step - loss: 0.1062 - accuracy: 0.9382\n",
            "Epoch 285/300\n",
            "15/15 [==============================] - 0s 15ms/step - loss: 0.1047 - accuracy: 0.9426\n",
            "Epoch 286/300\n",
            "15/15 [==============================] - 0s 15ms/step - loss: 0.1042 - accuracy: 0.9382\n",
            "Epoch 287/300\n",
            "15/15 [==============================] - 0s 15ms/step - loss: 0.1047 - accuracy: 0.9448\n",
            "Epoch 288/300\n",
            "15/15 [==============================] - 0s 13ms/step - loss: 0.1073 - accuracy: 0.9536\n",
            "Epoch 289/300\n",
            "15/15 [==============================] - 0s 13ms/step - loss: 0.1046 - accuracy: 0.9514\n",
            "Epoch 290/300\n",
            "15/15 [==============================] - 0s 13ms/step - loss: 0.1054 - accuracy: 0.9448\n",
            "Epoch 291/300\n",
            "15/15 [==============================] - 0s 13ms/step - loss: 0.1070 - accuracy: 0.9404\n",
            "Epoch 292/300\n",
            "15/15 [==============================] - 0s 13ms/step - loss: 0.1033 - accuracy: 0.9514\n",
            "Epoch 293/300\n",
            "15/15 [==============================] - 0s 14ms/step - loss: 0.1006 - accuracy: 0.9492\n",
            "Epoch 294/300\n",
            "15/15 [==============================] - 0s 15ms/step - loss: 0.1014 - accuracy: 0.9448\n",
            "Epoch 295/300\n",
            "15/15 [==============================] - 0s 15ms/step - loss: 0.0999 - accuracy: 0.9448\n",
            "Epoch 296/300\n",
            "15/15 [==============================] - 0s 14ms/step - loss: 0.1009 - accuracy: 0.9470\n",
            "Epoch 297/300\n",
            "15/15 [==============================] - 0s 13ms/step - loss: 0.1046 - accuracy: 0.9448\n",
            "Epoch 298/300\n",
            "15/15 [==============================] - 0s 13ms/step - loss: 0.1038 - accuracy: 0.9426\n",
            "Epoch 299/300\n",
            "15/15 [==============================] - 0s 14ms/step - loss: 0.1017 - accuracy: 0.9470\n",
            "Epoch 300/300\n",
            "15/15 [==============================] - 0s 13ms/step - loss: 0.1013 - accuracy: 0.9382\n"
          ]
        },
        {
          "output_type": "execute_result",
          "data": {
            "text/plain": [
              "<keras.callbacks.History at 0x7f98ea53d790>"
            ]
          },
          "metadata": {},
          "execution_count": 34
        }
      ]
    },
    {
      "cell_type": "code",
      "source": [
        "text = \"His father died\"\n",
        "predict_words = 20\n",
        "sequence = tokenizer.texts_to_sequences([text])[0]\n",
        "print(sequence)\n",
        "for i in range(20):\n",
        "  current_sequence = tf.keras.preprocessing.sequence.pad_sequences([sequence], maxlen=X.shape[1], padding=\"pre\", truncating=\"pre\")\n",
        "  pred = model.predict(current_sequence)\n",
        "  current_pred_index = pred.argmax(axis=1)[0]\n",
        "  if current_pred_index:\n",
        "    sequence.append(current_pred_index)"
      ],
      "metadata": {
        "colab": {
          "base_uri": "https://localhost:8080/"
        },
        "id": "zQhY6LQrX0wB",
        "outputId": "d4515aec-1612-45c2-d57f-c8c35f2a2dc2"
      },
      "execution_count": null,
      "outputs": [
        {
          "output_type": "stream",
          "name": "stdout",
          "text": [
            "[17, 75, 76]\n"
          ]
        }
      ]
    },
    {
      "cell_type": "code",
      "source": [
        "print(tokenizer.sequences_to_texts([sequence]))\n"
      ],
      "metadata": {
        "colab": {
          "base_uri": "https://localhost:8080/"
        },
        "id": "zhdeID7NaPvn",
        "outputId": "70492183-975a-433a-c67e-71604126a1fc"
      },
      "execution_count": null,
      "outputs": [
        {
          "output_type": "stream",
          "name": "stdout",
          "text": [
            "['his father <OOV> him a painted a man again the glisten ask wall ground didnt boys spent ask wall when wall wall able']\n"
          ]
        }
      ]
    }
  ]
}