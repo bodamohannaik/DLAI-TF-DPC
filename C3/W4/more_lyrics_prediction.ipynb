{
  "nbformat": 4,
  "nbformat_minor": 0,
  "metadata": {
    "colab": {
      "name": "lyrics_prediction.ipynb",
      "provenance": [],
      "collapsed_sections": [],
      "authorship_tag": "ABX9TyP7xpjMZbyqproP8bBJXJQF",
      "include_colab_link": true
    },
    "kernelspec": {
      "name": "python3",
      "display_name": "Python 3"
    },
    "language_info": {
      "name": "python"
    },
    "accelerator": "GPU"
  },
  "cells": [
    {
      "cell_type": "markdown",
      "metadata": {
        "id": "view-in-github",
        "colab_type": "text"
      },
      "source": [
        "<a href=\"https://colab.research.google.com/github/bodamohannaik/DLAI-TF-DPC/blob/master/C3/W4/more_lyrics_prediction.ipynb\" target=\"_parent\"><img src=\"https://colab.research.google.com/assets/colab-badge.svg\" alt=\"Open In Colab\"/></a>"
      ]
    },
    {
      "cell_type": "markdown",
      "source": [
        "# import libraries"
      ],
      "metadata": {
        "id": "2lgywNofDToz"
      }
    },
    {
      "cell_type": "code",
      "execution_count": 1,
      "metadata": {
        "id": "S5qqLS4rDOt8"
      },
      "outputs": [],
      "source": [
        "import numpy as np\n",
        "import matplotlib.pyplot as plt\n",
        "import os\n",
        "import pandas as pd\n",
        "import tensorflow as tf"
      ]
    },
    {
      "cell_type": "markdown",
      "source": [
        "# Data Preparation"
      ],
      "metadata": {
        "id": "iFw_VkQQDSCl"
      }
    },
    {
      "cell_type": "code",
      "source": [
        "!wget https://raw.githubusercontent.com/https-deeplearning-ai/tensorflow-1-public/main/C3/W4/misc/Laurences_generated_poetry.txt"
      ],
      "metadata": {
        "colab": {
          "base_uri": "https://localhost:8080/"
        },
        "id": "CXHVtYs5ZBKK",
        "outputId": "bfdf0173-65c1-4e40-fa40-c73e979c7d3a"
      },
      "execution_count": 2,
      "outputs": [
        {
          "output_type": "stream",
          "name": "stdout",
          "text": [
            "--2022-05-28 11:36:21--  https://raw.githubusercontent.com/https-deeplearning-ai/tensorflow-1-public/main/C3/W4/misc/Laurences_generated_poetry.txt\n",
            "Resolving raw.githubusercontent.com (raw.githubusercontent.com)... 185.199.108.133, 185.199.109.133, 185.199.111.133, ...\n",
            "Connecting to raw.githubusercontent.com (raw.githubusercontent.com)|185.199.108.133|:443... connected.\n",
            "HTTP request sent, awaiting response... 200 OK\n",
            "Length: 69001 (67K) [text/plain]\n",
            "Saving to: ‘Laurences_generated_poetry.txt’\n",
            "\n",
            "\r          Laurences   0%[                    ]       0  --.-KB/s               \rLaurences_generated 100%[===================>]  67.38K  --.-KB/s    in 0.001s  \n",
            "\n",
            "2022-05-28 11:36:21 (61.7 MB/s) - ‘Laurences_generated_poetry.txt’ saved [69001/69001]\n",
            "\n"
          ]
        }
      ]
    },
    {
      "cell_type": "code",
      "source": [
        "with open('Laurences_generated_poetry.txt', 'r') as fp:\n",
        "  data = fp.read()\n",
        "data[:100]"
      ],
      "metadata": {
        "colab": {
          "base_uri": "https://localhost:8080/",
          "height": 36
        },
        "id": "ThBC0byTDmYM",
        "outputId": "9480fb11-6d7f-48d3-d75b-5808697411a3"
      },
      "execution_count": 3,
      "outputs": [
        {
          "output_type": "execute_result",
          "data": {
            "text/plain": [
              "'Come all ye maidens young and fair\\nAnd you that are blooming in your prime\\nAlways beware and keep yo'"
            ],
            "application/vnd.google.colaboratory.intrinsic+json": {
              "type": "string"
            }
          },
          "metadata": {},
          "execution_count": 3
        }
      ]
    },
    {
      "cell_type": "code",
      "source": [
        "sentences = data.split(\"\\n\")\n",
        "sentences[:5]"
      ],
      "metadata": {
        "colab": {
          "base_uri": "https://localhost:8080/"
        },
        "id": "fwOhLxERD38d",
        "outputId": "a630a701-6d26-46ba-cac7-cf07bdbabbc9"
      },
      "execution_count": 4,
      "outputs": [
        {
          "output_type": "execute_result",
          "data": {
            "text/plain": [
              "['Come all ye maidens young and fair',\n",
              " 'And you that are blooming in your prime',\n",
              " 'Always beware and keep your garden fair',\n",
              " 'Let no man steal away your thyme',\n",
              " 'For thyme it is a precious thing']"
            ]
          },
          "metadata": {},
          "execution_count": 4
        }
      ]
    },
    {
      "cell_type": "code",
      "source": [
        "tokenizer = tf.keras.preprocessing.text.Tokenizer(num_words=None, lower=True, split=' ', oov_token=\"<OOV>\")\n",
        "# feed\n",
        "tokenizer.fit_on_texts(texts=sentences)"
      ],
      "metadata": {
        "id": "RAqDFlzzEWxM"
      },
      "execution_count": 5,
      "outputs": []
    },
    {
      "cell_type": "code",
      "source": [
        "# encode to word index\n",
        "sequences =  tokenizer.texts_to_sequences(texts=sentences)"
      ],
      "metadata": {
        "id": "f8De9hlVGCA6"
      },
      "execution_count": 6,
      "outputs": []
    },
    {
      "cell_type": "code",
      "source": [
        "type(sequences), type(sequences[0])"
      ],
      "metadata": {
        "colab": {
          "base_uri": "https://localhost:8080/"
        },
        "id": "cZWUpR2MIVJe",
        "outputId": "96fdeb4f-ceb0-4d67-946b-0cb9e5427287"
      },
      "execution_count": 7,
      "outputs": [
        {
          "output_type": "execute_result",
          "data": {
            "text/plain": [
              "(list, list)"
            ]
          },
          "metadata": {},
          "execution_count": 7
        }
      ]
    },
    {
      "cell_type": "code",
      "source": [
        "# prepare n length sequence to predict n+1 word\n",
        "sliced_sequences = []\n",
        "minimum_words = 1\n",
        "for sequence in sequences:\n",
        "  for i in range(minimum_words, len(sequence)):\n",
        "    sliced_sequences.append(sequence[:i+1])\n",
        "print(f\"sequences len: {len(sequences)}\")\n",
        "print(f\"sliced_sequences len: {len(sliced_sequences)}\")"
      ],
      "metadata": {
        "colab": {
          "base_uri": "https://localhost:8080/"
        },
        "id": "maRUuYhCITEg",
        "outputId": "ac2cc93e-90f7-4a2c-8cb7-f1b7124b6de4"
      },
      "execution_count": 8,
      "outputs": [
        {
          "output_type": "stream",
          "name": "stdout",
          "text": [
            "sequences len: 1692\n",
            "sliced_sequences len: 12038\n"
          ]
        }
      ]
    },
    {
      "cell_type": "code",
      "source": [
        "print((tokenizer.sequences_to_texts(sliced_sequences[0:5])))"
      ],
      "metadata": {
        "colab": {
          "base_uri": "https://localhost:8080/"
        },
        "id": "9zo7AYGiR5SW",
        "outputId": "5c0f52c1-b994-49c5-ad35-1a7d9b02acf2"
      },
      "execution_count": 9,
      "outputs": [
        {
          "output_type": "stream",
          "name": "stdout",
          "text": [
            "['come all', 'come all ye', 'come all ye maidens', 'come all ye maidens young', 'come all ye maidens young and']\n"
          ]
        }
      ]
    },
    {
      "cell_type": "code",
      "source": [
        "# pre pad the sequences\n",
        "p_sequences = tf.keras.preprocessing.sequence.pad_sequences(sequences=sliced_sequences, maxlen=None, padding='pre')"
      ],
      "metadata": {
        "id": "I8--kIJqRNwo"
      },
      "execution_count": 10,
      "outputs": []
    },
    {
      "cell_type": "code",
      "source": [
        "p_sequences.shape"
      ],
      "metadata": {
        "colab": {
          "base_uri": "https://localhost:8080/"
        },
        "id": "-dxoCersSv_c",
        "outputId": "a3b2b4bd-d8c3-40f3-f22c-74176a322b34"
      },
      "execution_count": 11,
      "outputs": [
        {
          "output_type": "execute_result",
          "data": {
            "text/plain": [
              "(12038, 16)"
            ]
          },
          "metadata": {},
          "execution_count": 11
        }
      ]
    },
    {
      "cell_type": "code",
      "source": [
        "# split  into input and output\n",
        "X = p_sequences[:, :-1]\n",
        "y = p_sequences[:, -1]\n",
        "X.shape, y.shape"
      ],
      "metadata": {
        "colab": {
          "base_uri": "https://localhost:8080/"
        },
        "id": "LRndjkR8S79s",
        "outputId": "1b16a7e7-ae26-4d03-cb6a-57c3dfde674c"
      },
      "execution_count": 12,
      "outputs": [
        {
          "output_type": "execute_result",
          "data": {
            "text/plain": [
              "((12038, 15), (12038,))"
            ]
          },
          "metadata": {},
          "execution_count": 12
        }
      ]
    },
    {
      "cell_type": "code",
      "source": [
        "y = tf.keras.utils.to_categorical(y)"
      ],
      "metadata": {
        "id": "EQTVTEApU7VE"
      },
      "execution_count": 13,
      "outputs": []
    },
    {
      "cell_type": "code",
      "source": [
        "vocab_size = len(tokenizer.word_index)+1"
      ],
      "metadata": {
        "id": "RdGF0OuCVLOj"
      },
      "execution_count": 14,
      "outputs": []
    },
    {
      "cell_type": "code",
      "source": [
        "vocab_size"
      ],
      "metadata": {
        "colab": {
          "base_uri": "https://localhost:8080/"
        },
        "id": "G_Fi3W51VUer",
        "outputId": "0cdbc471-66e3-4c37-85ad-521cf003a97b"
      },
      "execution_count": 15,
      "outputs": [
        {
          "output_type": "execute_result",
          "data": {
            "text/plain": [
              "2691"
            ]
          },
          "metadata": {},
          "execution_count": 15
        }
      ]
    },
    {
      "cell_type": "code",
      "source": [
        "len(y[0])"
      ],
      "metadata": {
        "colab": {
          "base_uri": "https://localhost:8080/"
        },
        "id": "XJFca2EzVXPa",
        "outputId": "61f55777-94fe-408e-d993-2448f24a0331"
      },
      "execution_count": 16,
      "outputs": [
        {
          "output_type": "execute_result",
          "data": {
            "text/plain": [
              "2691"
            ]
          },
          "metadata": {},
          "execution_count": 16
        }
      ]
    },
    {
      "cell_type": "code",
      "source": [
        "y.shape"
      ],
      "metadata": {
        "colab": {
          "base_uri": "https://localhost:8080/"
        },
        "id": "80gB7_29Va-r",
        "outputId": "28dcfe32-84a4-48eb-9d5a-201c13da8bab"
      },
      "execution_count": 17,
      "outputs": [
        {
          "output_type": "execute_result",
          "data": {
            "text/plain": [
              "(12038, 2691)"
            ]
          },
          "metadata": {},
          "execution_count": 17
        }
      ]
    },
    {
      "cell_type": "markdown",
      "source": [
        "# Model"
      ],
      "metadata": {
        "id": "6oMuJefFVfAq"
      }
    },
    {
      "cell_type": "code",
      "source": [
        "model = tf.keras.Sequential(\n",
        "    layers = [\n",
        "              tf.keras.layers.Input(shape=X.shape[1:]),\n",
        "              tf.keras.layers.Embedding(input_dim=vocab_size, output_dim=32),\n",
        "              tf.keras.layers.Bidirectional(tf.keras.layers.LSTM(units=64)),\n",
        "              tf.keras.layers.Dense(units=vocab_size, activation='softmax')\n",
        "    ]\n",
        ")\n",
        "model.summary()"
      ],
      "metadata": {
        "colab": {
          "base_uri": "https://localhost:8080/"
        },
        "id": "P1tHI04ZVcdL",
        "outputId": "6d48fc5e-c64f-4114-8db6-33dd950ef19e"
      },
      "execution_count": 18,
      "outputs": [
        {
          "output_type": "stream",
          "name": "stdout",
          "text": [
            "Model: \"sequential\"\n",
            "_________________________________________________________________\n",
            " Layer (type)                Output Shape              Param #   \n",
            "=================================================================\n",
            " embedding (Embedding)       (None, 15, 32)            86112     \n",
            "                                                                 \n",
            " bidirectional (Bidirectiona  (None, 128)              49664     \n",
            " l)                                                              \n",
            "                                                                 \n",
            " dense (Dense)               (None, 2691)              347139    \n",
            "                                                                 \n",
            "=================================================================\n",
            "Total params: 482,915\n",
            "Trainable params: 482,915\n",
            "Non-trainable params: 0\n",
            "_________________________________________________________________\n"
          ]
        }
      ]
    },
    {
      "cell_type": "code",
      "source": [
        "model.compile(optimizer='adam', loss='categorical_crossentropy', metrics=['accuracy'])\n",
        "model.fit(X, y, epochs=200)"
      ],
      "metadata": {
        "colab": {
          "base_uri": "https://localhost:8080/"
        },
        "id": "1-ZwjZsHWlZy",
        "outputId": "51873999-686e-4206-b04a-445dad55e8b4"
      },
      "execution_count": 19,
      "outputs": [
        {
          "output_type": "stream",
          "name": "stdout",
          "text": [
            "Epoch 1/200\n",
            "377/377 [==============================] - 10s 7ms/step - loss: 6.8014 - accuracy: 0.0650\n",
            "Epoch 2/200\n",
            "377/377 [==============================] - 3s 8ms/step - loss: 6.3279 - accuracy: 0.0665\n",
            "Epoch 3/200\n",
            "377/377 [==============================] - 3s 7ms/step - loss: 6.1703 - accuracy: 0.0765\n",
            "Epoch 4/200\n",
            "377/377 [==============================] - 3s 7ms/step - loss: 5.9911 - accuracy: 0.0846\n",
            "Epoch 5/200\n",
            "377/377 [==============================] - 3s 7ms/step - loss: 5.8124 - accuracy: 0.0920\n",
            "Epoch 6/200\n",
            "377/377 [==============================] - 3s 7ms/step - loss: 5.6445 - accuracy: 0.0978\n",
            "Epoch 7/200\n",
            "377/377 [==============================] - 3s 7ms/step - loss: 5.4885 - accuracy: 0.1052\n",
            "Epoch 8/200\n",
            "377/377 [==============================] - 3s 7ms/step - loss: 5.3474 - accuracy: 0.1112\n",
            "Epoch 9/200\n",
            "377/377 [==============================] - 3s 7ms/step - loss: 5.2107 - accuracy: 0.1177\n",
            "Epoch 10/200\n",
            "377/377 [==============================] - 3s 7ms/step - loss: 5.0759 - accuracy: 0.1254\n",
            "Epoch 11/200\n",
            "377/377 [==============================] - 3s 7ms/step - loss: 4.9481 - accuracy: 0.1314\n",
            "Epoch 12/200\n",
            "377/377 [==============================] - 3s 7ms/step - loss: 4.8180 - accuracy: 0.1387\n",
            "Epoch 13/200\n",
            "377/377 [==============================] - 3s 7ms/step - loss: 4.6876 - accuracy: 0.1481\n",
            "Epoch 14/200\n",
            "377/377 [==============================] - 3s 7ms/step - loss: 4.5550 - accuracy: 0.1551\n",
            "Epoch 15/200\n",
            "377/377 [==============================] - 3s 7ms/step - loss: 4.4278 - accuracy: 0.1642\n",
            "Epoch 16/200\n",
            "377/377 [==============================] - 3s 7ms/step - loss: 4.3101 - accuracy: 0.1710\n",
            "Epoch 17/200\n",
            "377/377 [==============================] - 3s 8ms/step - loss: 4.1920 - accuracy: 0.1823\n",
            "Epoch 18/200\n",
            "377/377 [==============================] - 3s 7ms/step - loss: 4.0760 - accuracy: 0.1931\n",
            "Epoch 19/200\n",
            "377/377 [==============================] - 3s 8ms/step - loss: 3.9606 - accuracy: 0.2038\n",
            "Epoch 20/200\n",
            "377/377 [==============================] - 3s 8ms/step - loss: 3.8563 - accuracy: 0.2140\n",
            "Epoch 21/200\n",
            "377/377 [==============================] - 3s 7ms/step - loss: 3.7493 - accuracy: 0.2279\n",
            "Epoch 22/200\n",
            "377/377 [==============================] - 3s 7ms/step - loss: 3.6390 - accuracy: 0.2452\n",
            "Epoch 23/200\n",
            "377/377 [==============================] - 3s 7ms/step - loss: 3.5322 - accuracy: 0.2627\n",
            "Epoch 24/200\n",
            "377/377 [==============================] - 3s 7ms/step - loss: 3.4336 - accuracy: 0.2785\n",
            "Epoch 25/200\n",
            "377/377 [==============================] - 3s 7ms/step - loss: 3.3365 - accuracy: 0.2952\n",
            "Epoch 26/200\n",
            "377/377 [==============================] - 3s 7ms/step - loss: 3.2376 - accuracy: 0.3133\n",
            "Epoch 27/200\n",
            "377/377 [==============================] - 3s 7ms/step - loss: 3.1469 - accuracy: 0.3274\n",
            "Epoch 28/200\n",
            "377/377 [==============================] - 3s 7ms/step - loss: 3.0622 - accuracy: 0.3459\n",
            "Epoch 29/200\n",
            "377/377 [==============================] - 3s 7ms/step - loss: 2.9853 - accuracy: 0.3584\n",
            "Epoch 30/200\n",
            "377/377 [==============================] - 3s 7ms/step - loss: 2.8899 - accuracy: 0.3788\n",
            "Epoch 31/200\n",
            "377/377 [==============================] - 3s 7ms/step - loss: 2.8080 - accuracy: 0.3944\n",
            "Epoch 32/200\n",
            "377/377 [==============================] - 3s 8ms/step - loss: 2.7341 - accuracy: 0.4079\n",
            "Epoch 33/200\n",
            "377/377 [==============================] - 3s 7ms/step - loss: 2.6579 - accuracy: 0.4279\n",
            "Epoch 34/200\n",
            "377/377 [==============================] - 3s 7ms/step - loss: 2.5918 - accuracy: 0.4342\n",
            "Epoch 35/200\n",
            "377/377 [==============================] - 3s 8ms/step - loss: 2.5252 - accuracy: 0.4492\n",
            "Epoch 36/200\n",
            "377/377 [==============================] - 3s 7ms/step - loss: 2.4703 - accuracy: 0.4634\n",
            "Epoch 37/200\n",
            "377/377 [==============================] - 3s 7ms/step - loss: 2.4020 - accuracy: 0.4771\n",
            "Epoch 38/200\n",
            "377/377 [==============================] - 3s 8ms/step - loss: 2.3372 - accuracy: 0.4843\n",
            "Epoch 39/200\n",
            "377/377 [==============================] - 3s 8ms/step - loss: 2.2775 - accuracy: 0.4996\n",
            "Epoch 40/200\n",
            "377/377 [==============================] - 3s 7ms/step - loss: 2.2275 - accuracy: 0.5103\n",
            "Epoch 41/200\n",
            "377/377 [==============================] - 3s 7ms/step - loss: 2.1707 - accuracy: 0.5223\n",
            "Epoch 42/200\n",
            "377/377 [==============================] - 3s 7ms/step - loss: 2.1216 - accuracy: 0.5313\n",
            "Epoch 43/200\n",
            "377/377 [==============================] - 3s 8ms/step - loss: 2.0676 - accuracy: 0.5427\n",
            "Epoch 44/200\n",
            "377/377 [==============================] - 3s 8ms/step - loss: 2.0254 - accuracy: 0.5474\n",
            "Epoch 45/200\n",
            "377/377 [==============================] - 3s 8ms/step - loss: 1.9795 - accuracy: 0.5601\n",
            "Epoch 46/200\n",
            "377/377 [==============================] - 3s 8ms/step - loss: 1.9229 - accuracy: 0.5737\n",
            "Epoch 47/200\n",
            "377/377 [==============================] - 3s 8ms/step - loss: 1.8876 - accuracy: 0.5780\n",
            "Epoch 48/200\n",
            "377/377 [==============================] - 3s 7ms/step - loss: 1.8522 - accuracy: 0.5839\n",
            "Epoch 49/200\n",
            "377/377 [==============================] - 3s 8ms/step - loss: 1.8254 - accuracy: 0.5875\n",
            "Epoch 50/200\n",
            "377/377 [==============================] - 3s 8ms/step - loss: 1.7830 - accuracy: 0.5987\n",
            "Epoch 51/200\n",
            "377/377 [==============================] - 3s 8ms/step - loss: 1.7355 - accuracy: 0.6123\n",
            "Epoch 52/200\n",
            "377/377 [==============================] - 3s 8ms/step - loss: 1.6847 - accuracy: 0.6244\n",
            "Epoch 53/200\n",
            "377/377 [==============================] - 3s 8ms/step - loss: 1.6503 - accuracy: 0.6311\n",
            "Epoch 54/200\n",
            "377/377 [==============================] - 3s 8ms/step - loss: 1.6182 - accuracy: 0.6394\n",
            "Epoch 55/200\n",
            "377/377 [==============================] - 3s 8ms/step - loss: 1.5911 - accuracy: 0.6420\n",
            "Epoch 56/200\n",
            "377/377 [==============================] - 3s 8ms/step - loss: 1.5548 - accuracy: 0.6505\n",
            "Epoch 57/200\n",
            "377/377 [==============================] - 3s 7ms/step - loss: 1.5200 - accuracy: 0.6614\n",
            "Epoch 58/200\n",
            "377/377 [==============================] - 3s 7ms/step - loss: 1.4866 - accuracy: 0.6694\n",
            "Epoch 59/200\n",
            "377/377 [==============================] - 3s 7ms/step - loss: 1.4613 - accuracy: 0.6711\n",
            "Epoch 60/200\n",
            "377/377 [==============================] - 3s 7ms/step - loss: 1.4342 - accuracy: 0.6769\n",
            "Epoch 61/200\n",
            "377/377 [==============================] - 3s 8ms/step - loss: 1.4018 - accuracy: 0.6885\n",
            "Epoch 62/200\n",
            "377/377 [==============================] - 3s 8ms/step - loss: 1.3725 - accuracy: 0.6924\n",
            "Epoch 63/200\n",
            "377/377 [==============================] - 3s 7ms/step - loss: 1.3428 - accuracy: 0.6969\n",
            "Epoch 64/200\n",
            "377/377 [==============================] - 3s 7ms/step - loss: 1.3159 - accuracy: 0.7040\n",
            "Epoch 65/200\n",
            "377/377 [==============================] - 3s 7ms/step - loss: 1.2832 - accuracy: 0.7117\n",
            "Epoch 66/200\n",
            "377/377 [==============================] - 3s 7ms/step - loss: 1.2732 - accuracy: 0.7136\n",
            "Epoch 67/200\n",
            "377/377 [==============================] - 3s 7ms/step - loss: 1.2444 - accuracy: 0.7191\n",
            "Epoch 68/200\n",
            "377/377 [==============================] - 3s 7ms/step - loss: 1.2246 - accuracy: 0.7214\n",
            "Epoch 69/200\n",
            "377/377 [==============================] - 3s 7ms/step - loss: 1.1937 - accuracy: 0.7342\n",
            "Epoch 70/200\n",
            "377/377 [==============================] - 3s 7ms/step - loss: 1.1662 - accuracy: 0.7354\n",
            "Epoch 71/200\n",
            "377/377 [==============================] - 3s 7ms/step - loss: 1.1630 - accuracy: 0.7363\n",
            "Epoch 72/200\n",
            "377/377 [==============================] - 3s 7ms/step - loss: 1.1329 - accuracy: 0.7437\n",
            "Epoch 73/200\n",
            "377/377 [==============================] - 3s 7ms/step - loss: 1.1169 - accuracy: 0.7450\n",
            "Epoch 74/200\n",
            "377/377 [==============================] - 3s 7ms/step - loss: 1.0902 - accuracy: 0.7550\n",
            "Epoch 75/200\n",
            "377/377 [==============================] - 3s 8ms/step - loss: 1.0672 - accuracy: 0.7580\n",
            "Epoch 76/200\n",
            "377/377 [==============================] - 3s 8ms/step - loss: 1.0573 - accuracy: 0.7598\n",
            "Epoch 77/200\n",
            "377/377 [==============================] - 3s 7ms/step - loss: 1.0407 - accuracy: 0.7617\n",
            "Epoch 78/200\n",
            "377/377 [==============================] - 3s 7ms/step - loss: 1.0181 - accuracy: 0.7676\n",
            "Epoch 79/200\n",
            "377/377 [==============================] - 3s 7ms/step - loss: 1.0078 - accuracy: 0.7726\n",
            "Epoch 80/200\n",
            "377/377 [==============================] - 3s 7ms/step - loss: 0.9987 - accuracy: 0.7711\n",
            "Epoch 81/200\n",
            "377/377 [==============================] - 3s 7ms/step - loss: 0.9673 - accuracy: 0.7794\n",
            "Epoch 82/200\n",
            "377/377 [==============================] - 3s 7ms/step - loss: 0.9556 - accuracy: 0.7802\n",
            "Epoch 83/200\n",
            "377/377 [==============================] - 3s 8ms/step - loss: 0.9436 - accuracy: 0.7870\n",
            "Epoch 84/200\n",
            "377/377 [==============================] - 3s 8ms/step - loss: 0.9226 - accuracy: 0.7873\n",
            "Epoch 85/200\n",
            "377/377 [==============================] - 3s 7ms/step - loss: 0.9008 - accuracy: 0.7946\n",
            "Epoch 86/200\n",
            "377/377 [==============================] - 3s 7ms/step - loss: 0.9112 - accuracy: 0.7904\n",
            "Epoch 87/200\n",
            "377/377 [==============================] - 3s 7ms/step - loss: 0.8951 - accuracy: 0.7953\n",
            "Epoch 88/200\n",
            "377/377 [==============================] - 3s 7ms/step - loss: 0.8726 - accuracy: 0.8017\n",
            "Epoch 89/200\n",
            "377/377 [==============================] - 3s 7ms/step - loss: 0.8594 - accuracy: 0.8029\n",
            "Epoch 90/200\n",
            "377/377 [==============================] - 3s 7ms/step - loss: 0.8457 - accuracy: 0.8026\n",
            "Epoch 91/200\n",
            "377/377 [==============================] - 3s 7ms/step - loss: 0.8357 - accuracy: 0.8068\n",
            "Epoch 92/200\n",
            "377/377 [==============================] - 3s 8ms/step - loss: 0.8255 - accuracy: 0.8057\n",
            "Epoch 93/200\n",
            "377/377 [==============================] - 3s 7ms/step - loss: 0.8158 - accuracy: 0.8099\n",
            "Epoch 94/200\n",
            "377/377 [==============================] - 3s 8ms/step - loss: 0.8005 - accuracy: 0.8123\n",
            "Epoch 95/200\n",
            "377/377 [==============================] - 3s 8ms/step - loss: 0.7892 - accuracy: 0.8138\n",
            "Epoch 96/200\n",
            "377/377 [==============================] - 3s 8ms/step - loss: 0.7909 - accuracy: 0.8137\n",
            "Epoch 97/200\n",
            "377/377 [==============================] - 3s 8ms/step - loss: 0.7774 - accuracy: 0.8167\n",
            "Epoch 98/200\n",
            "377/377 [==============================] - 3s 8ms/step - loss: 0.7730 - accuracy: 0.8168\n",
            "Epoch 99/200\n",
            "377/377 [==============================] - 3s 8ms/step - loss: 0.7578 - accuracy: 0.8208\n",
            "Epoch 100/200\n",
            "377/377 [==============================] - 3s 8ms/step - loss: 0.7447 - accuracy: 0.8220\n",
            "Epoch 101/200\n",
            "377/377 [==============================] - 3s 8ms/step - loss: 0.7447 - accuracy: 0.8197\n",
            "Epoch 102/200\n",
            "377/377 [==============================] - 3s 8ms/step - loss: 0.7388 - accuracy: 0.8221\n",
            "Epoch 103/200\n",
            "377/377 [==============================] - 3s 8ms/step - loss: 0.7294 - accuracy: 0.8257\n",
            "Epoch 104/200\n",
            "377/377 [==============================] - 3s 8ms/step - loss: 0.7128 - accuracy: 0.8267\n",
            "Epoch 105/200\n",
            "377/377 [==============================] - 3s 8ms/step - loss: 0.7097 - accuracy: 0.8291\n",
            "Epoch 106/200\n",
            "377/377 [==============================] - 3s 8ms/step - loss: 0.7139 - accuracy: 0.8258\n",
            "Epoch 107/200\n",
            "377/377 [==============================] - 3s 8ms/step - loss: 0.7025 - accuracy: 0.8286\n",
            "Epoch 108/200\n",
            "377/377 [==============================] - 3s 8ms/step - loss: 0.6815 - accuracy: 0.8340\n",
            "Epoch 109/200\n",
            "377/377 [==============================] - 3s 8ms/step - loss: 0.6972 - accuracy: 0.8300\n",
            "Epoch 110/200\n",
            "377/377 [==============================] - 3s 8ms/step - loss: 0.6756 - accuracy: 0.8340\n",
            "Epoch 111/200\n",
            "377/377 [==============================] - 3s 8ms/step - loss: 0.6639 - accuracy: 0.8351\n",
            "Epoch 112/200\n",
            "377/377 [==============================] - 3s 8ms/step - loss: 0.6673 - accuracy: 0.8343\n",
            "Epoch 113/200\n",
            "377/377 [==============================] - 3s 8ms/step - loss: 0.6629 - accuracy: 0.8374\n",
            "Epoch 114/200\n",
            "377/377 [==============================] - 3s 8ms/step - loss: 0.6476 - accuracy: 0.8373\n",
            "Epoch 115/200\n",
            "377/377 [==============================] - 3s 8ms/step - loss: 0.6431 - accuracy: 0.8354\n",
            "Epoch 116/200\n",
            "377/377 [==============================] - 3s 8ms/step - loss: 0.6462 - accuracy: 0.8381\n",
            "Epoch 117/200\n",
            "377/377 [==============================] - 3s 8ms/step - loss: 0.6542 - accuracy: 0.8353\n",
            "Epoch 118/200\n",
            "377/377 [==============================] - 3s 8ms/step - loss: 0.6465 - accuracy: 0.8371\n",
            "Epoch 119/200\n",
            "377/377 [==============================] - 3s 7ms/step - loss: 0.6251 - accuracy: 0.8409\n",
            "Epoch 120/200\n",
            "377/377 [==============================] - 3s 7ms/step - loss: 0.6154 - accuracy: 0.8435\n",
            "Epoch 121/200\n",
            "377/377 [==============================] - 3s 8ms/step - loss: 0.6059 - accuracy: 0.8457\n",
            "Epoch 122/200\n",
            "377/377 [==============================] - 3s 8ms/step - loss: 0.6100 - accuracy: 0.8447\n",
            "Epoch 123/200\n",
            "377/377 [==============================] - 3s 7ms/step - loss: 0.6092 - accuracy: 0.8437\n",
            "Epoch 124/200\n",
            "377/377 [==============================] - 3s 7ms/step - loss: 0.6193 - accuracy: 0.8407\n",
            "Epoch 125/200\n",
            "377/377 [==============================] - 3s 7ms/step - loss: 0.6312 - accuracy: 0.8346\n",
            "Epoch 126/200\n",
            "377/377 [==============================] - 3s 8ms/step - loss: 0.6287 - accuracy: 0.8364\n",
            "Epoch 127/200\n",
            "377/377 [==============================] - 3s 7ms/step - loss: 0.5934 - accuracy: 0.8457\n",
            "Epoch 128/200\n",
            "377/377 [==============================] - 3s 8ms/step - loss: 0.5789 - accuracy: 0.8469\n",
            "Epoch 129/200\n",
            "377/377 [==============================] - 3s 7ms/step - loss: 0.5816 - accuracy: 0.8481\n",
            "Epoch 130/200\n",
            "377/377 [==============================] - 3s 7ms/step - loss: 0.5810 - accuracy: 0.8457\n",
            "Epoch 131/200\n",
            "377/377 [==============================] - 3s 7ms/step - loss: 0.5771 - accuracy: 0.8488\n",
            "Epoch 132/200\n",
            "377/377 [==============================] - 3s 7ms/step - loss: 0.5703 - accuracy: 0.8467\n",
            "Epoch 133/200\n",
            "377/377 [==============================] - 3s 7ms/step - loss: 0.5762 - accuracy: 0.8453\n",
            "Epoch 134/200\n",
            "377/377 [==============================] - 3s 7ms/step - loss: 0.5893 - accuracy: 0.8436\n",
            "Epoch 135/200\n",
            "377/377 [==============================] - 3s 7ms/step - loss: 0.5831 - accuracy: 0.8461\n",
            "Epoch 136/200\n",
            "377/377 [==============================] - 3s 7ms/step - loss: 0.5630 - accuracy: 0.8491\n",
            "Epoch 137/200\n",
            "377/377 [==============================] - 3s 7ms/step - loss: 0.5691 - accuracy: 0.8464\n",
            "Epoch 138/200\n",
            "377/377 [==============================] - 3s 7ms/step - loss: 0.5685 - accuracy: 0.8476\n",
            "Epoch 139/200\n",
            "377/377 [==============================] - 3s 7ms/step - loss: 0.5637 - accuracy: 0.8474\n",
            "Epoch 140/200\n",
            "377/377 [==============================] - 3s 7ms/step - loss: 0.5507 - accuracy: 0.8481\n",
            "Epoch 141/200\n",
            "377/377 [==============================] - 3s 7ms/step - loss: 0.5510 - accuracy: 0.8481\n",
            "Epoch 142/200\n",
            "377/377 [==============================] - 3s 7ms/step - loss: 0.5515 - accuracy: 0.8498\n",
            "Epoch 143/200\n",
            "377/377 [==============================] - 3s 7ms/step - loss: 0.5589 - accuracy: 0.8439\n",
            "Epoch 144/200\n",
            "377/377 [==============================] - 3s 7ms/step - loss: 0.5519 - accuracy: 0.8485\n",
            "Epoch 145/200\n",
            "377/377 [==============================] - 3s 8ms/step - loss: 0.5484 - accuracy: 0.8503\n",
            "Epoch 146/200\n",
            "377/377 [==============================] - 3s 7ms/step - loss: 0.5445 - accuracy: 0.8495\n",
            "Epoch 147/200\n",
            "377/377 [==============================] - 3s 8ms/step - loss: 0.5397 - accuracy: 0.8523\n",
            "Epoch 148/200\n",
            "377/377 [==============================] - 3s 8ms/step - loss: 0.5573 - accuracy: 0.8452\n",
            "Epoch 149/200\n",
            "377/377 [==============================] - 3s 8ms/step - loss: 0.5393 - accuracy: 0.8506\n",
            "Epoch 150/200\n",
            "377/377 [==============================] - 3s 7ms/step - loss: 0.5329 - accuracy: 0.8501\n",
            "Epoch 151/200\n",
            "377/377 [==============================] - 3s 7ms/step - loss: 0.5492 - accuracy: 0.8491\n",
            "Epoch 152/200\n",
            "377/377 [==============================] - 3s 7ms/step - loss: 0.5495 - accuracy: 0.8485\n",
            "Epoch 153/200\n",
            "377/377 [==============================] - 3s 7ms/step - loss: 0.5370 - accuracy: 0.8490\n",
            "Epoch 154/200\n",
            "377/377 [==============================] - 3s 7ms/step - loss: 0.5267 - accuracy: 0.8511\n",
            "Epoch 155/200\n",
            "377/377 [==============================] - 3s 7ms/step - loss: 0.5218 - accuracy: 0.8533\n",
            "Epoch 156/200\n",
            "377/377 [==============================] - 3s 7ms/step - loss: 0.5206 - accuracy: 0.8532\n",
            "Epoch 157/200\n",
            "377/377 [==============================] - 3s 8ms/step - loss: 0.5226 - accuracy: 0.8517\n",
            "Epoch 158/200\n",
            "377/377 [==============================] - 3s 7ms/step - loss: 0.5327 - accuracy: 0.8506\n",
            "Epoch 159/200\n",
            "377/377 [==============================] - 3s 7ms/step - loss: 0.5371 - accuracy: 0.8478\n",
            "Epoch 160/200\n",
            "377/377 [==============================] - 3s 8ms/step - loss: 0.5349 - accuracy: 0.8492\n",
            "Epoch 161/200\n",
            "377/377 [==============================] - 3s 7ms/step - loss: 0.5253 - accuracy: 0.8505\n",
            "Epoch 162/200\n",
            "377/377 [==============================] - 3s 7ms/step - loss: 0.5171 - accuracy: 0.8529\n",
            "Epoch 163/200\n",
            "377/377 [==============================] - 3s 7ms/step - loss: 0.5155 - accuracy: 0.8532\n",
            "Epoch 164/200\n",
            "377/377 [==============================] - 3s 7ms/step - loss: 0.5133 - accuracy: 0.8515\n",
            "Epoch 165/200\n",
            "377/377 [==============================] - 3s 7ms/step - loss: 0.5115 - accuracy: 0.8530\n",
            "Epoch 166/200\n",
            "377/377 [==============================] - 3s 7ms/step - loss: 0.5145 - accuracy: 0.8521\n",
            "Epoch 167/200\n",
            "377/377 [==============================] - 3s 7ms/step - loss: 0.5195 - accuracy: 0.8511\n",
            "Epoch 168/200\n",
            "377/377 [==============================] - 3s 7ms/step - loss: 0.5147 - accuracy: 0.8512\n",
            "Epoch 169/200\n",
            "377/377 [==============================] - 3s 7ms/step - loss: 0.5137 - accuracy: 0.8516\n",
            "Epoch 170/200\n",
            "377/377 [==============================] - 3s 7ms/step - loss: 0.5111 - accuracy: 0.8506\n",
            "Epoch 171/200\n",
            "377/377 [==============================] - 3s 7ms/step - loss: 0.5289 - accuracy: 0.8481\n",
            "Epoch 172/200\n",
            "377/377 [==============================] - 3s 7ms/step - loss: 0.5184 - accuracy: 0.8506\n",
            "Epoch 173/200\n",
            "377/377 [==============================] - 3s 7ms/step - loss: 0.5147 - accuracy: 0.8505\n",
            "Epoch 174/200\n",
            "377/377 [==============================] - 3s 7ms/step - loss: 0.5310 - accuracy: 0.8492\n",
            "Epoch 175/200\n",
            "377/377 [==============================] - 3s 7ms/step - loss: 0.5154 - accuracy: 0.8514\n",
            "Epoch 176/200\n",
            "377/377 [==============================] - 3s 7ms/step - loss: 0.5039 - accuracy: 0.8528\n",
            "Epoch 177/200\n",
            "377/377 [==============================] - 3s 7ms/step - loss: 0.5015 - accuracy: 0.8520\n",
            "Epoch 178/200\n",
            "377/377 [==============================] - 3s 7ms/step - loss: 0.5108 - accuracy: 0.8524\n",
            "Epoch 179/200\n",
            "377/377 [==============================] - 3s 7ms/step - loss: 0.5029 - accuracy: 0.8539\n",
            "Epoch 180/200\n",
            "377/377 [==============================] - 3s 7ms/step - loss: 0.4945 - accuracy: 0.8537\n",
            "Epoch 181/200\n",
            "377/377 [==============================] - 3s 7ms/step - loss: 0.4926 - accuracy: 0.8526\n",
            "Epoch 182/200\n",
            "377/377 [==============================] - 3s 8ms/step - loss: 0.5036 - accuracy: 0.8526\n",
            "Epoch 183/200\n",
            "377/377 [==============================] - 3s 7ms/step - loss: 0.5055 - accuracy: 0.8516\n",
            "Epoch 184/200\n",
            "377/377 [==============================] - 3s 7ms/step - loss: 0.5059 - accuracy: 0.8511\n",
            "Epoch 185/200\n",
            "377/377 [==============================] - 3s 7ms/step - loss: 0.5099 - accuracy: 0.8529\n",
            "Epoch 186/200\n",
            "377/377 [==============================] - 3s 7ms/step - loss: 0.5062 - accuracy: 0.8528\n",
            "Epoch 187/200\n",
            "377/377 [==============================] - 3s 7ms/step - loss: 0.5155 - accuracy: 0.8499\n",
            "Epoch 188/200\n",
            "377/377 [==============================] - 3s 7ms/step - loss: 0.5008 - accuracy: 0.8521\n",
            "Epoch 189/200\n",
            "377/377 [==============================] - 3s 7ms/step - loss: 0.4924 - accuracy: 0.8533\n",
            "Epoch 190/200\n",
            "377/377 [==============================] - 3s 7ms/step - loss: 0.4885 - accuracy: 0.8536\n",
            "Epoch 191/200\n",
            "377/377 [==============================] - 3s 7ms/step - loss: 0.4869 - accuracy: 0.8545\n",
            "Epoch 192/200\n",
            "377/377 [==============================] - 3s 8ms/step - loss: 0.4865 - accuracy: 0.8540\n",
            "Epoch 193/200\n",
            "377/377 [==============================] - 3s 7ms/step - loss: 0.4964 - accuracy: 0.8520\n",
            "Epoch 194/200\n",
            "377/377 [==============================] - 3s 7ms/step - loss: 0.5037 - accuracy: 0.8512\n",
            "Epoch 195/200\n",
            "377/377 [==============================] - 3s 7ms/step - loss: 0.5291 - accuracy: 0.8462\n",
            "Epoch 196/200\n",
            "377/377 [==============================] - 3s 8ms/step - loss: 0.5079 - accuracy: 0.8509\n",
            "Epoch 197/200\n",
            "377/377 [==============================] - 3s 8ms/step - loss: 0.4966 - accuracy: 0.8532\n",
            "Epoch 198/200\n",
            "377/377 [==============================] - 3s 8ms/step - loss: 0.4929 - accuracy: 0.8512\n",
            "Epoch 199/200\n",
            "377/377 [==============================] - 3s 8ms/step - loss: 0.4865 - accuracy: 0.8552\n",
            "Epoch 200/200\n",
            "377/377 [==============================] - 3s 8ms/step - loss: 0.4824 - accuracy: 0.8524\n"
          ]
        },
        {
          "output_type": "execute_result",
          "data": {
            "text/plain": [
              "<keras.callbacks.History at 0x7f42b01a03d0>"
            ]
          },
          "metadata": {},
          "execution_count": 19
        }
      ]
    },
    {
      "cell_type": "code",
      "source": [
        "text = \"Always beware and keep your\"\n",
        "predict_words = 20\n",
        "sequence = tokenizer.texts_to_sequences([text])[0]\n",
        "print(sequence)\n",
        "for i in range(20):\n",
        "  current_sequence = tf.keras.preprocessing.sequence.pad_sequences([sequence], maxlen=X.shape[1], padding=\"pre\", truncating=\"pre\")\n",
        "  pred = model.predict(current_sequence)\n",
        "  current_pred_index = pred.argmax(axis=1)[0]\n",
        "  if current_pred_index:\n",
        "    sequence.append(current_pred_index)"
      ],
      "metadata": {
        "colab": {
          "base_uri": "https://localhost:8080/"
        },
        "id": "zQhY6LQrX0wB",
        "outputId": "fabccf47-5090-4ff9-d513-5b2b2f868688"
      },
      "execution_count": 20,
      "outputs": [
        {
          "output_type": "stream",
          "name": "stdout",
          "text": [
            "[273, 799, 3, 205, 25]\n"
          ]
        }
      ]
    },
    {
      "cell_type": "code",
      "source": [
        "print(tokenizer.sequences_to_texts([sequence]))\n"
      ],
      "metadata": {
        "colab": {
          "base_uri": "https://localhost:8080/"
        },
        "id": "zhdeID7NaPvn",
        "outputId": "b95bd802-986d-4f63-e687-a7a0de537570"
      },
      "execution_count": 21,
      "outputs": [
        {
          "output_type": "stream",
          "name": "stdout",
          "text": [
            "['always beware and keep your garden fair hair me dead their fathers coast of clare haste to sure playboy friends great light look dublin breast']\n"
          ]
        }
      ]
    }
  ]
}